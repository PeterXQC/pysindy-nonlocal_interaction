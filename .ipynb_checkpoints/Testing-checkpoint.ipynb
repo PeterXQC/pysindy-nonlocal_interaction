{
 "cells": [
  {
   "cell_type": "code",
   "execution_count": 1,
   "metadata": {},
   "outputs": [],
   "source": [
    "import numpy as np\n",
    "from WeakPDELibrary import WeakPDELibrary\n",
    "import matplotlib.pyplot as plt"
   ]
  },
  {
   "cell_type": "code",
   "execution_count": 2,
   "metadata": {},
   "outputs": [],
   "source": [
    "mu = 0\n",
    "sigma = 1\n",
    "Gau = np.random.normal(mu, sigma, 100)"
   ]
  },
  {
   "cell_type": "code",
   "execution_count": 3,
   "metadata": {},
   "outputs": [],
   "source": [
    "t = np.linspace(1,200, 3)\n",
    "##y = np.exp(t) + np.sin(t) + Gau\n",
    "##grid = np.meshgrid(t, y)"
   ]
  },
  {
   "cell_type": "code",
   "execution_count": 4,
   "metadata": {},
   "outputs": [
    {
     "data": {
      "text/plain": [
       "(3,)"
      ]
     },
     "execution_count": 4,
     "metadata": {},
     "output_type": "execute_result"
    }
   ],
   "source": [
    "t.shape"
   ]
  },
  {
   "cell_type": "code",
   "execution_count": 5,
   "metadata": {},
   "outputs": [],
   "source": [
    "x = np.array([[0.,-1],[1.,0.],[2.,-1.]])"
   ]
  },
  {
   "cell_type": "code",
   "execution_count": 6,
   "metadata": {},
   "outputs": [
    {
     "data": {
      "text/plain": [
       "(3, 2)"
      ]
     },
     "execution_count": 6,
     "metadata": {},
     "output_type": "execute_result"
    }
   ],
   "source": [
    "x.shape"
   ]
  },
  {
   "cell_type": "code",
   "execution_count": 10,
   "metadata": {},
   "outputs": [
    {
     "name": "stdout",
     "output_type": "stream",
     "text": [
      "[999.]\n"
     ]
    },
    {
     "data": {
      "text/plain": [
       "['x0(exp)', 'x1(exp)', 'x0(sin)', 'x1(sin)']"
      ]
     },
     "execution_count": 10,
     "metadata": {},
     "output_type": "execute_result"
    }
   ],
   "source": [
    "t = [1,100.5,2000]\n",
    "x = np.array([[0.,-1],[1.,0.],[2.,-1.]])\n",
    "functions = [lambda x : np.exp(x), lambda x : np.sin(x)]\n",
    "function_names = [lambda x : x + \"(exp)\", lambda x : x + \"(sin)\"]\n",
    "lib = WeakPDELibrary(library_functions=functions,\n",
    "                     function_names = function_names, \n",
    "                     spatiotemporal_grid = t)\n",
    "lib.fit(x)\n",
    "lib.transform(x)\n",
    "np.array([[ 1.      ,  0.36787944, -0.84147098],\n",
    "        [ 2.71828183,  1.        ,  0.84147098],\n",
    "        [ 7.3890561 ,  0.36787944,  0.84147098]])\n",
    "lib.get_feature_names()\n",
    "##No interactions"
   ]
  },
  {
   "cell_type": "code",
   "execution_count": null,
   "metadata": {},
   "outputs": [],
   "source": []
  }
 ],
 "metadata": {
  "kernelspec": {
   "display_name": "Python 3",
   "language": "python",
   "name": "python3"
  },
  "language_info": {
   "codemirror_mode": {
    "name": "ipython",
    "version": 3
   },
   "file_extension": ".py",
   "mimetype": "text/x-python",
   "name": "python",
   "nbconvert_exporter": "python",
   "pygments_lexer": "ipython3",
   "version": "3.8.5"
  }
 },
 "nbformat": 4,
 "nbformat_minor": 4
}
