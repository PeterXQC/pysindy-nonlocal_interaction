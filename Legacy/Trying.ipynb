{
 "cells": [
  {
   "cell_type": "code",
   "execution_count": 162,
   "metadata": {},
   "outputs": [],
   "source": [
    "import numpy as np"
   ]
  },
  {
   "cell_type": "code",
   "execution_count": 163,
   "metadata": {},
   "outputs": [],
   "source": [
    "def indicators(x, endpts):\n",
    "    '''\n",
    "    if x value is inside the bound, return 1. Otherwise, return 0\n",
    "\n",
    "    Require:\n",
    "        x, left_bound, right_bound must have the same dimension\n",
    "\n",
    "    Parameters: \n",
    "\n",
    "            x: m x n vector representing the index of point to check (Time dimension should be excluded)\n",
    "\n",
    "            endpts: 2d (n x 2) array of index. First dimension is all the spatial dimensions, and second dimension are \n",
    "                    left and right bound of the subdomain in terms of index\n",
    "\n",
    "    `return: \n",
    "            1 or 0, should be clear enough\n",
    "    '''\n",
    "    print(x)\n",
    "    for i in range(len(endpts)):\n",
    "        np.add(x[i], endpts[i][0], out=x[i])\n",
    "    print(x)\n",
    "    for i in range(len(endpts)):\n",
    "        np.subtract(x[i], endpts[i][1], out=x[i])\n",
    "    print(x)    "
   ]
  },
  {
   "cell_type": "code",
   "execution_count": 173,
   "metadata": {},
   "outputs": [],
   "source": [
    "def setup_subdomains(spatial_grid, K):\n",
    "    \"\"\"Setup subdomains for nonlocal computation\n",
    "\n",
    "        Output format: A list of ndim elements containing lists of bounds of subdomains. In a 2D\n",
    "        case, an example would be [[[0, 1], [2, 4], [5, 9]], [[0, 4], [5, 12]]].\n",
    "        Note that the subdomains are uniform in each dimension.\n",
    "    \"\"\"\n",
    "#       spatial grid is this 2D tensor that stores the grid. \n",
    "#       We split each dimension into K (mostly) equally sized subdomains, where K is a parameter. \n",
    "#       There will be a total of K^ndim subdomains \n",
    "    created = []\n",
    "    bounds = []\n",
    "#     -1 to adjust for the last dimension, which indicates feature.\n",
    "    for i in np.arange(np.array(spatial_grid).ndim):\n",
    "#         does spatio-temporal grid have to have the same number of points in each spatial dimension?\n",
    "        print(length)\n",
    "        length = np.shape(spatial_grid)[0]\n",
    "    \n",
    "#         if length//K[i] < 2:\n",
    "# #             replace this with warning or break point\n",
    "#             print(\"Warning: too many subdomains created in axis\", i)\n",
    "        \n",
    "#       Calculate the length for each subdomain \n",
    "        subdomain_length = length//K[i]\n",
    "        remain = length % K[i]\n",
    "        size = np.multiply(np.ones(subdomain_length), K[i])\n",
    "        size = np.concatenate((np.add(size[0:remain], 1), size[remain:]))\n",
    "        bound = np.cumsum(size)\n",
    "        bounds.append(bound)\n",
    "        print(size)\n",
    "    return bounds"
   ]
  },
  {
   "cell_type": "code",
   "execution_count": 174,
   "metadata": {},
   "outputs": [],
   "source": [
    "spatial_grid = np.array([[1,2,3,4,5,6,7],[1,2,3,4,5,6,7,8,9,10],[1,2,3,4,5,6]], dtype = object)\n",
    "K = [4, 3, 2]"
   ]
  },
  {
   "cell_type": "code",
   "execution_count": 175,
   "metadata": {},
   "outputs": [
    {
     "ename": "UnboundLocalError",
     "evalue": "local variable 'length' referenced before assignment",
     "output_type": "error",
     "traceback": [
      "\u001b[1;31m---------------------------------------------------------------------------\u001b[0m",
      "\u001b[1;31mUnboundLocalError\u001b[0m                         Traceback (most recent call last)",
      "\u001b[1;32mc:\\Users\\benja\\Documents\\GitHub\\pysindy-nonlocal_interaction\\Trying.ipynb Cell 5\u001b[0m in \u001b[0;36m<cell line: 1>\u001b[1;34m()\u001b[0m\n\u001b[1;32m----> <a href='vscode-notebook-cell:/c%3A/Users/benja/Documents/GitHub/pysindy-nonlocal_interaction/Trying.ipynb#X36sZmlsZQ%3D%3D?line=0'>1</a>\u001b[0m a \u001b[39m=\u001b[39m setup_subdomains(spatial_grid, K)\n\u001b[0;32m      <a href='vscode-notebook-cell:/c%3A/Users/benja/Documents/GitHub/pysindy-nonlocal_interaction/Trying.ipynb#X36sZmlsZQ%3D%3D?line=1'>2</a>\u001b[0m a\n",
      "\u001b[1;32mc:\\Users\\benja\\Documents\\GitHub\\pysindy-nonlocal_interaction\\Trying.ipynb Cell 5\u001b[0m in \u001b[0;36msetup_subdomains\u001b[1;34m(spatial_grid, K)\u001b[0m\n\u001b[0;32m     <a href='vscode-notebook-cell:/c%3A/Users/benja/Documents/GitHub/pysindy-nonlocal_interaction/Trying.ipynb#X36sZmlsZQ%3D%3D?line=12'>13</a>\u001b[0m \u001b[39m#     -1 to adjust for the last dimension, which indicates feature.\u001b[39;00m\n\u001b[0;32m     <a href='vscode-notebook-cell:/c%3A/Users/benja/Documents/GitHub/pysindy-nonlocal_interaction/Trying.ipynb#X36sZmlsZQ%3D%3D?line=13'>14</a>\u001b[0m     \u001b[39mfor\u001b[39;00m i \u001b[39min\u001b[39;00m np\u001b[39m.\u001b[39marange(np\u001b[39m.\u001b[39marray(spatial_grid)\u001b[39m.\u001b[39mndim):\n\u001b[0;32m     <a href='vscode-notebook-cell:/c%3A/Users/benja/Documents/GitHub/pysindy-nonlocal_interaction/Trying.ipynb#X36sZmlsZQ%3D%3D?line=14'>15</a>\u001b[0m \u001b[39m#         does spatio-temporal grid have to have the same number of points in each spatial dimension?\u001b[39;00m\n\u001b[1;32m---> <a href='vscode-notebook-cell:/c%3A/Users/benja/Documents/GitHub/pysindy-nonlocal_interaction/Trying.ipynb#X36sZmlsZQ%3D%3D?line=15'>16</a>\u001b[0m         \u001b[39mprint\u001b[39m(length)\n\u001b[0;32m     <a href='vscode-notebook-cell:/c%3A/Users/benja/Documents/GitHub/pysindy-nonlocal_interaction/Trying.ipynb#X36sZmlsZQ%3D%3D?line=16'>17</a>\u001b[0m         length \u001b[39m=\u001b[39m np\u001b[39m.\u001b[39mshape(spatial_grid)[\u001b[39m0\u001b[39m]\n\u001b[0;32m     <a href='vscode-notebook-cell:/c%3A/Users/benja/Documents/GitHub/pysindy-nonlocal_interaction/Trying.ipynb#X36sZmlsZQ%3D%3D?line=18'>19</a>\u001b[0m \u001b[39m#         if length//K[i] < 2:\u001b[39;00m\n\u001b[0;32m     <a href='vscode-notebook-cell:/c%3A/Users/benja/Documents/GitHub/pysindy-nonlocal_interaction/Trying.ipynb#X36sZmlsZQ%3D%3D?line=19'>20</a>\u001b[0m \u001b[39m# #             replace this with warning or break point\u001b[39;00m\n\u001b[0;32m     <a href='vscode-notebook-cell:/c%3A/Users/benja/Documents/GitHub/pysindy-nonlocal_interaction/Trying.ipynb#X36sZmlsZQ%3D%3D?line=20'>21</a>\u001b[0m \u001b[39m#             print(\"Warning: too many subdomains created in axis\", i)\u001b[39;00m\n\u001b[0;32m     <a href='vscode-notebook-cell:/c%3A/Users/benja/Documents/GitHub/pysindy-nonlocal_interaction/Trying.ipynb#X36sZmlsZQ%3D%3D?line=21'>22</a>\u001b[0m         \n\u001b[0;32m     <a href='vscode-notebook-cell:/c%3A/Users/benja/Documents/GitHub/pysindy-nonlocal_interaction/Trying.ipynb#X36sZmlsZQ%3D%3D?line=22'>23</a>\u001b[0m \u001b[39m#       Calculate the length for each subdomain \u001b[39;00m\n",
      "\u001b[1;31mUnboundLocalError\u001b[0m: local variable 'length' referenced before assignment"
     ]
    }
   ],
   "source": [
    "a = setup_subdomains(spatial_grid, K)\n",
    "a"
   ]
  },
  {
   "cell_type": "code",
   "execution_count": 165,
   "metadata": {},
   "outputs": [],
   "source": [
    "def nd_iterator(index, K):\n",
    "    '''\n",
    "    index: the 1D index of the nd item to recover\n",
    "    K: number of items per dimension, corresponding to each of the n dimensions.\n",
    "    \n",
    "    return:\n",
    "    nd index of the item with 1D index to be \"index\"\n",
    "    '''\n",
    "    nd_index = [index % K[0]]\n",
    "    dividor = 1\n",
    "    remaining_index = index\n",
    "    for i in np.arange(len(K)-1):\n",
    "        remaining_index -= nd_index[i]*dividor\n",
    "        dividor *= K[i]\n",
    "        this_index = remaining_index // dividor % K[i+1]\n",
    "        nd_index.append(this_index)\n",
    "    return nd_index\n",
    "def subdomain_iterator(index, bounds, K):\n",
    "    '''\n",
    "    bounds: subdomain dividor, in standard setup_subdomains format\n",
    "    nd_index: nd index of a specific subdomain, in nd_iterator standard output format.\n",
    "    \n",
    "    return:\n",
    "    boundary of that subdomain in standard nonlocal format.\n",
    "    '''\n",
    "    nd_index = nd_iterator(index, K)\n",
    "    bound = []\n",
    "    for i in np.arange(len(nd_index)):\n",
    "        if nd_index[i] == 0:\n",
    "            bound.append([0, bounds[i][0]-1])\n",
    "        else:\n",
    "            bound.append([bounds[i][nd_index[i]-1], bounds[i][nd_index[i]]-1])\n",
    "    \n",
    "    return np.reshape(bound, (len(nd_index), 2))"
   ]
  },
  {
   "cell_type": "code",
   "execution_count": null,
   "metadata": {},
   "outputs": [],
   "source": []
  },
  {
   "cell_type": "code",
   "execution_count": 166,
   "metadata": {},
   "outputs": [],
   "source": [
    "spatial_grid = np.array([[1,2,3,4,5,6,7],[1,2,3,4,5,6,7,8,9,10],[1,2,3,4,5,6]], dtype = object)\n",
    "K = [4, 3, 2]"
   ]
  },
  {
   "cell_type": "code",
   "execution_count": 167,
   "metadata": {},
   "outputs": [
    {
     "name": "stdout",
     "output_type": "stream",
     "text": [
      "[list([1, 2, 3, 4, 5, 6, 7]) list([1, 2, 3, 4, 5, 6, 7, 8, 9, 10])\n",
      " list([1, 2, 3, 4, 5, 6])]\n"
     ]
    }
   ],
   "source": [
    "print(spatial_grid)"
   ]
  },
  {
   "cell_type": "code",
   "execution_count": 168,
   "metadata": {},
   "outputs": [
    {
     "name": "stdout",
     "output_type": "stream",
     "text": [
      "3\n"
     ]
    }
   ],
   "source": [
    "np.shape(spatial_grid)\n",
    "print(np.shape(spatial_grid)[0])"
   ]
  },
  {
   "cell_type": "code",
   "execution_count": 169,
   "metadata": {},
   "outputs": [
    {
     "name": "stdout",
     "output_type": "stream",
     "text": [
      "[]\n"
     ]
    },
    {
     "data": {
      "text/plain": [
       "[array([], dtype=float64)]"
      ]
     },
     "execution_count": 169,
     "metadata": {},
     "output_type": "execute_result"
    }
   ],
   "source": [
    "a = setup_subdomains(spatial_grid, K)\n",
    "a"
   ]
  },
  {
   "cell_type": "code",
   "execution_count": 170,
   "metadata": {},
   "outputs": [
    {
     "ename": "IndexError",
     "evalue": "index 0 is out of bounds for axis 0 with size 0",
     "output_type": "error",
     "traceback": [
      "\u001b[1;31m---------------------------------------------------------------------------\u001b[0m",
      "\u001b[1;31mIndexError\u001b[0m                                Traceback (most recent call last)",
      "\u001b[1;32mc:\\Users\\benja\\Documents\\GitHub\\pysindy-nonlocal_interaction\\Trying.ipynb Cell 10\u001b[0m in \u001b[0;36m<cell line: 1>\u001b[1;34m()\u001b[0m\n\u001b[1;32m----> <a href='vscode-notebook-cell:/c%3A/Users/benja/Documents/GitHub/pysindy-nonlocal_interaction/Trying.ipynb#X32sZmlsZQ%3D%3D?line=0'>1</a>\u001b[0m subdomain_iterator(\u001b[39m1\u001b[39;49m, a, K)\n",
      "\u001b[1;32mc:\\Users\\benja\\Documents\\GitHub\\pysindy-nonlocal_interaction\\Trying.ipynb Cell 10\u001b[0m in \u001b[0;36msubdomain_iterator\u001b[1;34m(index, bounds, K)\u001b[0m\n\u001b[0;32m     <a href='vscode-notebook-cell:/c%3A/Users/benja/Documents/GitHub/pysindy-nonlocal_interaction/Trying.ipynb#X32sZmlsZQ%3D%3D?line=29'>30</a>\u001b[0m         bound\u001b[39m.\u001b[39mappend([\u001b[39m0\u001b[39m, bounds[i][\u001b[39m0\u001b[39m]\u001b[39m-\u001b[39m\u001b[39m1\u001b[39m])\n\u001b[0;32m     <a href='vscode-notebook-cell:/c%3A/Users/benja/Documents/GitHub/pysindy-nonlocal_interaction/Trying.ipynb#X32sZmlsZQ%3D%3D?line=30'>31</a>\u001b[0m     \u001b[39melse\u001b[39;00m:\n\u001b[1;32m---> <a href='vscode-notebook-cell:/c%3A/Users/benja/Documents/GitHub/pysindy-nonlocal_interaction/Trying.ipynb#X32sZmlsZQ%3D%3D?line=31'>32</a>\u001b[0m         bound\u001b[39m.\u001b[39mappend([bounds[i][nd_index[i]\u001b[39m-\u001b[39;49m\u001b[39m1\u001b[39;49m], bounds[i][nd_index[i]]\u001b[39m-\u001b[39m\u001b[39m1\u001b[39m])\n\u001b[0;32m     <a href='vscode-notebook-cell:/c%3A/Users/benja/Documents/GitHub/pysindy-nonlocal_interaction/Trying.ipynb#X32sZmlsZQ%3D%3D?line=33'>34</a>\u001b[0m \u001b[39mreturn\u001b[39;00m np\u001b[39m.\u001b[39mreshape(bound, (\u001b[39mlen\u001b[39m(nd_index), \u001b[39m2\u001b[39m))\n",
      "\u001b[1;31mIndexError\u001b[0m: index 0 is out of bounds for axis 0 with size 0"
     ]
    }
   ],
   "source": [
    "subdomain_iterator(1, a, K)"
   ]
  },
  {
   "cell_type": "code",
   "execution_count": null,
   "metadata": {},
   "outputs": [
    {
     "data": {
      "text/plain": [
       "[array([2, 4, 6, 7]), array([3, 5, 7])]"
      ]
     },
     "execution_count": 52,
     "metadata": {},
     "output_type": "execute_result"
    }
   ],
   "source": [
    "a"
   ]
  },
  {
   "cell_type": "code",
   "execution_count": null,
   "metadata": {},
   "outputs": [],
   "source": [
    "a = [1,2,3,4,5]\n",
    "a = np.array(a)"
   ]
  },
  {
   "cell_type": "code",
   "execution_count": null,
   "metadata": {},
   "outputs": [
    {
     "data": {
      "text/plain": [
       "array([5, 5, 5])"
      ]
     },
     "execution_count": 5,
     "metadata": {},
     "output_type": "execute_result"
    }
   ],
   "source": [
    "import numpy as np\n",
    "np.array([5] * 3)"
   ]
  },
  {
   "cell_type": "code",
   "execution_count": null,
   "metadata": {},
   "outputs": [
    {
     "data": {
      "text/plain": [
       "array([0, 1, 2, 3, 4, 5, 6])"
      ]
     },
     "execution_count": 31,
     "metadata": {},
     "output_type": "execute_result"
    }
   ],
   "source": [
    "a = 5\n",
    "b = np.array([0,1,2,3,4,5,6])\n",
    "c = np.array([6,7])\n",
    "# for j in np.arange(a):\n",
    "#     b[j] += 1;\n",
    "b"
   ]
  },
  {
   "cell_type": "code",
   "execution_count": null,
   "metadata": {},
   "outputs": [
    {
     "data": {
      "text/plain": [
       "array([1, 2, 3, 4, 5, 5, 6])"
      ]
     },
     "execution_count": 33,
     "metadata": {},
     "output_type": "execute_result"
    }
   ],
   "source": [
    "b = np.concatenate((np.add(b[0:a], 1), b[a:]))\n",
    "b"
   ]
  },
  {
   "cell_type": "code",
   "execution_count": null,
   "metadata": {},
   "outputs": [
    {
     "data": {
      "text/plain": [
       "array([0, 1, 2, 3, 4, 6, 7])"
      ]
     },
     "execution_count": 26,
     "metadata": {},
     "output_type": "execute_result"
    }
   ],
   "source": [
    "b = np.concatenate((b[0:a], c))\n",
    "b"
   ]
  },
  {
   "cell_type": "code",
   "execution_count": null,
   "metadata": {},
   "outputs": [
    {
     "name": "stdout",
     "output_type": "stream",
     "text": [
      "[[1 2]\n",
      " [3 4]\n",
      " [5 6]]\n",
      "[1 2 3 4 5 6]\n"
     ]
    }
   ],
   "source": [
    "print(x)\n",
    "print(x.flatten())"
   ]
  },
  {
   "cell_type": "code",
   "execution_count": null,
   "metadata": {},
   "outputs": [
    {
     "name": "stdout",
     "output_type": "stream",
     "text": [
      "[[3 4 5]\n",
      " [1 3 5]\n",
      " [3 5 7]]\n"
     ]
    }
   ],
   "source": [
    "y = np.array([[3,4,5],[1,3,5],[3,5,7]])\n",
    "print(y)"
   ]
  },
  {
   "cell_type": "code",
   "execution_count": null,
   "metadata": {},
   "outputs": [
    {
     "name": "stdout",
     "output_type": "stream",
     "text": [
      "[[ 2  3  4]\n",
      " [ 2  4  6]\n",
      " [ 6  8 10]]\n",
      "[[ 3  4  5]\n",
      " [ 5  7  9]\n",
      " [11 13 15]]\n",
      "[[1 2 3]\n",
      " [1 3 5]\n",
      " [5 7 9]]\n"
     ]
    }
   ],
   "source": [
    "indicators(y, x)"
   ]
  },
  {
   "cell_type": "code",
   "execution_count": null,
   "metadata": {},
   "outputs": [
    {
     "data": {
      "text/plain": [
       "3"
      ]
     },
     "execution_count": 19,
     "metadata": {},
     "output_type": "execute_result"
    }
   ],
   "source": [
    "len(y)"
   ]
  },
  {
   "cell_type": "code",
   "execution_count": null,
   "metadata": {},
   "outputs": [],
   "source": [
    "upper_limit = 5\n",
    "lower_limit = 1\n",
    "a = np.array([1,2,3,4,5])\n",
    "your_mask = np.abs(a- 0.5*(upper_limit+lower_limit))<0.5*(upper_limit-lower_limit)"
   ]
  },
  {
   "cell_type": "code",
   "execution_count": null,
   "metadata": {},
   "outputs": [
    {
     "data": {
      "text/plain": [
       "array([False,  True,  True,  True, False])"
      ]
     },
     "execution_count": 37,
     "metadata": {},
     "output_type": "execute_result"
    }
   ],
   "source": [
    "your_mask"
   ]
  },
  {
   "cell_type": "code",
   "execution_count": null,
   "metadata": {},
   "outputs": [],
   "source": [
    "\n",
    "b = np.linspace(1,100,10**9)"
   ]
  },
  {
   "cell_type": "code",
   "execution_count": null,
   "metadata": {},
   "outputs": [],
   "source": [
    "upper_limit = 5\n",
    "lower_limit = 1\n",
    "your_mask = np.abs(b- 0.5*(upper_limit+lower_limit))<0.5*(upper_limit-lower_limit)"
   ]
  },
  {
   "cell_type": "code",
   "execution_count": null,
   "metadata": {},
   "outputs": [
    {
     "name": "stdout",
     "output_type": "stream",
     "text": [
      "[False  True  True ... False False False]\n"
     ]
    },
    {
     "data": {
      "text/plain": [
       "100000000"
      ]
     },
     "execution_count": 41,
     "metadata": {},
     "output_type": "execute_result"
    }
   ],
   "source": [
    "print(your_mask)\n",
    "len(your_mask)"
   ]
  },
  {
   "cell_type": "code",
   "execution_count": null,
   "metadata": {},
   "outputs": [],
   "source": []
  }
 ],
 "metadata": {
  "kernelspec": {
   "display_name": "Python 3",
   "language": "python",
   "name": "python3"
  },
  "language_info": {
   "codemirror_mode": {
    "name": "ipython",
    "version": 3
   },
   "file_extension": ".py",
   "mimetype": "text/x-python",
   "name": "python",
   "nbconvert_exporter": "python",
   "pygments_lexer": "ipython3",
   "version": "3.9.1"
  },
  "vscode": {
   "interpreter": {
    "hash": "369f2c481f4da34e4445cda3fffd2e751bd1c4d706f27375911949ba6bb62e1c"
   }
  }
 },
 "nbformat": 4,
 "nbformat_minor": 4
}
