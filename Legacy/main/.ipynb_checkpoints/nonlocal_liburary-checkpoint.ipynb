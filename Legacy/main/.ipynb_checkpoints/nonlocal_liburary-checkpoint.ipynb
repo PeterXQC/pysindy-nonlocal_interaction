{
 "cells": [
  {
   "cell_type": "markdown",
   "id": "e1d07a4e",
   "metadata": {},
   "source": [
    "## Our Version"
   ]
  },
  {
   "cell_type": "code",
   "execution_count": null,
   "id": "57b8a739",
   "metadata": {},
   "outputs": [],
   "source": [
    "import matplotlib.pyplot as plt\n",
    "import numpy as np\n",
    "from scipy.integrate import solve_ivp\n",
    "from sklearn.linear_model import Lasso\n",
    "from scipy.io import loadmat\n",
    "from sklearn.metrics import mean_squared_error\n",
    "from pysindy.utils.odes import lorenz\n",
    "from pynew import *\n",
    "\n",
    "# Ignore matplotlib deprecation warnings\n",
    "import warnings\n",
    "warnings.filterwarnings(\"ignore\", category=UserWarning)\n",
    "warnings.filterwarnings(\"ignore\", category=FutureWarning)\n",
    "\n",
    "# Seed the random number generators for reproducibility\n",
    "np.random.seed(100)\n",
    "\n",
    "# integration keywords for solve_ivp, typically needed for chaotic systems\n",
    "integrator_keywords = {}\n",
    "integrator_keywords['rtol'] = 1e-12\n",
    "integrator_keywords['method'] = 'LSODA'\n",
    "integrator_keywords['atol'] = 1e-12"
   ]
  },
  {
   "cell_type": "code",
   "execution_count": 8,
   "id": "a51e8991",
   "metadata": {},
   "outputs": [
    {
     "name": "stdout",
     "output_type": "stream",
     "text": [
      "(x0)' = -9.987 x0 + 9.991 x1\n",
      "(x1)' = 27.954 x0 + -1.000 x1 + -0.999 x0 x2\n",
      "(x2)' = -2.661 x2 + 0.998 x0 x1\n",
      "The new weak form is in use\n",
      "(x0)' = -10.007 x0 + 10.008 x1\n",
      "(x1)' = 27.994 x0 + -0.987 x1 + -1.000 x0x2\n",
      "(x2)' = -2.668 x2 + 0.001 x1x1 + 1.000 x0x1\n",
      "Wall time: 135 ms\n"
     ]
    }
   ],
   "source": [
    "%%time\n",
    "# Generate measurement data\n",
    "dt = 0.001\n",
    "t_train = np.arange(0, 10, dt)\n",
    "t_train_span = (t_train[0], t_train[-1])\n",
    "u0_train = [-8, 8, 27]\n",
    "u_train = solve_ivp(lorenz, t_train_span, u0_train, \n",
    "                    t_eval=t_train, **integrator_keywords).y.T\n",
    "import random as rand\n",
    "error_scale = 0.1\n",
    "noise = np.random.randn(10000, 3) * error_scale\n",
    "u_train = u_train + noise\n",
    "\n",
    "# Instantiate and fit the SINDy model with u_dot\n",
    "u_dot = FiniteDifference()._differentiate(u_train, t=dt)\n",
    "model = SINDy()\n",
    "model.fit(u_train, x_dot=u_dot, t=dt)\n",
    "model.print()\n",
    "\n",
    "# Define weak form ODE library\n",
    "# defaults to derivative_order = 0 if not specified,\n",
    "# and if spatial_grid is not specified, defaults to None,\n",
    "# which allows weak form ODEs.\n",
    "library_functions = [lambda x: x, lambda x: x * x, lambda x, y: x * y]\n",
    "library_function_names = [lambda x: x, lambda x: x + x, lambda x, y: x + y]\n",
    "ode_lib = WeakPDELibrary(\n",
    "    library_functions=library_functions,\n",
    "    function_names=library_function_names,\n",
    "    spatiotemporal_grid=t_train,\n",
    "    is_uniform=True,\n",
    "    K=100,\n",
    ")\n",
    "\n",
    "# Instantiate and fit the SINDy model with the integral of u_dot\n",
    "optimizer = SR3(\n",
    "    threshold=0.05, \n",
    "    thresholder=\"l1\", \n",
    "    max_iter=1000, \n",
    "    normalize_columns=True, \n",
    "    tol=1e-1\n",
    ")\n",
    "model = SINDy(feature_library=ode_lib, optimizer=optimizer)\n",
    "model.fit(u_train)\n",
    "model.print()"
   ]
  },
  {
   "cell_type": "markdown",
   "id": "69418e36",
   "metadata": {},
   "source": [
    "## Pysindy Version"
   ]
  },
  {
   "cell_type": "code",
   "execution_count": 6,
   "id": "bf97a1e0",
   "metadata": {},
   "outputs": [
    {
     "name": "stdout",
     "output_type": "stream",
     "text": [
      "c:\\Users\\benja\\anaconda3\\lib\\site-packages\\pysindy\\__init__.py\n"
     ]
    }
   ],
   "source": [
    "import matplotlib.pyplot as plt\n",
    "import numpy as np\n",
    "from scipy.integrate import solve_ivp\n",
    "from sklearn.linear_model import Lasso\n",
    "from scipy.io import loadmat\n",
    "from sklearn.metrics import mean_squared_error\n",
    "from pysindy.utils.odes import lorenz\n",
    "\n",
    "import pysindy as ps\n",
    "import pysindy.feature_library.weak_pde_library as weak\n",
    "print(ps.__file__)\n",
    "\n",
    "# Ignore matplotlib deprecation warnings\n",
    "import warnings\n",
    "warnings.filterwarnings(\"ignore\", category=UserWarning)\n",
    "warnings.filterwarnings(\"ignore\", category=FutureWarning)\n",
    "\n",
    "# Seed the random number generators for reproducibility\n",
    "np.random.seed(100)\n",
    "\n",
    "# integration keywords for solve_ivp, typically needed for chaotic systems\n",
    "integrator_keywords = {}\n",
    "integrator_keywords['rtol'] = 1e-12\n",
    "integrator_keywords['method'] = 'LSODA'\n",
    "integrator_keywords['atol'] = 1e-12"
   ]
  },
  {
   "cell_type": "code",
   "execution_count": 7,
   "id": "6855c70c",
   "metadata": {},
   "outputs": [
    {
     "name": "stdout",
     "output_type": "stream",
     "text": [
      "(x0)' = -10.000 x0 + 10.000 x1\n",
      "(x1)' = 27.998 x0 + -1.000 x1 + -1.000 x0 x2\n",
      "(x2)' = -2.667 x2 + 1.000 x0 x1\n",
      "(x0)' = -10.000 x0 + 10.000 x1\n",
      "(x1)' = 28.000 x0 + -1.000 x1 + -1.000 x0x2\n",
      "(x2)' = -2.667 x2 + 1.000 x0x1\n",
      "Wall time: 234 ms\n"
     ]
    }
   ],
   "source": [
    "%%time\n",
    "# Generate measurement data\n",
    "dt = 0.001\n",
    "# integration keywords for solve_ivp, typically needed for chaotic systems\n",
    "integrator_keywords = {}\n",
    "integrator_keywords['rtol'] = 1e-12\n",
    "integrator_keywords['method'] = 'LSODA'\n",
    "integrator_keywords['atol'] = 1e-12\n",
    "t_train = np.arange(0, 10, dt)\n",
    "t_train_span = (t_train[0], t_train[-1])\n",
    "u0_train = [-8, 8, 27]\n",
    "u_train = solve_ivp(lorenz, t_train_span, u0_train, \n",
    "                    t_eval=t_train, **integrator_keywords).y.T\n",
    "\n",
    "# Instantiate and fit the SINDy model with u_dot\n",
    "u_dot = ps.FiniteDifference()._differentiate(u_train, t=dt)\n",
    "model = ps.SINDy()\n",
    "model.fit(u_train, x_dot=u_dot, t=dt)\n",
    "model.print()\n",
    "\n",
    "# Define weak form ODE library\n",
    "# defaults to derivative_order = 0 if not specified,\n",
    "# and if spatial_grid is not specified, defaults to None,\n",
    "# which allows weak form ODEs.\n",
    "library_functions = [lambda x: x, lambda x: x * x, lambda x, y: x * y]\n",
    "library_function_names = [lambda x: x, lambda x: x + x, lambda x, y: x + y]\n",
    "ode_lib = ps.WeakPDELibrary(\n",
    "    library_functions=library_functions,\n",
    "    function_names=library_function_names,\n",
    "    spatiotemporal_grid=t_train,\n",
    "    is_uniform=True,\n",
    "    K=100,\n",
    ")\n",
    "\n",
    "# Instantiate and fit the SINDy model with the integral of u_dot\n",
    "optimizer = ps.SR3(\n",
    "    threshold=0.05, \n",
    "    thresholder=\"l1\", \n",
    "    max_iter=1000, \n",
    "    normalize_columns=True, \n",
    "    tol=1e-1\n",
    ")\n",
    "model = ps.SINDy(feature_library=ode_lib, optimizer=optimizer)\n",
    "model.fit(u_train)\n",
    "model.print()"
   ]
  },
  {
   "cell_type": "markdown",
   "id": "91b8156e",
   "metadata": {},
   "source": [
    "## Lorenz Attractor using foward euler"
   ]
  },
  {
   "cell_type": "code",
   "execution_count": 10,
   "id": "9e5b7b06",
   "metadata": {},
   "outputs": [
    {
     "data": {
      "image/png": "[encoded data removed]",
      "text/plain": [
       "<Figure size 432x288 with 1 Axes>"
      ]
     },
     "metadata": {
      "needs_background": "light"
     },
     "output_type": "display_data"
    }
   ],
   "source": [
    "import numpy as np\n",
    "import matplotlib.pyplot as plt\n",
    "\n",
    "\n",
    "def lorenz(x, y, z, s=10, r=28, b=2.667):\n",
    "    \"\"\"\n",
    "    Given:\n",
    "       x, y, z: a point of interest in three dimensional space\n",
    "       s, r, b: parameters defining the lorenz attractor\n",
    "    Returns:\n",
    "       x_dot, y_dot, z_dot: values of the lorenz attractor's partial\n",
    "           derivatives at the point x, y, z\n",
    "    \"\"\"\n",
    "    x_dot = s*(y - x)\n",
    "    y_dot = r*x - y - x*z\n",
    "    z_dot = x*y - b*z\n",
    "    return x_dot, y_dot, z_dot\n",
    "\n",
    "\n",
    "dt = 0.001\n",
    "num_steps = 100000\n",
    "\n",
    "# Need one more for the initial values\n",
    "xs = np.empty(num_steps + 1)\n",
    "ys = np.empty(num_steps + 1)\n",
    "zs = np.empty(num_steps + 1)\n",
    "\n",
    "# Set initial values\n",
    "xs[0], ys[0], zs[0] = (0., 1., 1.05)\n",
    "\n",
    "# Step through \"time\", calculating the partial derivatives at the current point\n",
    "# and using them to estimate the next point\n",
    "for i in range(num_steps):\n",
    "    x_dot, y_dot, z_dot = lorenz(xs[i], ys[i], zs[i])\n",
    "    xs[i + 1] = xs[i] + (x_dot * dt)\n",
    "    ys[i + 1] = ys[i] + (y_dot * dt)\n",
    "    zs[i + 1] = zs[i] + (z_dot * dt)\n",
    "\n",
    "\n",
    "# Plot\n",
    "ax = plt.figure().add_subplot(projection='3d')\n",
    "\n",
    "ax.plot(xs, ys, zs, lw=0.5)\n",
    "ax.set_xlabel(\"X Axis\")\n",
    "ax.set_ylabel(\"Y Axis\")\n",
    "ax.set_zlabel(\"Z Axis\")\n",
    "ax.set_title(\"Lorenz Attractor\")\n",
    "\n",
    "plt.show()"
   ]
  },
  {
   "cell_type": "code",
   "execution_count": 11,
   "id": "690dd558",
   "metadata": {},
   "outputs": [
    {
     "name": "stdout",
     "output_type": "stream",
     "text": [
      "(x0)' = -10.000 x0 + 10.000 x1\n",
      "(x1)' = 27.810 x0 + -0.945 x1 + -0.995 x0x2\n",
      "(x2)' = -2.667 x2 + 1.000 x0x1\n"
     ]
    }
   ],
   "source": [
    "import pysindy as ps\n",
    "# Define weak form ODE library\n",
    "# defaults to derivative_order = 0 if not specified,\n",
    "# and if spatial_grid is not specified, defaults to None,\n",
    "# which allows weak form ODEs.\n",
    "time_step = np.linspace(0, 100000*dt, 100001)\n",
    "x_train = np.array([xs, ys, zs]).T\n",
    "library_functions = [lambda x: x, lambda x: x * x, lambda x, y: x * y]\n",
    "library_function_names = [lambda x: x, lambda x: x + x, lambda x, y: x + y]\n",
    "ode_lib = ps.WeakPDELibrary(\n",
    "    library_functions=library_functions,\n",
    "    function_names=library_function_names,\n",
    "    spatiotemporal_grid=time_step,\n",
    "    is_uniform=True,\n",
    "    K=100,\n",
    ")\n",
    "\n",
    "# Instantiate and fit the SINDy model with the integral of u_dot\n",
    "optimizer = ps.SR3(\n",
    "    threshold=0.05, \n",
    "    thresholder=\"l1\", \n",
    "    max_iter=10000, \n",
    "    normalize_columns=False, \n",
    "    tol=1\n",
    ")\n",
    "model = ps.SINDy(feature_library=ode_lib, optimizer=optimizer)\n",
    "model.fit(x_train)\n",
    "model.print()"
   ]
  },
  {
   "cell_type": "markdown",
   "id": "b1bf7c9a",
   "metadata": {},
   "source": []
  }
 ],
 "metadata": {
  "interpreter": {
   "hash": "043433d6b18bdeb8544c06540320f4c494e406f840db1fa6d3d1188f7786a55f"
  },
  "kernelspec": {
   "display_name": "Python 3 (ipykernel)",
   "language": "python",
   "name": "python3"
  },
  "language_info": {
   "codemirror_mode": {
    "name": "ipython",
    "version": 3
   },
   "file_extension": ".py",
   "mimetype": "text/x-python",
   "name": "python",
   "nbconvert_exporter": "python",
   "pygments_lexer": "ipython3",
   "version": "3.9.12"
  }
 },
 "nbformat": 4,
 "nbformat_minor": 5
}
