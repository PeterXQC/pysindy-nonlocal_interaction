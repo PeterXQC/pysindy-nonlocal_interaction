{
 "cells": [
  {
   "cell_type": "code",
   "execution_count": 13,
   "metadata": {},
   "outputs": [],
   "source": [
    "import numpy as np"
   ]
  },
  {
   "cell_type": "code",
   "execution_count": 26,
   "metadata": {},
   "outputs": [],
   "source": [
    "def indicators(x, endpts):\n",
    "    '''\n",
    "    if x value is inside the bound, return 1. Otherwise, return 0\n",
    "\n",
    "    Require:\n",
    "        x, left_bound, right_bound must have the same dimension\n",
    "\n",
    "    Parameters: \n",
    "\n",
    "            x: m x n vector representing the index of point to check (Time dimension should be excluded)\n",
    "\n",
    "            endpts: 2d (n x 2) array of index. First dimension is all the spatial dimensions, and second dimension are \n",
    "                    left and right bound of the subdomain in terms of index\n",
    "\n",
    "    `return: \n",
    "            1 or 0, should be clear enough\n",
    "    '''\n",
    "    print(x)\n",
    "    for i in range(len(endpts)):\n",
    "        np.add(x[i], endpts[i][0], out=x[i])\n",
    "    print(x)\n",
    "    for i in range(len(endpts)):\n",
    "        np.subtract(x[i], endpts[i][1], out=x[i])\n",
    "    print(x)    "
   ]
  },
  {
   "cell_type": "code",
   "execution_count": 15,
   "metadata": {},
   "outputs": [],
   "source": [
    "x = np.array([[1,2],[3,4],[5,6]])"
   ]
  },
  {
   "cell_type": "code",
   "execution_count": 16,
   "metadata": {},
   "outputs": [
    {
     "name": "stdout",
     "output_type": "stream",
     "text": [
      "[[1 2]\n",
      " [3 4]\n",
      " [5 6]]\n",
      "[1 2 3 4 5 6]\n"
     ]
    }
   ],
   "source": [
    "print(x)\n",
    "print(x.flatten())"
   ]
  },
  {
   "cell_type": "code",
   "execution_count": 17,
   "metadata": {},
   "outputs": [
    {
     "name": "stdout",
     "output_type": "stream",
     "text": [
      "[[3 4 5]\n",
      " [1 3 5]\n",
      " [3 5 7]]\n"
     ]
    }
   ],
   "source": [
    "y = np.array([[3,4,5],[1,3,5],[3,5,7]])\n",
    "print(y)"
   ]
  },
  {
   "cell_type": "code",
   "execution_count": 27,
   "metadata": {},
   "outputs": [
    {
     "name": "stdout",
     "output_type": "stream",
     "text": [
      "[[ 2  3  4]\n",
      " [ 2  4  6]\n",
      " [ 6  8 10]]\n",
      "[[ 3  4  5]\n",
      " [ 5  7  9]\n",
      " [11 13 15]]\n",
      "[[1 2 3]\n",
      " [1 3 5]\n",
      " [5 7 9]]\n"
     ]
    }
   ],
   "source": [
    "indicators(y, x)"
   ]
  },
  {
   "cell_type": "code",
   "execution_count": 19,
   "metadata": {},
   "outputs": [
    {
     "data": {
      "text/plain": [
       "3"
      ]
     },
     "execution_count": 19,
     "metadata": {},
     "output_type": "execute_result"
    }
   ],
   "source": [
    "len(y)"
   ]
  },
  {
   "cell_type": "code",
   "execution_count": 36,
   "metadata": {},
   "outputs": [],
   "source": [
    "upper_limit = 5\n",
    "lower_limit = 1\n",
    "a = np.array([1,2,3,4,5])\n",
    "your_mask = np.abs(a- 0.5*(upper_limit+lower_limit))<0.5*(upper_limit-lower_limit)"
   ]
  },
  {
   "cell_type": "code",
   "execution_count": 37,
   "metadata": {},
   "outputs": [
    {
     "data": {
      "text/plain": [
       "array([False,  True,  True,  True, False])"
      ]
     },
     "execution_count": 37,
     "metadata": {},
     "output_type": "execute_result"
    }
   ],
   "source": [
    "your_mask"
   ]
  },
  {
   "cell_type": "code",
   "execution_count": 42,
   "metadata": {},
   "outputs": [],
   "source": [
    "\n",
    "b = np.linspace(1,100,10**9)"
   ]
  },
  {
   "cell_type": "code",
   "execution_count": 39,
   "metadata": {},
   "outputs": [],
   "source": [
    "upper_limit = 5\n",
    "lower_limit = 1\n",
    "your_mask = np.abs(b- 0.5*(upper_limit+lower_limit))<0.5*(upper_limit-lower_limit)"
   ]
  },
  {
   "cell_type": "code",
   "execution_count": 41,
   "metadata": {},
   "outputs": [
    {
     "name": "stdout",
     "output_type": "stream",
     "text": [
      "[False  True  True ... False False False]\n"
     ]
    },
    {
     "data": {
      "text/plain": [
       "100000000"
      ]
     },
     "execution_count": 41,
     "metadata": {},
     "output_type": "execute_result"
    }
   ],
   "source": [
    "print(your_mask)\n",
    "len(your_mask)"
   ]
  },
  {
   "cell_type": "code",
   "execution_count": null,
   "metadata": {},
   "outputs": [],
   "source": []
  }
 ],
 "metadata": {
  "kernelspec": {
   "display_name": "Python 3.7.11 ('py37')",
   "language": "python",
   "name": "python3"
  },
  "language_info": {
   "codemirror_mode": {
    "name": "ipython",
    "version": 3
   },
   "file_extension": ".py",
   "mimetype": "text/x-python",
   "name": "python",
   "nbconvert_exporter": "python",
   "pygments_lexer": "ipython3",
   "version": "3.7.11"
  },
  "orig_nbformat": 4,
  "vscode": {
   "interpreter": {
    "hash": "757856a78f08441b7e869539554d9fc9d3eaecb909059f7be1687472ff268189"
   }
  }
 },
 "nbformat": 4,
 "nbformat_minor": 2
}
