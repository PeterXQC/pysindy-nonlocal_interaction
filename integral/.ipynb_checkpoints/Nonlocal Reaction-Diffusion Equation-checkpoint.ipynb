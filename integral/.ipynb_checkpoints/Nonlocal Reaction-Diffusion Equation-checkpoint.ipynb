{
 "cells": [
  {
   "cell_type": "markdown",
   "id": "d7250d3f",
   "metadata": {},
   "source": [
    "# Test weak form PDE functionality on Reaction-Diffusion system\n",
    "We now demonstrate another more advanced example - using the weak formulation of SINDy to robustly identify a 2D PDE.\n",
    "This 2D system is significantly more complicated. The reaction-diffusion system exhibits spiral waves on a periodic domain,and the PDEs are:\n",
    "$$u_t = 0.1\\nabla^2 u + (1-A^2)u +\\beta A^2v$$\n",
    "$$v_t = 0.1\\nabla^2 v - \\beta A^2 u + (1-A^2)v$$\n",
    "$$A^2 = u^2 + v^2.$$\n",
    "The main change will be a significantly larger library... cubic terms in (u, v) and all their first and second order derivatives. We will also need to generate the data because saving a high-resolution form of the data makes a fairly large file. See the Example 10 Jupyter notebook for the non-weak-form system identification of the reaction-diffusion system.\n",
    "\n",
    "Note that the Rudy PDE-FIND paper and Messenger Weak SINDy paper use 256 spatial points in each spatial direction, but Reinbold weak SINDy PRE paper uses 512 points in each direction. We will try and get away with only 64 points in each direction for speed (with normal PDE-FIND this would be a liability because the high order derivatives are very noisy), and still show robustness to ~ 10% noise levels"
   ]
  },
  {
   "cell_type": "code",
   "execution_count": 1,
   "id": "6245d51f",
   "metadata": {},
   "outputs": [
    {
     "ename": "NameError",
     "evalue": "name 'u' is not defined",
     "output_type": "error",
     "traceback": [
      "\u001b[0;31m---------------------------------------------------------------------------\u001b[0m",
      "\u001b[0;31mNameError\u001b[0m                                 Traceback (most recent call last)",
      "\u001b[0;32m/tmp/ipykernel_90/1059482939.py\u001b[0m in \u001b[0;36m<module>\u001b[0;34m\u001b[0m\n\u001b[1;32m     64\u001b[0m \u001b[0;31m# Initial conditions\u001b[0m\u001b[0;34m\u001b[0m\u001b[0;34m\u001b[0m\u001b[0m\n\u001b[1;32m     65\u001b[0m u[:, :, 0] = np.tanh(np.sqrt(X ** 2 + Y ** 2)) * np.cos(\n\u001b[0;32m---> 66\u001b[0;31m     \u001b[0mm\u001b[0m \u001b[0;34m*\u001b[0m \u001b[0mnp\u001b[0m\u001b[0;34m.\u001b[0m\u001b[0mangle\u001b[0m\u001b[0;34m(\u001b[0m\u001b[0mX\u001b[0m \u001b[0;34m+\u001b[0m \u001b[0;36m1j\u001b[0m \u001b[0;34m*\u001b[0m \u001b[0mY\u001b[0m\u001b[0;34m)\u001b[0m \u001b[0;34m-\u001b[0m \u001b[0;34m(\u001b[0m\u001b[0mnp\u001b[0m\u001b[0;34m.\u001b[0m\u001b[0msqrt\u001b[0m\u001b[0;34m(\u001b[0m\u001b[0mX\u001b[0m \u001b[0;34m**\u001b[0m \u001b[0;36m2\u001b[0m \u001b[0;34m+\u001b[0m \u001b[0mY\u001b[0m \u001b[0;34m**\u001b[0m \u001b[0;36m2\u001b[0m\u001b[0;34m)\u001b[0m\u001b[0;34m)\u001b[0m\u001b[0;34m\u001b[0m\u001b[0m\n\u001b[0m\u001b[1;32m     67\u001b[0m )\n\u001b[1;32m     68\u001b[0m v[:, :, 0] = np.tanh(np.sqrt(X ** 2 + Y ** 2)) * np.sin(\n",
      "\u001b[0;31mNameError\u001b[0m: name 'u' is not defined"
     ]
    }
   ],
   "source": [
    "import numpy as np\n",
    "import IntegralMethods as IM\n",
    "from numpy.fft import fft2, ifft2\n",
    "from scipy.integrate import solve_ivp\n",
    "import matplotlib.pyplot as plt\n",
    "\n",
    "# Define the reaction-diffusion PDE in the Fourier (kx, ky) space\n",
    "def reaction_diffusion(t, uvt, K22, d1, d2, beta, n, N, GCweight):\n",
    "    ut = np.reshape(uvt[:N], (n, n))\n",
    "    vt = np.reshape(uvt[N : 2 * N], (n, n))\n",
    "    u = np.real(ifft2(ut))\n",
    "    v = np.real(ifft2(vt))\n",
    "    u3 = u ** 3\n",
    "    v3 = v ** 3\n",
    "    u2v = (u ** 2) * v\n",
    "    uv2 = u * (v ** 2)\n",
    "    \n",
    "#     global coupling terms\n",
    "    linGCu = np.mean(u)\n",
    "    linGCv = np.mean(v)\n",
    "    \n",
    "    nlinGCu = linGCu**2\n",
    "    nlinGCv = linGCv**2\n",
    "        \n",
    "    utrhs = np.reshape((fft2(u - u3 - uv2 + beta * u2v + beta * v3 + (linGCu + nlinGCu)*GCweight)), (N, 1))\n",
    "    vtrhs = np.reshape((fft2(v - u2v - v3 - beta * u3 - beta * uv2 + (linGCv + nlinGCv)*GCweight)), (N, 1))\n",
    "    uvt_reshaped = np.reshape(uvt, (len(uvt), 1))\n",
    "    uvt_updated = np.squeeze(\n",
    "        np.vstack(\n",
    "            (-d1 * K22 * uvt_reshaped[:N] + utrhs, \n",
    "             -d2 * K22 * uvt_reshaped[N:] + vtrhs)\n",
    "        )\n",
    "    )\n",
    "    return uvt_updated\n",
    "\n",
    "\n",
    "# Generate the data\n",
    "t = np.linspace(0, 10, int(10 / 0.1))\n",
    "d1 = 0.1\n",
    "d2 = 0.1\n",
    "beta = 1.0\n",
    "L = 20  # Domain size in X and Y directions\n",
    "n = 64  # Number of spatial points in each direction\n",
    "N = n * n\n",
    "x_uniform = np.linspace(-L / 2, L / 2, n + 1)\n",
    "x = x_uniform[:n]\n",
    "y = x_uniform[:n]\n",
    "n2 = int(n / 2)\n",
    "# Define Fourier wavevectors (kx, ky)\n",
    "kx = (2 * np.pi / L) * np.hstack((np.linspace(0, n2 - 1, n2), \n",
    "                                  np.linspace(-n2, -1, n2)))\n",
    "ky = kx\n",
    "# Get 2D meshes in (x, y) and (kx, ky)\n",
    "X, Y = np.meshgrid(x, y)\n",
    "KX, KY = np.meshgrid(kx, ky)\n",
    "K2 = KX ** 2 + KY ** 2\n",
    "K22 = np.reshape(K2, (N, 1))\n",
    "\n",
    "m = 1  # number of spirals\n",
    "\n",
    "# define our solution vectors\n",
    "v = np.zeros((len(x), len(y), len(t)))\n",
    "\n",
    "# Initial conditions\n",
    "u[:, :, 0] = np.tanh(np.sqrt(X ** 2 + Y ** 2)) * np.cos(\n",
    "    m * np.angle(X + 1j * Y) - (np.sqrt(X ** 2 + Y ** 2))\n",
    ")\n",
    "v[:, :, 0] = np.tanh(np.sqrt(X ** 2 + Y ** 2)) * np.sin(\n",
    "    m * np.angle(X + 1j * Y) - (np.sqrt(X ** 2 + Y ** 2))\n",
    ")\n",
    "\n",
    "# uvt is the solution vector in Fourier space, so below\n",
    "# we are initializing the 2D FFT of the initial condition, uvt0\n",
    "uvt0 = np.squeeze(\n",
    "    np.hstack(\n",
    "        (np.reshape(fft2(u[:, :, 0]), (1, N)), \n",
    "         np.reshape(fft2(v[:, :, 0]), (1, N)))\n",
    "    )\n",
    ")\n",
    "\n",
    "GCweights = [0, 1, 3, 5, 7, 10, 20]\n",
    "\n",
    "# Solve the PDE in the Fourier space, where it reduces to system of ODEs\n",
    "uvsol = solve_ivp(\n",
    "    reaction_diffusion, \n",
    "    (t[0], t[-1]), \n",
    "    y0=uvt0, \n",
    "    t_eval=t, \n",
    "    args=(K22, d1, d2, beta, n, N, GCweight)\n",
    ")\n",
    "uvsol = uvsol.y\n",
    "\n",
    "# Reshape things and ifft back into (x, y, t) space from (kx, ky, t) space\n",
    "for j in range(len(t)):\n",
    "    ut = np.reshape(uvsol[:N, j], (n, n))\n",
    "    vt = np.reshape(uvsol[N:, j], (n, n))\n",
    "    u[:, :, j] = np.real(ifft2(ut))\n",
    "    v[:, :, j] = np.real(ifft2(vt))"
   ]
  },
  {
   "cell_type": "code",
   "execution_count": null,
   "id": "2f2c6416",
   "metadata": {},
   "outputs": [],
   "source": [
    "# Plot to check if spiral is nicely reproduced\n",
    "plt.figure(figsize=(10, 4))\n",
    "plt.subplot(1, 2, 1)\n",
    "ax1 = plt.pcolor(X, Y, u[:, :, 10])\n",
    "plt.xlabel('x', fontsize=16)\n",
    "plt.ylabel('y', fontsize=16)\n",
    "plt.title('u(x, y, t=0.5)', fontsize=16)\n",
    "plt.subplot(1, 2, 2)\n",
    "ax2 = plt.pcolor(X, Y, v[:, :, 10])\n",
    "plt.xlabel('x', fontsize=16)\n",
    "plt.ylabel('y', fontsize=16)\n",
    "ax = plt.gca()\n",
    "\n",
    "fig.colorbar(c, ax=ax1)\n",
    "\n",
    "ax.set_yticklabels([])\n",
    "plt.title('v(x, y, t=0.5)', fontsize=16)\n",
    "\n",
    "dt = t[1] - t[0]\n",
    "dx = x[1] - x[0]\n",
    "dy = y[1] - y[0]\n",
    "\n",
    "u_sol = u\n",
    "v_sol = v"
   ]
  },
  {
   "cell_type": "code",
   "execution_count": 2,
   "id": "ac079250",
   "metadata": {},
   "outputs": [
    {
     "ename": "NameError",
     "evalue": "name 'u' is not defined",
     "output_type": "error",
     "traceback": [
      "\u001b[0;31m---------------------------------------------------------------------------\u001b[0m",
      "\u001b[0;31mNameError\u001b[0m                                 Traceback (most recent call last)",
      "\u001b[0;32m/tmp/ipykernel_90/1058233375.py\u001b[0m in \u001b[0;36m<module>\u001b[0;34m\u001b[0m\n\u001b[1;32m      3\u001b[0m \u001b[0mdy\u001b[0m \u001b[0;34m=\u001b[0m \u001b[0my\u001b[0m\u001b[0;34m[\u001b[0m\u001b[0;36m1\u001b[0m\u001b[0;34m]\u001b[0m \u001b[0;34m-\u001b[0m \u001b[0my\u001b[0m\u001b[0;34m[\u001b[0m\u001b[0;36m0\u001b[0m\u001b[0;34m]\u001b[0m\u001b[0;34m\u001b[0m\u001b[0m\n\u001b[1;32m      4\u001b[0m \u001b[0;34m\u001b[0m\u001b[0m\n\u001b[0;32m----> 5\u001b[0;31m \u001b[0mu_sol\u001b[0m \u001b[0;34m=\u001b[0m \u001b[0mu\u001b[0m\u001b[0;34m\u001b[0m\u001b[0m\n\u001b[0m\u001b[1;32m      6\u001b[0m \u001b[0mv_sol\u001b[0m \u001b[0;34m=\u001b[0m \u001b[0mv\u001b[0m\u001b[0;34m\u001b[0m\u001b[0m\n\u001b[1;32m      7\u001b[0m \u001b[0;34m\u001b[0m\u001b[0m\n",
      "\u001b[0;31mNameError\u001b[0m: name 'u' is not defined"
     ]
    }
   ],
   "source": [
    "dt = t[1] - t[0]\n",
    "dx = x[1] - x[0]\n",
    "dy = y[1] - y[0]\n",
    "\n",
    "u_sol = u\n",
    "v_sol = v\n",
    "\n",
    "U = np.zeros((n, n, len(t), 2))\n",
    "U[:, :, :, 0] = u_sol\n",
    "U[:, :, :, 1] = v_sol\n",
    "X, Y, T = np.meshgrid(x, y, t, indexing='ij')\n",
    "XYT = np.transpose([X, Y, T], [1, 2, 3, 0])"
   ]
  },
  {
   "cell_type": "code",
   "execution_count": 14,
   "id": "6118f094",
   "metadata": {},
   "outputs": [
    {
     "name": "stdout",
     "output_type": "stream",
     "text": [
      "-7.7296109604638294\n"
     ]
    }
   ],
   "source": [
    "j = 0\n",
    "t = 10\n",
    "endpts = [[0, 10], [0, 10]]\n",
    "\n",
    "length = endpts[-1][1]-endpts[-1][0]\n",
    "X = []\n",
    "for i in range(length):\n",
    "    res = np.trapz(U[endpts[0][0]:endpts[0][1], i, t, j], x=XYT[endpts[0][0]:endpts[0][1], i, t, 0])\n",
    "    \n",
    "    X.append(res)\n",
    "    \n",
    "ref = np.trapz(X, x=XYT[0, endpts[1][0]:endpts[1][1], t, 1])\n",
    "print(ref)\n"
   ]
  },
  {
   "cell_type": "code",
   "execution_count": 20,
   "id": "68826d63",
   "metadata": {},
   "outputs": [
    {
     "ename": "IndexError",
     "evalue": "arrays used as indices must be of integer (or boolean) type",
     "output_type": "error",
     "traceback": [
      "\u001b[0;31m---------------------------------------------------------------------------\u001b[0m",
      "\u001b[0;31mIndexError\u001b[0m                                Traceback (most recent call last)",
      "\u001b[0;32m/tmp/ipykernel_289/3833198163.py\u001b[0m in \u001b[0;36m<module>\u001b[0;34m\u001b[0m\n\u001b[0;32m----> 1\u001b[0;31m \u001b[0mobtained\u001b[0m \u001b[0;34m=\u001b[0m \u001b[0mIM\u001b[0m\u001b[0;34m.\u001b[0m\u001b[0mcompute_integral\u001b[0m\u001b[0;34m(\u001b[0m\u001b[0mU\u001b[0m\u001b[0;34m,\u001b[0m \u001b[0mXYT\u001b[0m\u001b[0;34m,\u001b[0m \u001b[0mt\u001b[0m\u001b[0;34m,\u001b[0m \u001b[0mj\u001b[0m\u001b[0;34m,\u001b[0m \u001b[0mendpts\u001b[0m\u001b[0;34m)\u001b[0m\u001b[0;34m\u001b[0m\u001b[0m\n\u001b[0m\u001b[1;32m      2\u001b[0m \u001b[0mprint\u001b[0m\u001b[0;34m(\u001b[0m\u001b[0mabs\u001b[0m\u001b[0;34m(\u001b[0m\u001b[0mref\u001b[0m\u001b[0;34m-\u001b[0m\u001b[0mobtained\u001b[0m\u001b[0;34m)\u001b[0m\u001b[0;34m)\u001b[0m\u001b[0;34m\u001b[0m\u001b[0m\n",
      "\u001b[0;32m/src/notebooks/work/pysindy-nonlocal_interaction/integral/IntegralMethods.py\u001b[0m in \u001b[0;36mcompute_integral\u001b[0;34m(X, spatiotemporal_grid, t, j, endpts)\u001b[0m\n\u001b[1;32m     61\u001b[0m \u001b[0;34m\u001b[0m\u001b[0m\n\u001b[1;32m     62\u001b[0m \u001b[0;31m#         we now get the 1D grid by filtering by the index created\u001b[0m\u001b[0;34m\u001b[0m\u001b[0;34m\u001b[0m\u001b[0m\n\u001b[0;32m---> 63\u001b[0;31m         \u001b[0mthis_dim\u001b[0m \u001b[0;34m=\u001b[0m \u001b[0mspatiotemporal_grid\u001b[0m\u001b[0;34m[\u001b[0m\u001b[0mindex\u001b[0m\u001b[0;34m]\u001b[0m\u001b[0;34m\u001b[0m\u001b[0m\n\u001b[0m\u001b[1;32m     64\u001b[0m \u001b[0;34m\u001b[0m\u001b[0m\n\u001b[1;32m     65\u001b[0m         \u001b[0mweight\u001b[0m \u001b[0;34m=\u001b[0m \u001b[0mget_1D_weight\u001b[0m\u001b[0;34m(\u001b[0m\u001b[0mthis_dim\u001b[0m\u001b[0;34m,\u001b[0m \u001b[0mendpts\u001b[0m\u001b[0;34m[\u001b[0m\u001b[0mi\u001b[0m\u001b[0;34m]\u001b[0m\u001b[0;34m)\u001b[0m\u001b[0;34m\u001b[0m\u001b[0m\n",
      "\u001b[0;31mIndexError\u001b[0m: arrays used as indices must be of integer (or boolean) type"
     ]
    }
   ],
   "source": [
    "obtained = IM.compute_integral(U, XYT, t, j, endpts)\n",
    "print(abs(ref-obtained))"
   ]
  },
  {
   "cell_type": "code",
   "execution_count": null,
   "id": "8a6b74ef",
   "metadata": {},
   "outputs": [],
   "source": []
  }
 ],
 "metadata": {
  "kernelspec": {
   "display_name": "Python 3 (ipykernel)",
   "language": "python",
   "name": "python3"
  },
  "language_info": {
   "codemirror_mode": {
    "name": "ipython",
    "version": 3
   },
   "file_extension": ".py",
   "mimetype": "text/x-python",
   "name": "python",
   "nbconvert_exporter": "python",
   "pygments_lexer": "ipython3",
   "version": "3.7.0"
  }
 },
 "nbformat": 4,
 "nbformat_minor": 5
}
