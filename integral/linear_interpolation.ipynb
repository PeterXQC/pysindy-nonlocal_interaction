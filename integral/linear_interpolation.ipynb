{
 "cells": [
  {
   "cell_type": "code",
   "execution_count": 2,
   "metadata": {},
   "outputs": [],
   "source": [
    "from scipy import integrate\n",
    "import numpy as np"
   ]
  },
  {
   "cell_type": "code",
   "execution_count": 2,
   "metadata": {},
   "outputs": [],
   "source": [
    "def indicator(x, intervals):\n",
    "    '''\n",
    "Define the indicator function\n",
    "     indicator function is function which if x value is inside the bound, you will get 1\n",
    "     Otherwise you will get 0\n",
    "    '''\n",
    "    '''\n",
    "    Require:\n",
    "    x, left_bound, right_bound must have the same dimension\n",
    "    '''\n",
    "    '''\n",
    "    Parameters: \n",
    "    \n",
    "        x: 1 x n vector representing the point to check (Time dimension should be excluded)\n",
    "\n",
    "        intervals: 2d (n x 2) arrays. First dimension is all the  spatial dimensions, and second dimension are \n",
    "                left and right bound of the subdomain\n",
    "    \n",
    "    return: \n",
    "        1 or 0, should be clear enough\n",
    "    \n",
    "    '''\n",
    "    if len(x) != len(len(intervals[:, 0])):\n",
    "        raise ValueError(\"Parameter dimensions do not agree.\")\n",
    "        \n",
    "    for i in np.arange(len(intervals[:, 0])):\n",
    "        if x[i] < intervals[i, 0] or x > intervals[i, 1]:\n",
    "            return 0\n",
    "    return 1"
   ]
  },
  {
   "cell_type": "code",
   "execution_count": 3,
   "metadata": {},
   "outputs": [],
   "source": [
    "def compute_integral(X, grid_ndim, num_x, j, endpts):\n",
    "    '''\n",
    "    Parameters: \n",
    "    \n",
    "        X: data grid\n",
    "        \n",
    "        grid_ndim: number of spatial dimensions. this is already a param in pysindy\n",
    "        \n",
    "        num_x: number of spatial datapoints in the grid.\n",
    "        \n",
    "        j: feature index\n",
    "        \n",
    "        endpts: 2 x n array \n",
    "            the first column is the left endpoints of the subdomain's each of the n dimensions,\n",
    "            second column is right endpoint of each of the subdomain's each of the n dimensions\n",
    "            \n",
    "    return:\n",
    "        nd integral within a subdomain\n",
    "    '''\n",
    "# find weight here\n",
    "    \n",
    "\n",
    "\n",
    "\n",
    "#     All the 1D weights will be stored in a 2D matrix as cols\n",
    "#     sudo_var1: max number of pts per dim.\n",
    "    weights = []\n",
    "    for i in np.arange(grid_ndim):\n",
    "#         We actually need a slicer here\n",
    "#         this_dim = grid points in the i-th spatial dimension\n",
    "        weight = get_1D_weight(this_dim, endpts[:, i])\n",
    "#         append is extremely slow, but since its only used grid_ndim times it shouldn't bottle neck.\n",
    "        weights.append(weight)\n",
    "    \n",
    "\n",
    "    return sp.integral.nquad(get_u_j(x, num_x, t, j), endpts)"
   ]
  },
  {
   "cell_type": "code",
   "execution_count": 99,
   "metadata": {},
   "outputs": [],
   "source": [
    "def get_1D_weight(grid, endpt):\n",
    "    '''\n",
    "    Parameters: \n",
    "        grid: an 1D array that contains the value of the corresponding dimension of each grid points.\n",
    "        \n",
    "        endpt: \n",
    "    '''\n",
    "    \n",
    "#     initialize a bunch of 0\n",
    "    weight = np.zeros(len(grid))\n",
    "\n",
    "#     find the index at which we enter Omega_k in this axis\n",
    "    start = 0\n",
    "    end = 0\n",
    "    record_start = True\n",
    "    record_end = True\n",
    "    for i in np.arange(len(grid)):\n",
    "        if (grid[i] >= endpt[0] and record_start == True):\n",
    "            start = i\n",
    "            record_start = False\n",
    "        elif (grid[i] >= endpt[1] and record_end == True):\n",
    "            end = i\n",
    "            record_end = False\n",
    "            \n",
    "#     the weight of all other grid points is 0 as they contribute nothing to the integral\n",
    "#     and each grid point in omega_k needs a weight\n",
    "\n",
    "#     start and end index has different equation for weight, so we do those first\n",
    "    weight[start] = 1/2*(grid[start+1]-grid[start])\n",
    "    weight[end] = 1/2*(grid[end]-grid[end-1])\n",
    "    for i in np.arange(end-start-1): \n",
    "        weight[start+i+1] = 1/2*(grid[start+i+2]-grid[start+i])\n",
    "    \n",
    "    return weight"
   ]
  },
  {
   "cell_type": "code",
   "execution_count": 4,
   "metadata": {},
   "outputs": [],
   "source": [
    "def get_u_j(x, num_x, t, j):\n",
    "    '''\n",
    "    x: data value x', a constant after stacking.\n",
    "    t: time point t\n",
    "    j: the feature of u that will get returned.\n",
    "    '''  \n",
    "#     spatial-temporal stack index\n",
    "    ind = x*num_x+t\n",
    "    \n",
    "#   X is 2D, \n",
    "    return X[ind, j]"
   ]
  },
  {
   "cell_type": "code",
   "execution_count": 5,
   "metadata": {},
   "outputs": [],
   "source": [
    "def get_omega_bound(index, intervals):\n",
    "    '''\n",
    "    Parameter:\n",
    "        index: index of the subdomain to get bound of\n",
    "        intervals: boundary of each subdomain correspond to each dimension\n",
    "        \n",
    "    return:\n",
    "        2d (n x 2) arrays. First dimension is all the  spatial dimensions, and second dimension are left and right bound of the subdomain\n",
    "    '''\n",
    "    \n",
    "    return intervals[index]"
   ]
  },
  {
   "cell_type": "code",
   "execution_count": 6,
   "metadata": {},
   "outputs": [],
   "source": [
    "def get_theta_nonloc(j, k, kprime, intervals):\n",
    "#     get how many time points are there\n",
    "    num_t = np.shape(spatiotemporal_grid)[-2]\n",
    "#     get how many spatial points are there\n",
    "    num_x = np.prod(np.shape(spatiotemporal_grid)[:-2])\n",
    "    \n",
    "    theta_nonloc_p = np.zeros(num_t*num_x)\n",
    "    \n",
    "    for i in np.arange(theta_nonloc_p.length):\n",
    "        this_t = i % num_t\n",
    "        this_x = int(i/num_t)\n",
    "        \n",
    "#       get x(all x, this_t)\n",
    "#       This currently filters the spatial temporal grid, as opposed to X\n",
    "#       We mat not need this though, as we can use num_t and num_x to figure out the stacking of X.\n",
    "#         n_dims  = len(np.shape(spatiotemporal_grid))\n",
    "#         s = [slice(None) for i in range(n_dims)]\n",
    "#         s[-2] = this_t\n",
    "#         grid_t = spatiotemporal_grid[tuple(s)]\n",
    "        \n",
    "        coefficient = indicator(this_x, get_omega_bound(k, intervals))\n",
    "        \n",
    "        integral = compute_integral(this_x, this_t, num_x, j, get_omega_bound(kprime, intervals), X)\n",
    "        \n",
    "        theta_nonloc_p[i] = coefficient * integral\n",
    "        \n",
    "    return theta_nonloc_p"
   ]
  },
  {
   "cell_type": "code",
   "execution_count": 7,
   "metadata": {},
   "outputs": [],
   "source": [
    "def func(*args):\n",
    "    return np.sum(args)"
   ]
  },
  {
   "cell_type": "markdown",
   "metadata": {},
   "source": [
    "# Below is the session where we test each block."
   ]
  },
  {
   "cell_type": "code",
   "execution_count": 105,
   "metadata": {},
   "outputs": [
    {
     "name": "stdout",
     "output_type": "stream",
     "text": [
      "[ 0.    0.75  1.5   2.25  3.    3.75  4.5   5.25  6.    6.75  7.5   8.25\n",
      "  9.    9.75 10.5  11.25 12.   12.75 13.5  14.25 15.  ]\n",
      "[0.    0.    0.375 0.75  0.75  0.75  0.75  0.75  0.75  0.75  0.75  0.75\n",
      " 0.375 0.    0.    0.    0.    0.    0.    0.    0.   ]\n"
     ]
    }
   ],
   "source": [
    "# 1D weight test starts here. \n",
    "sample_grid = np.linspace(0, 15, 21, endpoint=True)\n",
    "endpts = [1, 9]\n",
    "print(sample_grid)\n",
    "print(get_1D_weight(sample_grid, endpts))"
   ]
  },
  {
   "cell_type": "markdown",
   "metadata": {},
   "source": [
    "# The above cell shows that the 1D weight calculation is performing properly."
   ]
  },
  {
   "cell_type": "code",
   "execution_count": null,
   "metadata": {},
   "outputs": [],
   "source": []
  }
 ],
 "metadata": {
  "kernelspec": {
   "display_name": "Python 3",
   "language": "python",
   "name": "python3"
  },
  "language_info": {
   "codemirror_mode": {
    "name": "ipython",
    "version": 3
   },
   "file_extension": ".py",
   "mimetype": "text/x-python",
   "name": "python",
   "nbconvert_exporter": "python",
   "pygments_lexer": "ipython3",
   "version": "3.6.5"
  },
  "vscode": {
   "interpreter": {
    "hash": "043433d6b18bdeb8544c06540320f4c494e406f840db1fa6d3d1188f7786a55f"
   }
  }
 },
 "nbformat": 4,
 "nbformat_minor": 5
}
