{
 "cells": [
  {
   "cell_type": "code",
   "execution_count": 1,
   "id": "f9eb42c9",
   "metadata": {},
   "outputs": [],
   "source": [
    "from scipy import integrate\n",
    "import numpy as np"
   ]
  },
  {
   "cell_type": "code",
   "execution_count": 2,
   "id": "7d3037ac",
   "metadata": {},
   "outputs": [],
   "source": [
    "def indicator(x, intervals):\n",
    "    '''\n",
    "Define the indicator function\n",
    "     indicator function is function which if x value is inside the bound, you will get 1\n",
    "     Otherwise you will get 0\n",
    "    '''\n",
    "    '''\n",
    "    Require:\n",
    "    x, left_bound, right_bound must have the same dimension\n",
    "    '''\n",
    "    '''\n",
    "    Parameters: \n",
    "    \n",
    "        x: 1 x n vector representing the point to check (Time dimension should be excluded)\n",
    "\n",
    "        intervals: 2d (n x 2) arrays. First dimension is all the  spatial dimensions, and second dimension are \n",
    "                left and right bound of the subdomain\n",
    "    \n",
    "    return: \n",
    "        1 or 0, should be clear enough\n",
    "    \n",
    "    '''\n",
    "    if len(x) != len(len(intervals[:, 0])):\n",
    "        raise ValueError(\"Parameter dimensions do not agree.\")\n",
    "        \n",
    "    for i in np.arange(len(intervals[:, 0])):\n",
    "        if x[i] < intervals[i, 0] or x > intervals[i, 1]:\n",
    "            return 0\n",
    "    return 1"
   ]
  },
  {
   "cell_type": "code",
   "execution_count": 3,
   "id": "cda6ed2c",
   "metadata": {},
   "outputs": [],
   "source": [
    "def compute_integral(x, t, num_x, j, endpts):\n",
    "    '''\n",
    "    Parameters: \n",
    "    \n",
    "        f: u_j(p)(x, t)\n",
    "        \n",
    "        endpts: 2 x n array \n",
    "            the first column is the left endpoints of the subdomain's each of the n dimensions,\n",
    "            second column is right endpoint of each of the subdomain's each of the n dimensions\n",
    "            \n",
    "    return:\n",
    "    \n",
    "        nd integral\n",
    "    '''\n",
    "#     number of spatial dimensions\n",
    "    ndims = np.shape(endpts)[1]\n",
    "    for i in np.arange(ndims):\n",
    "        begin = endpts[0, i]\n",
    "        end = endpts[1, i]\n",
    "#     We have the assumption that boundary of each axis of subdomains are on data points\n",
    "    \n",
    "    \n",
    "\n",
    "    return sp.integral.nquad(get_u_j(x, num_x, t, j), endpts)"
   ]
  },
  {
   "cell_type": "code",
   "execution_count": 4,
   "id": "d6ac7406",
   "metadata": {},
   "outputs": [],
   "source": [
    "def get_u_j(x, num_x, t, j):\n",
    "    '''\n",
    "    x: data value x', a constant after stacking.\n",
    "    t: time point t\n",
    "    j: the feature of u that will get returned.\n",
    "    '''  \n",
    "#     spatial-temporal stack index\n",
    "    ind = x*num_x+t\n",
    "    \n",
    "#   X is 2D, \n",
    "    return X[ind, j]"
   ]
  },
  {
   "cell_type": "code",
   "execution_count": 5,
   "id": "fe289975",
   "metadata": {},
   "outputs": [],
   "source": [
    "def get_omega_bound(index, intervals):\n",
    "    '''\n",
    "    Parameter:\n",
    "        index: index of the subdomain to get bound of\n",
    "        intervals: boundary of each subdomain correspond to each dimension\n",
    "        \n",
    "    return:\n",
    "        2d (n x 2) arrays. First dimension is all the  spatial dimensions, and second dimension are left and right bound of the subdomain\n",
    "    '''\n",
    "    \n",
    "    return intervals[index]"
   ]
  },
  {
   "cell_type": "code",
   "execution_count": 6,
   "id": "dce842e7",
   "metadata": {},
   "outputs": [],
   "source": [
    "def get_theta_nonloc(j, k, kprime, intervals):\n",
    "#     get how many time points are there\n",
    "    num_t = np.shape(spatiotemporal_grid)[-2]\n",
    "#     get how many spatial points are there\n",
    "    num_x = np.prod(np.shape(spatiotemporal_grid)[:-2])\n",
    "    \n",
    "    theta_nonloc_p = np.zeros(num_t*num_x)\n",
    "    \n",
    "    for i in np.arange(theta_nonloc_p.length):\n",
    "        this_t = i % num_t\n",
    "        this_x = int(i/num_t)\n",
    "        \n",
    "#       get x(all x, this_t)\n",
    "#       This currently filters the spatial temporal grid, as opposed to X\n",
    "#       We mat not need this though, as we can use num_t and num_x to figure out the stacking of X.\n",
    "#         n_dims  = len(np.shape(spatiotemporal_grid))\n",
    "#         s = [slice(None) for i in range(n_dims)]\n",
    "#         s[-2] = this_t\n",
    "#         grid_t = spatiotemporal_grid[tuple(s)]\n",
    "        \n",
    "        \n",
    "        \n",
    "        \n",
    "        coefficient = indicator(this_x, get_omega_bound(k, intervals))\n",
    "        \n",
    "        integral = compute_integral(this_x, this_t, num_x, j, get_omega_bound(kprime, intervals))\n",
    "        \n",
    "        theta_nonloc_p[i] = coefficient * integral\n",
    "        \n",
    "    return theta_nonloc_p"
   ]
  },
  {
   "cell_type": "code",
   "execution_count": 7,
   "id": "1f55e944",
   "metadata": {},
   "outputs": [],
   "source": [
    "def func(*args):\n",
    "    return np.sum(args)"
   ]
  },
  {
   "cell_type": "code",
   "execution_count": 8,
   "id": "17b43a82",
   "metadata": {},
   "outputs": [
    {
     "data": {
      "text/plain": [
       "(1.0, 1.662923778137264e-14)"
      ]
     },
     "execution_count": 8,
     "metadata": {},
     "output_type": "execute_result"
    }
   ],
   "source": [
    "integrate.nquad(func, [[0, 1], [0, 1]])"
   ]
  },
  {
   "cell_type": "code",
   "execution_count": 9,
   "id": "4df763f0",
   "metadata": {},
   "outputs": [],
   "source": [
    "a = [1, 2, 3, 4]"
   ]
  },
  {
   "cell_type": "code",
   "execution_count": 18,
   "id": "8677f7b9",
   "metadata": {},
   "outputs": [],
   "source": [
    "A = np.random.rand(3, 3, 3)"
   ]
  },
  {
   "cell_type": "code",
   "execution_count": 19,
   "id": "cd2d15f7",
   "metadata": {},
   "outputs": [
    {
     "data": {
      "text/plain": [
       "array([[[0.83027775, 0.77391512, 0.12229505],\n",
       "        [0.53817565, 0.24801517, 0.04276324],\n",
       "        [0.68521544, 0.69408364, 0.92360528]],\n",
       "\n",
       "       [[0.61862547, 0.26161878, 0.60363171],\n",
       "        [0.785251  , 0.94491178, 0.87170226],\n",
       "        [0.54881124, 0.21752047, 0.99611189]],\n",
       "\n",
       "       [[0.22156347, 0.11704583, 0.78562517],\n",
       "        [0.86644495, 0.13201483, 0.07659381],\n",
       "        [0.35186035, 0.61698326, 0.26043731]]])"
      ]
     },
     "execution_count": 19,
     "metadata": {},
     "output_type": "execute_result"
    }
   ],
   "source": [
    "A"
   ]
  },
  {
   "cell_type": "code",
   "execution_count": 20,
   "id": "4035f943",
   "metadata": {},
   "outputs": [],
   "source": [
    "B = (1, 2)"
   ]
  },
  {
   "cell_type": "code",
   "execution_count": 23,
   "id": "a69c22ee",
   "metadata": {},
   "outputs": [
    {
     "data": {
      "text/plain": [
       "array([[0.54881124, 0.21752047, 0.99611189],\n",
       "       [0.35186035, 0.61698326, 0.26043731]])"
      ]
     },
     "execution_count": 23,
     "metadata": {},
     "output_type": "execute_result"
    }
   ],
   "source": [
    "A[(1, 2), 2]"
   ]
  },
  {
   "cell_type": "code",
   "execution_count": null,
   "id": "3b459f65",
   "metadata": {},
   "outputs": [],
   "source": []
  }
 ],
 "metadata": {
  "kernelspec": {
   "display_name": "Python 3 (ipykernel)",
   "language": "python",
   "name": "python3"
  },
  "language_info": {
   "codemirror_mode": {
    "name": "ipython",
    "version": 3
   },
   "file_extension": ".py",
   "mimetype": "text/x-python",
   "name": "python",
   "nbconvert_exporter": "python",
   "pygments_lexer": "ipython3",
   "version": "3.9.12"
  },
  "vscode": {
   "interpreter": {
    "hash": "043433d6b18bdeb8544c06540320f4c494e406f840db1fa6d3d1188f7786a55f"
   }
  }
 },
 "nbformat": 4,
 "nbformat_minor": 5
}
