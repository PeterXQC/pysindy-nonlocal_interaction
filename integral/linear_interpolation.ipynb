{
 "cells": [
  {
   "cell_type": "code",
   "execution_count": 1,
   "id": "06b5e2e7",
   "metadata": {},
   "outputs": [],
   "source": [
    "import IntegralMethods as IM\n",
    "\n",
    "import numpy as np"
   ]
  },
  {
   "cell_type": "markdown",
   "id": "ed5cb1e9",
   "metadata": {},
   "source": [
    "# Module test starts here."
   ]
  },
  {
   "cell_type": "code",
   "execution_count": 2,
   "id": "51e5f1e8",
   "metadata": {},
   "outputs": [
    {
     "name": "stdout",
     "output_type": "stream",
     "text": [
      "[ 0.   0.5  1.   1.5  2.   2.5  3.   3.5  4.   4.5  5.   5.5  6.   6.5\n",
      "  7.   7.5  8.   8.5  9.   9.5 10. ]\n",
      "[0.25 0.5  0.5  0.5  0.5  0.5  0.5  0.5  0.5  0.5  0.5  0.25]\n"
     ]
    }
   ],
   "source": [
    "# 1D weight test starts here. \n",
    "sample_grid = np.linspace(0, 10, 21, endpoint=True)\n",
    "endpts = [4, 16]\n",
    "print(sample_grid)\n",
    "print(IM.get_1D_weight(sample_grid, endpts))"
   ]
  },
  {
   "cell_type": "markdown",
   "id": "a8cec9bd",
   "metadata": {},
   "source": [
    "# The above cell shows that the 1D weight calculation is performing properly. We now test the computation to get the full weight."
   ]
  },
  {
   "cell_type": "code",
   "execution_count": 3,
   "id": "80fc137f",
   "metadata": {},
   "outputs": [
    {
     "name": "stdout",
     "output_type": "stream",
     "text": [
      "Pass\n"
     ]
    },
    {
     "name": "stderr",
     "output_type": "stream",
     "text": [
      "/src/notebooks/work/pysindy-nonlocal_interaction/integral/IntegralMethods.py:113: FutureWarning: Using a non-tuple sequence for multidimensional indexing is deprecated; use `arr[tuple(seq)]` instead of `arr[seq]`. In the future this will be interpreted as an array index, `arr[np.array(seq)]`, which will result either in an error or a different result.\n",
      "  W_F = W_F[index] * np.array(weights[w])\n"
     ]
    }
   ],
   "source": [
    "# test using a 4D weight, formatted as the output of  \n",
    "test_weights = [[1,5,7,45],[1,6,8],[45,7],[3,5,7,8,2,65,78,89]]\n",
    "W_F = IM.get_full_weight(test_weights)\n",
    "\n",
    "# Goal: W_F[x, y,..., a] = test_weights[0][x]*test_weights[1][y]*...*test_weights[-1][a]\n",
    "\n",
    "# for this test, we will just use a stacked for loop to make sure we are computing the right value. Generality is put aside for now.\n",
    "for x in range(len(test_weights[0])):\n",
    "    for y in range(len(test_weights[1])):\n",
    "        for z in range(len(test_weights[2])):\n",
    "            for a in range(len(test_weights[3])):\n",
    "                if W_F[x, y, z, a] != test_weights[0][x]*test_weights[1][y]*test_weights[2][z]*test_weights[3][a]:\n",
    "                    print(\"Failed\")\n",
    "                    break\n",
    "print(\"Pass\")"
   ]
  },
  {
   "cell_type": "markdown",
   "id": "a504d12d",
   "metadata": {},
   "source": [
    "# Reshape Demo"
   ]
  },
  {
   "cell_type": "markdown",
   "id": "7bea560f",
   "metadata": {},
   "source": [
    "Some interesting things I've found:\n",
    "\n",
    "    Out here we use A.reshape to reshape an array, and the transformation from our original matrix to 2D data matrix X is indeed simply A.reshape."
   ]
  },
  {
   "cell_type": "code",
   "execution_count": 4,
   "id": "331fa206",
   "metadata": {},
   "outputs": [],
   "source": [
    "# Methods to create a testing input X\n",
    "\n",
    "from typing import List\n",
    "from sklearn.base import TransformerMixin\n",
    "HANDLED_FUNCTIONS = {}\n",
    "\n",
    "class AxesArray(np.lib.mixins.NDArrayOperatorsMixin, np.ndarray):\n",
    "    \"\"\"A numpy-like array that keeps track of the meaning of its axes.\n",
    "\n",
    "    Paramters:\n",
    "        input_array (array-like): the data to create the array.\n",
    "        axes (dict): A dictionary of axis labels to shape indices.\n",
    "            Allowed keys:\n",
    "                - ax_time: int\n",
    "                - ax_coord: int\n",
    "                - ax_sample: int\n",
    "                - ax_spatial: List[int]\n",
    "\n",
    "    Raises:\n",
    "        AxesWarning if axes does not match shape of input_array\n",
    "    \"\"\"\n",
    "\n",
    "    def __new__(cls, input_array, axes):\n",
    "        obj = np.asarray(input_array).view(cls)\n",
    "        defaults = {\n",
    "            \"ax_time\": None,\n",
    "            \"ax_coord\": None,\n",
    "            \"ax_sample\": None,\n",
    "            \"ax_spatial\": [],\n",
    "        }\n",
    "        if axes is None:\n",
    "            return obj\n",
    "        obj.__dict__.update({**defaults, **axes})\n",
    "        return obj\n",
    "\n",
    "    def __array_finalize__(self, obj) -> None:\n",
    "        if obj is None:\n",
    "            return\n",
    "        self.ax_time = getattr(obj, \"ax_time\", None)\n",
    "        self.ax_coord = getattr(obj, \"ax_coord\", None)\n",
    "        self.ax_sample = getattr(obj, \"ax_sample\", None)\n",
    "        self.ax_spatial = getattr(obj, \"ax_spatial\", [])\n",
    "\n",
    "    @property\n",
    "    def n_spatial(self):\n",
    "        return tuple(self.shape[ax] for ax in self.ax_spatial)\n",
    "\n",
    "    @property\n",
    "    def n_time(self):\n",
    "        return self.shape[self.ax_time] if self.ax_time is not None else 1\n",
    "\n",
    "    @property\n",
    "    def n_sample(self):\n",
    "        return self.shape[self.ax_sample] if self.ax_sample is not None else 1\n",
    "\n",
    "    @property\n",
    "    def n_coord(self):\n",
    "        return self.shape[self.ax_coord] if self.ax_coord is not None else 1\n",
    "\n",
    "    def __array_ufunc__(\n",
    "        self, ufunc, method, *inputs, out=None, **kwargs\n",
    "    ):  # this method is called whenever you use a ufunc\n",
    "        args = []\n",
    "        for input_ in inputs:\n",
    "            if isinstance(input_, AxesArray):\n",
    "                args.append(input_.view(np.ndarray))\n",
    "            else:\n",
    "                args.append(input_)\n",
    "\n",
    "        outputs = out\n",
    "        if outputs:\n",
    "            out_args = []\n",
    "            for output in outputs:\n",
    "                if isinstance(output, AxesArray):\n",
    "                    out_args.append(output.view(np.ndarray))\n",
    "                else:\n",
    "                    out_args.append(output)\n",
    "            kwargs[\"out\"] = tuple(out_args)\n",
    "        else:\n",
    "            outputs = (None,) * ufunc.nout\n",
    "        results = super().__array_ufunc__(ufunc, method, *args, **kwargs)\n",
    "        if results is NotImplemented:\n",
    "            return NotImplemented\n",
    "        if method == \"at\":\n",
    "            return\n",
    "        if ufunc.nout == 1:\n",
    "            results = (results,)\n",
    "        results = tuple(\n",
    "            (AxesArray(np.asarray(result), self.__dict__) if output is None else output)\n",
    "            for result, output in zip(results, outputs)\n",
    "        )\n",
    "        return results[0] if len(results) == 1 else results\n",
    "\n",
    "    def __array_function__(self, func, types, args, kwargs):\n",
    "        if func not in HANDLED_FUNCTIONS:\n",
    "            arr = super(AxesArray, self).__array_function__(func, types, args, kwargs)\n",
    "            if isinstance(arr, np.ndarray):\n",
    "                return AxesArray(arr, axes=self.__dict__)\n",
    "            elif arr is not None:\n",
    "                return arr\n",
    "            return\n",
    "        if not all(issubclass(t, AxesArray) for t in types):\n",
    "            return NotImplemented\n",
    "        return HANDLED_FUNCTIONS[func](*args, **kwargs)\n",
    "    \n",
    "# This is how we created X from the original list of stuff, \n",
    "def concat_sample_axis(x_list: List[AxesArray]):\n",
    "    \"\"\"Concatenate all trajectories and axes used to create samples.\"\"\"\n",
    "    new_arrs = []\n",
    "    for x in x_list:\n",
    "        sample_axes = (\n",
    "            x.ax_spatial\n",
    "            + ([x.ax_time] if x.ax_time is not None else [])\n",
    "            + ([x.ax_sample] if x.ax_sample is not None else [])\n",
    "        )\n",
    "        \n",
    "#         print(sample_axes)\n",
    "        \n",
    "        new_axes = {\"ax_sample\": 0, \"ax_coord\": 1}\n",
    "        n_samples = np.prod([x.shape[ax] for ax in sample_axes])\n",
    "        \n",
    "#         print(n_samples)\n",
    "        \n",
    "#         the new 2D data matrix is literally created with a reshape\n",
    "#         print(x.reshape((n_samples, x.shape[x.ax_coord])))\n",
    "        arr = AxesArray(x.reshape((n_samples, x.shape[x.ax_coord])), new_axes)\n",
    "#         Actually, this is problematic. We only did a reshape without doing any filtering and stuff \n",
    "#         so we cannot guarantee each column is indeed a feature\n",
    "        \n",
    "#         and each 2D data matrix (for their corresponding trajectory) is put into a list. \n",
    "        new_arrs.append(arr)\n",
    "    return np.concatenate(new_arrs, axis=new_arrs[0].ax_sample)"
   ]
  },
  {
   "cell_type": "code",
   "execution_count": 5,
   "id": "72b23c0b",
   "metadata": {},
   "outputs": [
    {
     "data": {
      "text/plain": [
       "0.0"
      ]
     },
     "execution_count": 5,
     "metadata": {},
     "output_type": "execute_result"
    }
   ],
   "source": [
    "# space_1, space_2, t, coord(feature)\n",
    "# We carry the assumption that the first d-2 axis are spatial, second last is time, and last is coords. \n",
    "A = np.random.rand(12, 13, 7, 2)\n",
    "axes = {\"ax_spatial\": [0, 1], \"ax_time\": 2, \"ax_coord\": 3}\n",
    "A_ = AxesArray(A, axes)\n",
    "\n",
    "# need brackets around A_ as input is list of trajectories\n",
    "A_2 = concat_sample_axis([A_])\n",
    "\n",
    "# indeed, an reshape retrieves the original matrix.\n",
    "np.linalg.norm(A_2.reshape(A.shape)-A)"
   ]
  },
  {
   "cell_type": "markdown",
   "id": "952999c0",
   "metadata": {},
   "source": [
    "# We now test the part where we filter data points in a subdomain out of X."
   ]
  },
  {
   "cell_type": "markdown",
   "id": "76afd0b5",
   "metadata": {},
   "source": [
    "### We carry the assumption that the first d-2 axis are spatial, second last is time, and last is coords. "
   ]
  },
  {
   "cell_type": "code",
   "execution_count": 6,
   "id": "a3aed945",
   "metadata": {},
   "outputs": [
    {
     "name": "stdout",
     "output_type": "stream",
     "text": [
      "0.0\n"
     ]
    }
   ],
   "source": [
    "from scipy.io import loadmat\n",
    "\n",
    "# Construct a sample input for our program.\n",
    "data = loadmat('pysindy-master/examples/data/burgers.mat')\n",
    "time = np.ravel(data['t'])\n",
    "x = np.ravel(data['x'])\n",
    "X, T = np.meshgrid(x, time)\n",
    "\n",
    "axes = {\"ax_spatial\": [0], \"ax_time\": 1, \"ax_coord\": 2}\n",
    "A = AxesArray(np.asarray([X, T]).T, axes)\n",
    "\n",
    "# Here we only care about the size of the grid, which will match the size of A without the feature axis.\n",
    "# The last axis won't matter so we just put a 1 there\n",
    "# spatiotemporal_grid is a parameter of our program\n",
    "spatiotemporal_grid = np.zeros(list(np.shape(np.asarray([X, T]).T)[0:-1]) + [1])\n",
    "\n",
    "# A_ is a parameter of our program\n",
    "A_ = concat_sample_axis([A])\n",
    "\n",
    "Data = IM.retrieve_data_mat(spatiotemporal_grid, A_)\n",
    "\n",
    "print(np.linalg.norm(Data-A))"
   ]
  },
  {
   "cell_type": "markdown",
   "id": "eb75232b",
   "metadata": {},
   "source": [
    "### With Data matrix retrieved, we now filter it."
   ]
  },
  {
   "cell_type": "code",
   "execution_count": 7,
   "id": "c5a5c304",
   "metadata": {},
   "outputs": [
    {
     "name": "stdout",
     "output_type": "stream",
     "text": [
      "0.0\n"
     ]
    }
   ],
   "source": [
    "# We want the first feature\n",
    "j = 0\n",
    "# We want the 50-th time point\n",
    "t_ind = 50\n",
    "# The subdomain is bounded by the 10-th and 20-th point. We only have 1D but if we have more dimensions, \n",
    "# x_bound is expected to be a list of list, with bounds of each spatial dimensions in order.\n",
    "x_bound = [[10, 20]]\n",
    "\n",
    "# +1 to include the last point\n",
    "Expected = np.asarray([X, T]).T[x_bound[0][0]:x_bound[0][1], 50, 0]\n",
    "\n",
    "obtained = IM.filterX(Data, j, x_bound, t_ind)\n",
    "\n",
    "print(np.linalg.norm(Expected - obtained))"
   ]
  },
  {
   "cell_type": "markdown",
   "id": "44d5488d",
   "metadata": {},
   "source": [
    "# Test 1D integral calculation against trapezoidal rule."
   ]
  },
  {
   "cell_type": "code",
   "execution_count": 8,
   "id": "d98b518f",
   "metadata": {},
   "outputs": [],
   "source": [
    "# Generate Data\n",
    "from sklearn.metrics import mean_squared_error\n",
    "from scipy.io import loadmat\n",
    "\n",
    "# Construct a sample input for our program.\n",
    "data = loadmat('pysindy-master/examples/data/burgers.mat')\n",
    "time = np.ravel(data['t'])\n",
    "x = np.ravel(data['x'])\n",
    "X, T = np.meshgrid(x, time)\n",
    "\n",
    "u = np.real(data['usol'])\n",
    "rmse = mean_squared_error(u, np.zeros(u.shape), squared=False)\n",
    "u = u + np.random.normal(0, rmse / 5.0, u.shape)\n",
    "u = np.reshape(u, (len(x), len(time), 1))\n",
    "axes = {\"ax_spatial\": [0], \"ax_time\": 1, \"ax_coord\": 2}\n",
    "U = AxesArray(u, axes)\n",
    "\n",
    "spatiotemporal_grid = np.asarray([X, T]).T"
   ]
  },
  {
   "cell_type": "code",
   "execution_count": 9,
   "id": "8e2d11fd",
   "metadata": {},
   "outputs": [],
   "source": [
    "# Setup sample parameters\n",
    "j = 0\n",
    "t = 10\n",
    "endpts = [[0, 90]]"
   ]
  },
  {
   "cell_type": "code",
   "execution_count": 11,
   "id": "e8cff035",
   "metadata": {},
   "outputs": [
    {
     "name": "stderr",
     "output_type": "stream",
     "text": [
      "/src/notebooks/work/pysindy-nonlocal_interaction/integral/IntegralMethods.py:63: FutureWarning: Using a non-tuple sequence for multidimensional indexing is deprecated; use `arr[tuple(seq)]` instead of `arr[seq]`. In the future this will be interpreted as an array index, `arr[np.array(seq)]`, which will result either in an error or a different result.\n",
      "  this_dim = spatiotemporal_grid[index]\n"
     ]
    },
    {
     "ename": "TypeError",
     "evalue": "'int' object is not subscriptable",
     "output_type": "error",
     "traceback": [
      "\u001b[0;31m---------------------------------------------------------------------------\u001b[0m",
      "\u001b[0;31mTypeError\u001b[0m                                 Traceback (most recent call last)",
      "\u001b[0;32m/tmp/ipykernel_197/1797140536.py\u001b[0m in \u001b[0;36m<module>\u001b[0;34m\u001b[0m\n\u001b[1;32m      3\u001b[0m \u001b[0;34m\u001b[0m\u001b[0m\n\u001b[1;32m      4\u001b[0m \u001b[0;31m# Apply our program\u001b[0m\u001b[0;34m\u001b[0m\u001b[0;34m\u001b[0m\u001b[0m\n\u001b[0;32m----> 5\u001b[0;31m \u001b[0mobtained\u001b[0m \u001b[0;34m=\u001b[0m \u001b[0mIM\u001b[0m\u001b[0;34m.\u001b[0m\u001b[0mcompute_integral\u001b[0m\u001b[0;34m(\u001b[0m\u001b[0mU\u001b[0m\u001b[0;34m,\u001b[0m \u001b[0mspatiotemporal_grid\u001b[0m\u001b[0;34m,\u001b[0m \u001b[0mt\u001b[0m\u001b[0;34m,\u001b[0m \u001b[0mj\u001b[0m\u001b[0;34m,\u001b[0m \u001b[0mendpts\u001b[0m\u001b[0;34m)\u001b[0m\u001b[0;34m\u001b[0m\u001b[0m\n\u001b[0m\u001b[1;32m      6\u001b[0m \u001b[0;34m\u001b[0m\u001b[0m\n\u001b[1;32m      7\u001b[0m \u001b[0mprint\u001b[0m\u001b[0;34m(\u001b[0m\u001b[0mabs\u001b[0m\u001b[0;34m(\u001b[0m\u001b[0mref\u001b[0m\u001b[0;34m-\u001b[0m\u001b[0mobtained\u001b[0m\u001b[0;34m)\u001b[0m\u001b[0;34m)\u001b[0m\u001b[0;34m\u001b[0m\u001b[0m\n",
      "\u001b[0;32m/src/notebooks/work/pysindy-nonlocal_interaction/integral/IntegralMethods.py\u001b[0m in \u001b[0;36mcompute_integral\u001b[0;34m(X, spatiotemporal_grid, t, j, endpts)\u001b[0m\n\u001b[1;32m     70\u001b[0m \u001b[0;31m# We now construct F, the spatial grid within a subdomain\u001b[0m\u001b[0;34m\u001b[0m\u001b[0;34m\u001b[0m\u001b[0m\n\u001b[1;32m     71\u001b[0m     \u001b[0mX_F\u001b[0m \u001b[0;34m=\u001b[0m \u001b[0mretrieve_data_mat\u001b[0m\u001b[0;34m(\u001b[0m\u001b[0mspatiotemporal_grid\u001b[0m\u001b[0;34m,\u001b[0m \u001b[0mX\u001b[0m\u001b[0;34m)\u001b[0m\u001b[0;34m\u001b[0m\u001b[0m\n\u001b[0;32m---> 72\u001b[0;31m     \u001b[0mF\u001b[0m \u001b[0;34m=\u001b[0m \u001b[0mfilterX\u001b[0m\u001b[0;34m(\u001b[0m\u001b[0mX\u001b[0m\u001b[0;34m,\u001b[0m \u001b[0mj\u001b[0m\u001b[0;34m,\u001b[0m \u001b[0mendpts\u001b[0m\u001b[0;34m,\u001b[0m \u001b[0mt\u001b[0m\u001b[0;34m)\u001b[0m\u001b[0;34m\u001b[0m\u001b[0m\n\u001b[0m\u001b[1;32m     73\u001b[0m \u001b[0;34m\u001b[0m\u001b[0m\n\u001b[1;32m     74\u001b[0m     \u001b[0;32mreturn\u001b[0m \u001b[0mnp\u001b[0m\u001b[0;34m.\u001b[0m\u001b[0msum\u001b[0m\u001b[0;34m(\u001b[0m\u001b[0mnp\u001b[0m\u001b[0;34m.\u001b[0m\u001b[0mmultiply\u001b[0m\u001b[0;34m(\u001b[0m\u001b[0mW_F\u001b[0m\u001b[0;34m,\u001b[0m \u001b[0mF\u001b[0m\u001b[0;34m)\u001b[0m\u001b[0;34m)\u001b[0m\u001b[0;34m\u001b[0m\u001b[0m\n",
      "\u001b[0;32m/src/notebooks/work/pysindy-nonlocal_interaction/integral/IntegralMethods.py\u001b[0m in \u001b[0;36mfilterX\u001b[0;34m(X, j, bound, t_ind)\u001b[0m\n\u001b[1;32m    124\u001b[0m     \u001b[0mindex\u001b[0m \u001b[0;34m=\u001b[0m \u001b[0;34m[\u001b[0m\u001b[0;36m0\u001b[0m\u001b[0;34m]\u001b[0m\u001b[0;34m*\u001b[0m\u001b[0mlen\u001b[0m\u001b[0;34m(\u001b[0m\u001b[0mnp\u001b[0m\u001b[0;34m.\u001b[0m\u001b[0mshape\u001b[0m\u001b[0;34m(\u001b[0m\u001b[0mX\u001b[0m\u001b[0;34m)\u001b[0m\u001b[0;34m)\u001b[0m\u001b[0;34m\u001b[0m\u001b[0m\n\u001b[1;32m    125\u001b[0m     \u001b[0;32mfor\u001b[0m \u001b[0mi\u001b[0m \u001b[0;32min\u001b[0m \u001b[0mrange\u001b[0m\u001b[0;34m(\u001b[0m\u001b[0mnp\u001b[0m\u001b[0;34m.\u001b[0m\u001b[0mshape\u001b[0m\u001b[0;34m(\u001b[0m\u001b[0mbound\u001b[0m\u001b[0;34m)\u001b[0m\u001b[0;34m[\u001b[0m\u001b[0;36m0\u001b[0m\u001b[0;34m]\u001b[0m\u001b[0;34m)\u001b[0m\u001b[0;34m:\u001b[0m\u001b[0;34m\u001b[0m\u001b[0m\n\u001b[0;32m--> 126\u001b[0;31m         \u001b[0mindex\u001b[0m\u001b[0;34m[\u001b[0m\u001b[0mi\u001b[0m\u001b[0;34m]\u001b[0m \u001b[0;34m=\u001b[0m \u001b[0mslice\u001b[0m\u001b[0;34m(\u001b[0m\u001b[0mbound\u001b[0m\u001b[0;34m[\u001b[0m\u001b[0mi\u001b[0m\u001b[0;34m]\u001b[0m\u001b[0;34m[\u001b[0m\u001b[0;36m0\u001b[0m\u001b[0;34m]\u001b[0m\u001b[0;34m,\u001b[0m \u001b[0mbound\u001b[0m\u001b[0;34m[\u001b[0m\u001b[0mi\u001b[0m\u001b[0;34m]\u001b[0m\u001b[0;34m[\u001b[0m\u001b[0;36m1\u001b[0m\u001b[0;34m]\u001b[0m\u001b[0;34m)\u001b[0m\u001b[0;34m\u001b[0m\u001b[0m\n\u001b[0m\u001b[1;32m    127\u001b[0m     \u001b[0mindex\u001b[0m\u001b[0;34m[\u001b[0m\u001b[0;34m-\u001b[0m\u001b[0;36m2\u001b[0m\u001b[0;34m]\u001b[0m \u001b[0;34m=\u001b[0m \u001b[0mt_ind\u001b[0m\u001b[0;34m\u001b[0m\u001b[0m\n\u001b[1;32m    128\u001b[0m     \u001b[0mindex\u001b[0m\u001b[0;34m[\u001b[0m\u001b[0;34m-\u001b[0m\u001b[0;36m1\u001b[0m\u001b[0;34m]\u001b[0m \u001b[0;34m=\u001b[0m \u001b[0mj\u001b[0m\u001b[0;34m\u001b[0m\u001b[0m\n",
      "\u001b[0;31mTypeError\u001b[0m: 'int' object is not subscriptable"
     ]
    }
   ],
   "source": [
    "# Construct reference value\n",
    "ref = np.trapz(U[endpts[0][0]:endpts[0][1], t, j], x=spatiotemporal_grid[endpts[0][0]:endpts[0][1], t, 0])\n",
    "\n",
    "# Apply our program\n",
    "obtained = IM.compute_integral(U, spatiotemporal_grid, t, j, endpts)\n",
    "    \n",
    "print(abs(ref-obtained))"
   ]
  },
  {
   "cell_type": "markdown",
   "id": "b5abe45a",
   "metadata": {},
   "source": [
    "# Test with 2D reaction diffusion equation"
   ]
  },
  {
   "cell_type": "code",
   "execution_count": null,
   "id": "7fe3e8fe",
   "metadata": {},
   "outputs": [],
   "source": [
    "from numpy.fft import fft2, ifft2\n",
    "from scipy.integrate import solve_ivp\n",
    "import matplotlib.pyplot as plt\n",
    "\n",
    "# Define the reaction-diffusion PDE in the Fourier (kx, ky) space\n",
    "def reaction_diffusion(t, uvt, K22, d1, d2, beta, n, N):\n",
    "    ut = np.reshape(uvt[:N], (n, n))\n",
    "    vt = np.reshape(uvt[N : 2 * N], (n, n))\n",
    "    u = np.real(ifft2(ut))\n",
    "    v = np.real(ifft2(vt))\n",
    "    u3 = u ** 3\n",
    "    v3 = v ** 3\n",
    "    u2v = (u ** 2) * v\n",
    "    uv2 = u * (v ** 2)\n",
    "    utrhs = np.reshape((fft2(u - u3 - uv2 + beta * u2v + beta * v3)), (N, 1))\n",
    "    vtrhs = np.reshape((fft2(v - u2v - v3 - beta * u3 - beta * uv2)), (N, 1))\n",
    "    uvt_reshaped = np.reshape(uvt, (len(uvt), 1))\n",
    "    uvt_updated = np.squeeze(\n",
    "        np.vstack(\n",
    "            (-d1 * K22 * uvt_reshaped[:N] + utrhs, \n",
    "             -d2 * K22 * uvt_reshaped[N:] + vtrhs)\n",
    "        )\n",
    "    )\n",
    "    return uvt_updated\n",
    "\n",
    "\n",
    "# Generate the data\n",
    "t = np.linspace(0, 10, int(10 / 0.1))\n",
    "d1 = 0.1\n",
    "d2 = 0.1\n",
    "beta = 1.0\n",
    "L = 20  # Domain size in X and Y directions\n",
    "n = 64  # Number of spatial points in each direction\n",
    "N = n * n\n",
    "x_uniform = np.linspace(-L / 2, L / 2, n + 1)\n",
    "x = x_uniform[:n]\n",
    "y = x_uniform[:n]\n",
    "n2 = int(n / 2)\n",
    "# Define Fourier wavevectors (kx, ky)\n",
    "kx = (2 * np.pi / L) * np.hstack((np.linspace(0, n2 - 1, n2), \n",
    "                                  np.linspace(-n2, -1, n2)))\n",
    "ky = kx\n",
    "# Get 2D meshes in (x, y) and (kx, ky)\n",
    "X, Y = np.meshgrid(x, y)\n",
    "KX, KY = np.meshgrid(kx, ky)\n",
    "K2 = KX ** 2 + KY ** 2\n",
    "K22 = np.reshape(K2, (N, 1))\n",
    "\n",
    "m = 1  # number of spirals\n",
    "\n",
    "# define our solution vectors\n",
    "u = np.zeros((len(x), len(y), len(t)))\n",
    "v = np.zeros((len(x), len(y), len(t)))\n",
    "\n",
    "# Initial conditions\n",
    "u[:, :, 0] = np.tanh(np.sqrt(X ** 2 + Y ** 2)) * np.cos(\n",
    "    m * np.angle(X + 1j * Y) - (np.sqrt(X ** 2 + Y ** 2))\n",
    ")\n",
    "v[:, :, 0] = np.tanh(np.sqrt(X ** 2 + Y ** 2)) * np.sin(\n",
    "    m * np.angle(X + 1j * Y) - (np.sqrt(X ** 2 + Y ** 2))\n",
    ")\n",
    "\n",
    "# uvt is the solution vector in Fourier space, so below\n",
    "# we are initializing the 2D FFT of the initial condition, uvt0\n",
    "uvt0 = np.squeeze(\n",
    "    np.hstack(\n",
    "        (np.reshape(fft2(u[:, :, 0]), (1, N)), \n",
    "         np.reshape(fft2(v[:, :, 0]), (1, N)))\n",
    "    )\n",
    ")\n",
    "\n",
    "# Solve the PDE in the Fourier space, where it reduces to system of ODEs\n",
    "uvsol = solve_ivp(\n",
    "    reaction_diffusion, \n",
    "    (t[0], t[-1]), \n",
    "    y0=uvt0, \n",
    "    t_eval=t, \n",
    "    args=(K22, d1, d2, beta, n, N)\n",
    ")\n",
    "uvsol = uvsol.y\n",
    "\n",
    "# Reshape things and ifft back into (x, y, t) space from (kx, ky, t) space\n",
    "for j in range(len(t)):\n",
    "    ut = np.reshape(uvsol[:N, j], (n, n))\n",
    "    vt = np.reshape(uvsol[N:, j], (n, n))\n",
    "    u[:, :, j] = np.real(ifft2(ut))\n",
    "    v[:, :, j] = np.real(ifft2(vt))\n",
    "\n",
    "dt = t[1] - t[0]\n",
    "dx = x[1] - x[0]\n",
    "dy = y[1] - y[0]\n",
    "\n",
    "u_sol = u\n",
    "v_sol = v\n",
    "\n",
    "U = np.zeros((n, n, len(t), 2))\n",
    "U[:, :, :, 0] = u_sol\n",
    "U[:, :, :, 1] = v_sol\n",
    "X, Y, T = np.meshgrid(x, y, t, indexing='ij')\n",
    "XYT = np.transpose([X, Y, T], [1, 2, 3, 0])"
   ]
  },
  {
   "cell_type": "markdown",
   "id": "3e4a6a74",
   "metadata": {},
   "source": [
    "### Data matrix is U, spatiotemporal_grid is XYT"
   ]
  },
  {
   "cell_type": "code",
   "execution_count": null,
   "id": "487c7f23",
   "metadata": {},
   "outputs": [],
   "source": [
    "j = 0\n",
    "t = 10\n",
    "endpts = [[0, 10], [0, 10]]"
   ]
  },
  {
   "cell_type": "code",
   "execution_count": null,
   "id": "d6b6ad18",
   "metadata": {},
   "outputs": [],
   "source": [
    "length = endpts[-1][1]-endpts[-1][0]\n",
    "X = []\n",
    "for i in range(length):\n",
    "    res = np.trapz(U[endpts[0][0]:endpts[0][1], i, t, j], x=XYT[endpts[0][0]:endpts[0][1], i, t, 0])\n",
    "    \n",
    "    X.append(res)\n",
    "    \n",
    "ref = np.trapz(X, x=XYT[0, endpts[1][0]:endpts[1][1], t, 1])\n",
    "print(ref)"
   ]
  },
  {
   "cell_type": "markdown",
   "id": "35c3857f",
   "metadata": {},
   "source": [
    "## Validate Ref Value with another approach to 2D trapz."
   ]
  },
  {
   "cell_type": "code",
   "execution_count": null,
   "id": "5c3a546f",
   "metadata": {},
   "outputs": [],
   "source": [
    "xarr = XYT[0:10, 0, 0, 0]\n",
    "yarr = XYT[0, 0:10, 0, 1]\n",
    "ref2 = 0\n",
    "# area = np.zeros((len(xarr)-1)*(len(yarr)-1))\n",
    "for i in np.arange(len(xarr)-1):\n",
    "    for k in np.arange(len(yarr)-1):\n",
    "        area = (xarr[i+1]-xarr[i])*(yarr[k+1]-yarr[k])\n",
    "        weight = (U[i, k, t, j]+U[i+1, k, t, j]+U[i, k+1, t, j]+U[i+1, k+1, t, j])/4\n",
    "        ref2 += area*weight\n",
    "print(abs(ref-ref2))"
   ]
  },
  {
   "cell_type": "markdown",
   "id": "0d8ca8d3",
   "metadata": {},
   "source": [
    "## Compare result with our program."
   ]
  },
  {
   "cell_type": "code",
   "execution_count": null,
   "id": "7ba007d6",
   "metadata": {},
   "outputs": [],
   "source": [
    "obtained = IM.compute_integral(U, XYT, t, j, endpts)\n",
    "print(abs(ref-obtained))"
   ]
  },
  {
   "cell_type": "code",
   "execution_count": null,
   "id": "cedd503d",
   "metadata": {},
   "outputs": [],
   "source": []
  }
 ],
 "metadata": {
  "kernelspec": {
   "display_name": "Python 3 (ipykernel)",
   "language": "python",
   "name": "python3"
  },
  "language_info": {
   "codemirror_mode": {
    "name": "ipython",
    "version": 3
   },
   "file_extension": ".py",
   "mimetype": "text/x-python",
   "name": "python",
   "nbconvert_exporter": "python",
   "pygments_lexer": "ipython3",
   "version": "3.7.0"
  },
  "vscode": {
   "interpreter": {
    "hash": "043433d6b18bdeb8544c06540320f4c494e406f840db1fa6d3d1188f7786a55f"
   }
  }
 },
 "nbformat": 4,
 "nbformat_minor": 5
}
