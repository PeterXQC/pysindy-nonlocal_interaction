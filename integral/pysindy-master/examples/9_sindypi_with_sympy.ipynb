{
 "cells": [
  {
   "cell_type": "markdown",
   "metadata": {},
   "source": [
    "# SINDy-PI Feature Overview\n",
    "\n",
    "This notebook provides a simple overview of the basic functionality of SINDy-PI implemented in PySINDy, and is written by Alan Kaptanoglu and Kadierdan Kaheman. SINDy-PI is used to handle generic implicit ODEs (or PDEs) of the form,\n",
    "$$ \\frac{d}{dt}\\mathbf{x} = \\mathbf{f}(\\mathbf{x}, \\dot{\\mathbf{x}}) \\approx \\mathbf{\\Theta}(\\mathbf{x}, \\dot{\\mathbf{x}})\\mathbf{\\Xi}$$\n",
    "This is based off of the paper \"Kaheman, K., Kutz, J. N., & Brunton, S. L. (2020). SINDy-PI: a robust algorithm for parallel implicit sparse identification of nonlinear dynamics. Proceedings of the Royal Society A, 476(2242), 20200279.\" Youtube description can be found here https://www.youtube.com/watch?v=sP8JXF9_wAs.\n",
    "\n",
    "Building SINDy libraries $\\mathbf{\\Theta}(\\mathbf{x}, \\dot{\\mathbf{x}})$ depending on both $\\mathbf{x}$ and $\\dot{\\mathbf{x}}$ is possible with the PDE or weakPDE libraries using implicit_terms = True and providing a temporal grid for differentiation. In this case, one must be sure to omit the linear $\\dot{\\mathbf{x}}$ term in the library (since then the SINDy model will just fit $\\dot{\\mathbf{x}} = \\dot{\\mathbf{x}}$) and otherwise be careful about the matrix conditioning, and this is what the SINDyPI optimizer class is for.\n",
    "\n",
    "The benefit of not using the SINDy-PI functionality is that you can avoid using SymPy (see below).\n",
    "\n",
    "An interactive version of this notebook is available on binder\n",
    "[![Binder](https://mybinder.org/badge_logo.svg)](https://mybinder.org/v2/gh/dynamicslab/pysindy/v1.7.1?filepath=examples/9_sindypi_with_sympy.ipynb)"
   ]
  },
  {
   "cell_type": "code",
   "execution_count": 1,
   "metadata": {},
   "outputs": [],
   "source": [
    "# Import libraries.\n",
    "import numpy as np\n",
    "from matplotlib import pyplot as plt\n",
    "import pysindy as ps \n",
    "from pysindy.differentiation import FiniteDifference\n",
    "from pysindy.utils import enzyme, bacterial\n",
    "import sympy as sp\n",
    "from scipy.integrate import solve_ivp\n",
    "from sklearn.metrics import r2_score\n",
    "\n",
    "# For reproducibility\n",
    "np.random.seed(100)\n",
    "\n",
    "integrator_keywords = {}\n",
    "integrator_keywords['rtol'] = 1e-12\n",
    "integrator_keywords['method'] = 'LSODA'\n",
    "integrator_keywords['atol'] = 1e-12"
   ]
  },
  {
   "cell_type": "markdown",
   "metadata": {},
   "source": [
    "### Illustration of different ways to make SINDy-PI feature libraries"
   ]
  },
  {
   "cell_type": "code",
   "execution_count": 2,
   "metadata": {},
   "outputs": [
    {
     "name": "stdout",
     "output_type": "stream",
     "text": [
      "Without function names: \n",
      "['f0(x0)', 'f0(x1)', 'f1(x0,x1)', 'f_dot0(x0_dot)', 'f_dot0(x1_dot)', 'f0(x0)f_dot0(x0_dot)', 'f0(x1)f_dot0(x0_dot)', 'f1(x0,x1)f_dot0(x0_dot)', 'f0(x0)f_dot0(x1_dot)', 'f0(x1)f_dot0(x1_dot)', 'f1(x0,x1)f_dot0(x1_dot)'] \n",
      "\n",
      "With function names: \n",
      "['exp(x0)', 'exp(x1)', 'sin(x0x1)', 'x0_dot', 'x1_dot', 'exp(x0)x0_dot', 'exp(x1)x0_dot', 'sin(x0x1)x0_dot', 'exp(x0)x1_dot', 'exp(x1)x1_dot', 'sin(x0x1)x1_dot'] \n",
      "\n",
      "With function names: \n",
      "['exp(x0)', 'exp(x1)', 'sin(x0x1)', 'x0_t', 'x1_t', 'exp(x0)x0_t', 'exp(x0)x1_t', 'exp(x1)x0_t', 'exp(x1)x1_t', 'sin(x0x1)x0_t', 'sin(x0x1)x1_t'] \n",
      "\n",
      "With function names: \n",
      "['exp(x0)', 'exp(x1)', 'sin(x0x1)', 'x0_t', 'x1_t', 'exp(x0)x0_t', 'exp(x0)x1_t', 'exp(x1)x0_t', 'exp(x1)x1_t', 'sin(x0x1)x0_t', 'sin(x0x1)x1_t'] \n",
      "\n"
     ]
    },
    {
     "name": "stderr",
     "output_type": "stream",
     "text": [
      "/Users/zack/pysindy/pysindy/feature_library/sindy_pi_library.py:161: UserWarning: This library is deprecated in PySINDy versions > 1.7. Please use the PDE or WeakPDE libraries instead. \n",
      "  warnings.warn(\n"
     ]
    }
   ],
   "source": [
    "t = np.linspace(0, 1, 100)\n",
    "x = np.ones((100, 2))\n",
    "\n",
    "# Functions to be applied to the data x\n",
    "functions = [lambda x: np.exp(x), lambda x, y: np.sin(x + y)]\n",
    "\n",
    "# Functions to be applied to the data x_dot\n",
    "x_dot_functions = [lambda x: x]\n",
    "\n",
    "lib = ps.SINDyPILibrary(\n",
    "    library_functions=functions,\n",
    "    x_dot_library_functions=x_dot_functions,\n",
    "    t=t,\n",
    ").fit(x)\n",
    "lib.transform(x)\n",
    "print(\"Without function names: \")\n",
    "print(lib.get_feature_names(), \"\\n\")\n",
    "\n",
    "# Function names includes both the x and x_dot functions\n",
    "function_names = [\n",
    "    lambda x: \"exp(\" + x + \")\",\n",
    "    lambda x, y: \"sin(\" + x + y + \")\",\n",
    "    lambda x: x,\n",
    "]\n",
    "lib = ps.SINDyPILibrary(\n",
    "    library_functions=functions,\n",
    "    x_dot_library_functions=x_dot_functions,\n",
    "    function_names=function_names,\n",
    "    t=t,\n",
    ").fit(x)\n",
    "lib.transform(x)\n",
    "print(\"With function names: \")\n",
    "print(lib.get_feature_names(), \"\\n\")\n",
    "\n",
    "# SINDyPILibrary is now deprecated, \n",
    "# use the PDE or WeakPDE library instead.\n",
    "function_names = [\n",
    "    lambda x: \"exp(\" + x + \")\",\n",
    "    lambda x, y: \"sin(\" + x + y + \")\",\n",
    "]\n",
    "lib = ps.PDELibrary(\n",
    "    library_functions=functions,\n",
    "    function_names=function_names,\n",
    "    temporal_grid=t,\n",
    "    derivative_order=1,\n",
    "    implicit_terms=True\n",
    ")\n",
    "lib = lib.fit(x)\n",
    "lib.transform(x)\n",
    "print(\"With function names: \")\n",
    "print(lib.get_feature_names(), \"\\n\")\n",
    "\n",
    "# Repeat with the weak form library\n",
    "lib = ps.WeakPDELibrary(\n",
    "    library_functions=functions,\n",
    "    function_names=function_names,\n",
    "    spatiotemporal_grid=t,\n",
    "    K=2, \n",
    "    derivative_order=1,\n",
    "    implicit_terms=True\n",
    ")\n",
    "lib = lib.fit(x)\n",
    "lib.transform(x)\n",
    "print(\"With function names: \")\n",
    "print(lib.get_feature_names(), \"\\n\")\n"
   ]
  },
  {
   "cell_type": "markdown",
   "metadata": {},
   "source": [
    "### Solve 1D Michelson-Menten enzyme model as first demonstration\n",
    "The Michelson-Menten enzyme model is,\n",
    "$$\\dot{x} = 0.6 - \\frac{1.5 x}{0.3 + x}.$$\n",
    "Note that, instead of dealing with fractional terms, it can be rearranged into\n",
    "$$\\dot{x} = \\frac{3}{5} -3 x - \\frac{10}{3} x\\dot{x},$$\n",
    "which is an implicit ODE, since the right-hand-side now depends on $\\dot{x}$! In order to handle this scenario, SINDy-PI builds a candidate library with terms depending on both $x$ and $\\dot{x}$, and solves the optimization problem, \n",
    "$$\\|\\Theta(x, \\dot{x}) - \\Theta(x, \\dot{x})\\Xi\\|_2 + \\lambda\\|\\Xi\\|_1, \\quad s.t. \\text{diag}(\\Xi) = 0.$$\n",
    "This reason this modified optimization is required is that linear terms in $\\dot{x}$ are no longer guaranteed, so every candidate library term is fit with a different model to find the best combination of implicit terms. Note $\\text{diag}(\\Xi) = 0$ is required because without this, the model would just fit every candidate library term with itself, $\\dot{x} = \\dot{x}$, $x\\dot{x} = x\\dot{x}$, $x^2\\dot{x} = x^2\\dot{x}$, and so on."
   ]
  },
  {
   "cell_type": "code",
   "execution_count": 3,
   "metadata": {},
   "outputs": [
    {
     "name": "stdout",
     "output_type": "stream",
     "text": [
      "Model  0\n",
      "Model  1\n",
      "Model  2\n",
      "Model  3\n",
      "Solver failed on model  3 , setting coefs to zeros\n",
      "Model  4\n",
      "Model  5\n",
      "Model  6\n",
      "Model  7\n",
      "Model  8\n",
      "Model  9\n",
      "1 = 5.000 x0 + 1.667 x0_dot + 5.556 x0x0_dot\n",
      "x0 = 0.200 1 + -0.333 x0_dot + -1.111 x0x0_dot\n",
      "x0x0 = 0.198 x0 + 0.007 x0x0x0 + -0.338 x0x0_dot + -1.099 x0x0x0_dot\n",
      "x0x0x0 = 0.000\n",
      "x0x0x0x0 = -0.001 1 + 0.363 x0x0x0 + 0.041 x0x0_dot + -1.205 x0x0x0x0x0_dot\n",
      "x0_dot = 0.600 1 + -3.000 x0 + -3.333 x0x0_dot\n",
      "x0x0_dot = 0.180 1 + -0.900 x0 + -0.300 x0_dot\n",
      "x0x0x0_dot = -0.004 1 + 0.136 x0 + -0.508 x0x0 + -0.344 x0x0x0 + -0.102 x0x0_dot + -0.219 x0x0x0x0x0_dot\n",
      "x0x0x0x0_dot = 0.003 1 + 0.001 x0 + -0.391 x0x0x0 + -0.247 x0x0x0x0 + -0.108 x0x0_dot\n",
      "x0x0x0x0x0_dot = 0.001 1 + -0.670 x0x0x0x0 + -0.005 x0_dot + 0.029 x0x0_dot + -0.271 x0x0x0_dot\n"
     ]
    },
    {
     "data": {
      "text/plain": [
       "['1',\n",
       " 'x0',\n",
       " 'x0x0',\n",
       " 'x0x0x0',\n",
       " 'x0x0x0x0',\n",
       " 'x0_dot',\n",
       " 'x0x0_dot',\n",
       " 'x0x0x0_dot',\n",
       " 'x0x0x0x0_dot',\n",
       " 'x0x0x0x0x0_dot']"
      ]
     },
     "execution_count": 3,
     "metadata": {},
     "output_type": "execute_result"
    }
   ],
   "source": [
    "# define parameters\n",
    "r = 1\n",
    "dt = 0.001\n",
    "T = 4\n",
    "t = np.arange(0, T + dt, dt)\n",
    "t_span = (t[0], t[-1])\n",
    "x0_train = [0.55]\n",
    "x_train = solve_ivp(enzyme, t_span, x0_train, t_eval=t, **integrator_keywords).y.T\n",
    "\n",
    "# Initialize custom SINDy library so that we can have x_dot inside it. \n",
    "library_functions = [\n",
    "    lambda x: x,\n",
    "    lambda x, y: x * y,\n",
    "    lambda x: x ** 2,\n",
    "    lambda x, y, z: x * y * z,\n",
    "    lambda x, y: x * y ** 2,\n",
    "    lambda x: x ** 3,\n",
    "    lambda x, y, z, w: x * y * z * w,\n",
    "    lambda x, y, z: x * y * z ** 2,\n",
    "    lambda x, y: x * y ** 3,\n",
    "    lambda x: x ** 4,\n",
    "]\n",
    "x_dot_library_functions = [lambda x: x]\n",
    "\n",
    "# library function names includes both \n",
    "# the x_library_functions and x_dot_library_functions names\n",
    "library_function_names = [\n",
    "    lambda x: x,\n",
    "    lambda x, y: x + y,\n",
    "    lambda x: x + x,\n",
    "    lambda x, y, z: x + y + z,\n",
    "    lambda x, y: x + y + y,\n",
    "    lambda x: x + x + x,\n",
    "    lambda x, y, z, w: x + y + z + w,\n",
    "    lambda x, y, z: x + y + z + z,\n",
    "    lambda x, y: x + y + y + y,\n",
    "    lambda x: x + x + x + x,\n",
    "    lambda x: x,\n",
    "]\n",
    "\n",
    "# Need to pass time base to the library so can build the x_dot library from x\n",
    "sindy_library = ps.SINDyPILibrary(\n",
    "    library_functions=library_functions,\n",
    "    x_dot_library_functions=x_dot_library_functions,\n",
    "    t=t,\n",
    "    function_names=library_function_names,\n",
    "    include_bias=True,\n",
    ")\n",
    "\n",
    "sindy_opt = ps.SINDyPI(\n",
    "    threshold=1e-6,\n",
    "    tol=1e-8,\n",
    "    thresholder=\"l1\",\n",
    "    max_iter=20000,\n",
    ")\n",
    "\n",
    "model = ps.SINDy(\n",
    "    optimizer=sindy_opt,\n",
    "    feature_library=sindy_library,\n",
    "    differentiation_method=ps.FiniteDifference(drop_endpoints=True),\n",
    ")\n",
    "model.fit(x_train, t=t)\n",
    "model.print()\n",
    "\n",
    "sindy_library.get_feature_names()"
   ]
  },
  {
   "cell_type": "code",
   "execution_count": 4,
   "metadata": {
    "scrolled": true
   },
   "outputs": [
    {
     "name": "stdout",
     "output_type": "stream",
     "text": [
      "Model  0\n",
      "Model  1\n",
      "Model  2\n",
      "Model  3\n",
      "Model  4\n",
      "Model  5\n",
      "Model  6\n",
      "Model  7\n",
      "Model  8\n",
      "Model  9\n",
      "1 = 5.000 x0 + 1.667 x0_t + 5.555 x0x0_t\n",
      "x0 = 0.200 1 + 0.010 x0x0 + -0.334 x0_t + -1.097 x0x0_t\n",
      "x0x0 = 0.019 1 + 0.080 x0 + 0.627 x0x0x0 + -0.669 x0x0_t\n",
      "x0x0x0 = -0.008 1 + 0.373 x0x0 + 0.823 x0x0x0x0 + 0.033 x0_t\n",
      "x0x0x0x0 = -0.006 1 + 0.893 x0x0x0 + -0.021 x0_t + 0.305 x0x0_t\n",
      "x0_t = 0.597 1 + -2.991 x0 + 0.031 x0x0 + -3.279 x0x0_t\n",
      "x0x0_t = 0.174 1 + -0.863 x0 + -0.029 x0x0 + -0.285 x0_t\n",
      "x0x0x0_t = 0.013 1 + -0.247 x0x0 + -0.405 x0x0x0 + -0.043 x0_t\n",
      "x0x0x0x0_t = 0.010 x0 + -0.143 x0x0x0 + -0.501 x0x0x0x0 + -0.006 x0_t\n",
      "x0x0x0x0x0_t = 0.001 1 + -0.479 x0x0x0x0 + 0.005 x0_t + -0.060 x0x0_t\n"
     ]
    },
    {
     "data": {
      "text/plain": [
       "['1',\n",
       " 'x0',\n",
       " 'x0x0',\n",
       " 'x0x0x0',\n",
       " 'x0x0x0x0',\n",
       " 'x0_t',\n",
       " 'x0x0_t',\n",
       " 'x0x0x0_t',\n",
       " 'x0x0x0x0_t',\n",
       " 'x0x0x0x0x0_t']"
      ]
     },
     "execution_count": 4,
     "metadata": {},
     "output_type": "execute_result"
    }
   ],
   "source": [
    "library_function_names = [\n",
    "    lambda x: x,\n",
    "    lambda x, y: x + y,\n",
    "    lambda x: x + x,\n",
    "    lambda x, y, z: x + y + z,\n",
    "    lambda x, y: x + y + y,\n",
    "    lambda x: x + x + x,\n",
    "    lambda x, y, z, w: x + y + z + w,\n",
    "    lambda x, y, z: x + y + z + z,\n",
    "    lambda x, y: x + y + y + y,\n",
    "    lambda x: x + x + x + x,\n",
    "]\n",
    "\n",
    "sindy_library = ps.WeakPDELibrary(\n",
    "    library_functions=library_functions,\n",
    "    spatiotemporal_grid=t[:,np.newaxis],\n",
    "    function_names=library_function_names,\n",
    "    include_bias=True,\n",
    "    implicit_terms=True,\n",
    "    derivative_order=1, K=2000,\n",
    ")\n",
    "\n",
    "model = ps.SINDy(\n",
    "    optimizer=sindy_opt,\n",
    "    feature_library=sindy_library,\n",
    "    differentiation_method=ps.FiniteDifference(drop_endpoints=True),\n",
    ")\n",
    "model.fit(x_train, t=t)\n",
    "model.print()\n",
    "sindy_library.get_feature_names()\n"
   ]
  },
  {
   "cell_type": "code",
   "execution_count": 5,
   "metadata": {},
   "outputs": [
    {
     "name": "stdout",
     "output_type": "stream",
     "text": [
      "Model  0\n",
      "Model  1\n",
      "Model  2\n",
      "Model  3\n",
      "Solver failed on model  3 , setting coefs to zeros\n",
      "Model  4\n",
      "Model  5\n",
      "Model  6\n",
      "Model  7\n",
      "Model  8\n",
      "Model  9\n",
      "1 = 5.000 x0 + 1.667 x0_t + 5.556 x0x0_t\n",
      "x0 = 0.200 1 + -0.333 x0_t + -1.111 x0x0_t\n",
      "x0x0 = 0.198 x0 + 0.007 x0x0x0 + -0.338 x0x0_t + -1.099 x0x0x0_t\n",
      "x0x0x0 = 0.000\n",
      "x0x0x0x0 = -0.001 1 + 0.363 x0x0x0 + 0.041 x0x0_t + -1.205 x0x0x0x0x0_t\n",
      "x0_t = 0.600 1 + -3.000 x0 + -3.333 x0x0_t\n",
      "x0x0_t = 0.180 1 + -0.900 x0 + -0.300 x0_t\n",
      "x0x0x0_t = -0.004 1 + 0.136 x0 + -0.508 x0x0 + -0.344 x0x0x0 + -0.102 x0x0_t + -0.219 x0x0x0x0x0_t\n",
      "x0x0x0x0_t = 0.003 1 + 0.001 x0 + -0.391 x0x0x0 + -0.247 x0x0x0x0 + -0.108 x0x0_t\n",
      "x0x0x0x0x0_t = 0.001 1 + -0.670 x0x0x0x0 + -0.005 x0_t + 0.029 x0x0_t + -0.271 x0x0x0_t\n"
     ]
    },
    {
     "data": {
      "text/plain": [
       "['1',\n",
       " 'x0',\n",
       " 'x0x0',\n",
       " 'x0x0x0',\n",
       " 'x0x0x0x0',\n",
       " 'x0_t',\n",
       " 'x0x0_t',\n",
       " 'x0x0x0_t',\n",
       " 'x0x0x0x0_t',\n",
       " 'x0x0x0x0x0_t']"
      ]
     },
     "execution_count": 5,
     "metadata": {},
     "output_type": "execute_result"
    }
   ],
   "source": [
    "sindy_library = ps.PDELibrary(\n",
    "    library_functions=library_functions,\n",
    "    temporal_grid=t,\n",
    "    function_names=library_function_names,\n",
    "    include_bias=True,\n",
    "    implicit_terms=True,\n",
    "    derivative_order=1\n",
    ")\n",
    "\n",
    "model = ps.SINDy(\n",
    "    optimizer=sindy_opt,\n",
    "    feature_library=sindy_library,\n",
    "    differentiation_method=ps.FiniteDifference(drop_endpoints=True),\n",
    ")\n",
    "model.fit(x_train, t=t)\n",
    "model.print()\n",
    "sindy_library.get_feature_names()"
   ]
  },
  {
   "cell_type": "markdown",
   "metadata": {},
   "source": [
    "### Okay, so how to choose which model to use?\n",
    "So SINDy-PI has generated a different dynamical model for each of the candidate library terms, but how do we choose which one to use? This can be decided in many ways, but an easy choice is picking the model that minimizes the mean-squared error of the $\\dot{x}$ testing data. There are many other ways to choose, and the SINDy-PI paper noted that bad models tend to also be less sparse, so sparsity is another metric for selection. Below, we simply integrate forward all the models and on this testing trajectory, they basically all perform fine. "
   ]
  },
  {
   "cell_type": "code",
   "execution_count": 6,
   "metadata": {},
   "outputs": [
    {
     "data": {
      "text/plain": [
       "[<matplotlib.lines.Line2D at 0x7fa2bf8153d0>]"
      ]
     },
     "execution_count": 6,
     "metadata": {},
     "output_type": "execute_result"
    },
    {
     "data": {
      "image/png": "[encoded data removed]",
      "text/plain": [
       "<Figure size 432x288 with 1 Axes>"
      ]
     },
     "metadata": {
      "needs_background": "light"
     },
     "output_type": "display_data"
    }
   ],
   "source": [
    "# Plot the fit of the derivative\n",
    "x_dot_train = model.differentiate(x_train, t)\n",
    "x_dot_train_pred = model.predict(x_train)[:, 5]  # will default to d/dt of all the features\n",
    "plt.figure()\n",
    "plt.plot(t, x_dot_train, 'k')\n",
    "plt.plot(t, x_dot_train_pred, 'r--')"
   ]
  },
  {
   "cell_type": "markdown",
   "metadata": {},
   "source": [
    "### Now we need to reformat all the feature strings for conversion into symbolic variables\n",
    "So we have all these nice models but these are implicit ODEs, and the default Python solvers (solve_ivp and odeint) cannot solve implicit ODEs. There are two options although we only illustrate the first option below; we must convert the equations into symbolic variables and then either (1) use SymPy to symbolically solve the equation for $\\dot{x}$, after which the equation is no longer implicit and can be solved with the default Python solves, or (2) convert the equations into a symbolic differential algebraic equation (DAE), which can be numerically solved with the diffeqpy Python package (but requires Julia to be installed). "
   ]
  },
  {
   "cell_type": "code",
   "execution_count": 7,
   "metadata": {},
   "outputs": [
    {
     "name": "stdout",
     "output_type": "stream",
     "text": [
      "['1', 'x0', 'x0x0', 'x0x0x0', 'x0x0x0x0', 'x0_t', 'x0x0_t', 'x0x0x0_t', 'x0x0x0x0_t', 'x0x0x0x0x0_t']\n",
      "['1', 'x0', 'x0 * x0', 'x0 * x0 * x0', 'x0 * x0 * x0 * x0', 'x0_t', 'x0 * x0_t', 'x0 * x0 * x0_t', 'x0 * x0 * x0 * x0_t', 'x0 * x0 * x0 * x0 * x0_t']\n"
     ]
    }
   ],
   "source": [
    "features = model.get_feature_names()\n",
    "features[0] = \"1\"\n",
    "features_copy = list(np.copy(features))\n",
    "nfeatures = len(features)\n",
    "features_formatted = []\n",
    "# Need to put multiplication between terms for sympy\n",
    "for i in range(nfeatures):\n",
    "    for j in range(r):\n",
    "        # Overkill to make sure all the x0, x1, etc. get replaced\n",
    "        temp_string = features[i].replace(\"x\" + str(j) + \"x\", \"x\" + str(j) + \" * x\")\n",
    "        temp_string = temp_string.replace(\"x\" + str(j) + \"x\", \"x\" + str(j) + \" * x\")\n",
    "        temp_string = temp_string.replace(\"x\" + str(j) + \"x\", \"x\" + str(j) + \" * x\")\n",
    "        temp_string = temp_string.replace(\"x\" + str(j) + \"x\", \"x\" + str(j) + \" * x\")\n",
    "        features[i] = temp_string\n",
    "    features_formatted.append(temp_string)\n",
    "features = features_copy\n",
    "print(features)\n",
    "print(features_formatted)\n",
    "coefs = model.coefficients()\n",
    "sym_features = [sp.symbols(feature) for feature in features]\n",
    "sym_theta = [sp.symbols(feature) for feature in features]"
   ]
  },
  {
   "cell_type": "markdown",
   "metadata": {},
   "source": [
    "### Check all the model fits produce sensible models"
   ]
  },
  {
   "cell_type": "code",
   "execution_count": 8,
   "metadata": {},
   "outputs": [
    {
     "name": "stdout",
     "output_type": "stream",
     "text": [
      "1  =  5.0*x0 + 1.67*x0_t + 5.56*x0x0_t\n",
      "x0  =  0.2*1 - 0.33*x0_t - 1.11*x0x0_t\n",
      "x0x0  =  0.2*x0 - 0.34*x0x0_t + 0.01*x0x0x0 - 1.1*x0x0x0_t\n",
      "x0x0x0  =  0\n",
      "x0x0x0x0  =  0.04*x0x0_t + 0.36*x0x0x0 - 1.21*x0x0x0x0x0_t\n",
      "x0_t  =  0.6*1 - 3.0*x0 - 3.33*x0x0_t\n",
      "x0x0_t  =  0.18*1 - 0.9*x0 - 0.3*x0_t\n",
      "x0x0x0_t  =  0.14*x0 - 0.51*x0x0 - 0.1*x0x0_t - 0.34*x0x0x0 - 0.22*x0x0x0x0x0_t\n",
      "x0x0x0x0_t  =  -0.11*x0x0_t - 0.39*x0x0x0 - 0.25*x0x0x0x0\n",
      "x0x0x0x0x0_t  =  -0.01*x0_t + 0.03*x0x0_t - 0.27*x0x0x0_t - 0.67*x0x0x0x0\n"
     ]
    }
   ],
   "source": [
    "sym_equations = []\n",
    "sym_equations_rounded = []\n",
    "for i in range(nfeatures):\n",
    "    sym_equations.append(\n",
    "        sp.solve(\n",
    "            sp.Eq(sym_theta[i], sym_theta @ np.around(coefs[i], 10)), sym_features[i]\n",
    "        )\n",
    "    )\n",
    "    sym_equations_rounded.append(\n",
    "        sp.solve(\n",
    "            sp.Eq(sym_theta[i], sym_theta @ np.around(coefs[i], 2)), sym_features[i]\n",
    "        )\n",
    "    )\n",
    "    print(sym_theta[i], \" = \", sym_equations_rounded[i][0])"
   ]
  },
  {
   "cell_type": "markdown",
   "metadata": {},
   "source": [
    "### Now we will:\n",
    "1. reformat all the equations\n",
    "2. solve symbolically for x_dot \n",
    "3. integrate and plot the new equations for x_dot"
   ]
  },
  {
   "cell_type": "code",
   "execution_count": 9,
   "metadata": {},
   "outputs": [
    {
     "data": {
      "text/plain": [
       "<matplotlib.legend.Legend at 0x7fa2a43c3ca0>"
      ]
     },
     "execution_count": 9,
     "metadata": {},
     "output_type": "execute_result"
    },
    {
     "data": {
      "image/png": "[encoded data removed]",
      "text/plain": [
       "<Figure size 1152x216 with 1 Axes>"
      ]
     },
     "metadata": {
      "needs_background": "light"
     },
     "output_type": "display_data"
    }
   ],
   "source": [
    "# Define the ODE symbol variables\n",
    "t_sym = sp.symbols(\"t_sym\")\n",
    "x_sym = sp.symbols(\"x:%d\" % r)\n",
    "x_dot_sym = sp.symbols(\"x:%d_t\" % r)\n",
    "\n",
    "# Need to format the above equations so that there are space between x0 * x0, x0 * x_dot0, and so on.\n",
    "sym_equations_formatted = []\n",
    "sym_equations_rounded_formatted = []\n",
    "for i in range(nfeatures):\n",
    "    for j in range(r):\n",
    "        # Overkill to make sure all the x0, x1, etc. get replaced\n",
    "        temp_string = str(sym_equations[i]).replace(\n",
    "            \"x\" + str(j) + \"x\", \"x\" + str(j) + \" * x\"\n",
    "        )\n",
    "        temp_string = temp_string.replace(\"x\" + str(j) + \"x\", \"x\" + str(j) + \" * x\")\n",
    "        temp_string = temp_string.replace(\"x\" + str(j) + \"x\", \"x\" + str(j) + \" * x\")\n",
    "        temp_string = temp_string.replace(\"x\" + str(j) + \"x\", \"x\" + str(j) + \" * x\")\n",
    "        temp_rounded_string = str(sym_equations_rounded[i]).replace(\n",
    "            \"x\" + str(j) + \"x\", \"x\" + str(j) + \" * x\"\n",
    "        )\n",
    "        temp_rounded_string = temp_rounded_string.replace(\n",
    "            \"x\" + str(j) + \"x\", \"x\" + str(j) + \" * x\"\n",
    "        )\n",
    "        temp_rounded_string = temp_rounded_string.replace(\n",
    "            \"x\" + str(j) + \"x\", \"x\" + str(j) + \" * x\"\n",
    "        )\n",
    "        temp_rounded_string = temp_rounded_string.replace(\n",
    "            \"x\" + str(j) + \"x\", \"x\" + str(j) + \" * x\"\n",
    "        )\n",
    "        sym_equations_formatted.append(temp_string)\n",
    "        sym_equations_rounded_formatted.append(temp_rounded_string)\n",
    "\n",
    "# Now that the equations are mathematically formatted, \n",
    "# solve for x_dot0 in the algebraic equation.\n",
    "sym_equations_simplified = []\n",
    "sym_equations_rounded_simplified = []\n",
    "for i in range(nfeatures):\n",
    "    sym_equations_simplified.append(\n",
    "        sp.solve(\n",
    "            sp.Add(\n",
    "                sp.sympify(sym_equations_formatted)[i][0],\n",
    "                -sp.sympify(features_formatted[i]),\n",
    "            ),\n",
    "            x_dot_sym,\n",
    "        )\n",
    "    )\n",
    "    rounded = sp.solve(\n",
    "        sp.Add(\n",
    "            sp.sympify(sym_equations_rounded_formatted)[i][0],\n",
    "            -sp.sympify(features_formatted[i]),\n",
    "        ),\n",
    "        x_dot_sym,\n",
    "    )\n",
    "    if len(rounded) != 0:\n",
    "        rounded_temp = rounded[0]\n",
    "        for a in sp.preorder_traversal(rounded):\n",
    "            if isinstance(a, sp.Float):\n",
    "                rounded_temp = rounded_temp.subs(a, round(a, 2))\n",
    "        sym_equations_rounded_simplified.append(rounded_temp)\n",
    "    else:\n",
    "        sym_equations_rounded_simplified.append([])\n",
    "\n",
    "# Plot the results for each of the models\n",
    "plt.figure(figsize=(16, 3))\n",
    "x0_test = np.random.rand(1)\n",
    "x_test = solve_ivp(enzyme, t_span, x0_test, t_eval=t).y.T\n",
    "plt.plot(t, x_test, color=\"k\", linestyle=\"solid\", label=\"True\")\n",
    "for i in range(nfeatures):\n",
    "    ax = plt.gca()\n",
    "    if i != nfeatures - 1:\n",
    "        ax.set_xticklabels([])\n",
    "    if len(sym_equations_simplified[i]) != 0:\n",
    "        ODE_Func = sp.lambdify([t_sym, x_sym], sym_equations_simplified[i][0])\n",
    "\n",
    "        # Now simulate the system we identified\n",
    "        x_test_sim = solve_ivp(ODE_Func, t_span, x0_test, t_eval=t).y.T\n",
    "        if (\n",
    "            np.linalg.norm(x_test_sim) < 1e3\n",
    "            and sym_equations_rounded_simplified[i] != 0\n",
    "        ):\n",
    "            plt.plot(\n",
    "                t,\n",
    "                x_test_sim,\n",
    "                linestyle=\"dashed\",\n",
    "                label=str(sp.sympify(features_formatted[i]))\n",
    "                + \" = \"\n",
    "                + str(sym_equations_rounded_simplified[i]),\n",
    "            )\n",
    "plt.grid(True)\n",
    "plt.legend(fontsize=8)"
   ]
  },
  {
   "cell_type": "markdown",
   "metadata": {},
   "source": [
    "### Solve high-order ODE\n",
    "In general, high order ODEs can always be transformed into an equivalent (but higher-dimensional) set of 1st-order ODEs. However, this means that the user would have to provide the data for $\\mathbf x$, $\\dot{\\mathbf x}$, $\\ddot{\\mathbf x}$, ... and then the weak formulation cannot be easily used for computing these derivative terms. Here we show how a high-order ODE (which is long-time unstable in general)\n",
    "$$x_{tt} = (1-x_{t}^2)x_t - x$$\n",
    "can be identified directly with the PDE or WeakPDE libraries, without rewriting the equation as a system of 1st order ODEs and directly providing data for all $\\mathbf x$, ..., $\\mathbf x_{ttt}$."
   ]
  },
  {
   "cell_type": "code",
   "execution_count": 10,
   "metadata": {
    "scrolled": true
   },
   "outputs": [
    {
     "name": "stdout",
     "output_type": "stream",
     "text": [
      "With function names: \n",
      "['1', 'x0', 'x0x0', 'x0_t', 'x0_tt', 'x0x0_t', 'x0x0x0_t', 'x0x0_tt', 'x0x0x0_tt'] \n",
      "\n",
      "Model  0\n",
      "Model  1\n",
      "Model  2\n",
      "Model  3\n",
      "Model  4\n",
      "Model  5\n",
      "Model  6\n",
      "Model  7\n",
      "Model  8\n",
      "1 = -0.1382 x0 + 0.4765 x0x0 + -0.1960 x0_t + -0.6506 x0_tt + -0.0672 x0x0_t + 0.1022 x0x0x0_t + 0.2143 x0x0_tt + 0.1200 x0x0x0_tt\n",
      "x0 = -0.1552 1 + 0.0666 x0x0 + -0.5516 x0_t + -2.0918 x0_tt + -0.0028 x0x0_t + 0.3800 x0x0x0_t + 0.0347 x0x0_tt + 0.2490 x0x0x0_tt\n",
      "x0x0 = 0.9765 1 + 0.1214 x0 + 0.2244 x0_t + 0.7622 x0_tt + 0.2479 x0x0_t + -0.1173 x0x0x0_t + -0.7475 x0x0_tt + -0.1505 x0x0x0_tt\n",
      "x0_t = -0.2122 1 + -0.5318 x0 + 0.1186 x0x0 + -2.1258 x0_tt + -0.0104 x0x0_t + 0.5020 x0x0x0_t + 0.0729 x0x0_tt + 0.3673 x0x0x0_tt\n",
      "x0_tt = -0.0728 1 + -0.2083 x0 + 0.0416 x0x0 + -0.2196 x0_t + -0.0027 x0x0_t + 0.1229 x0x0x0_t + 0.0268 x0x0_tt + 0.1885 x0x0x0_tt\n",
      "x0x0_t = -0.3108 1 + -0.0117 x0 + 0.5599 x0x0 + -0.0444 x0_t + -0.1129 x0_tt + -0.0114 x0x0x0_t + 0.5707 x0x0_tt + 0.0271 x0x0x0_tt\n",
      "x0x0x0_t = 0.3159 1 + 1.0459 x0 + -0.1769 x0x0 + 1.4333 x0_t + 3.3961 x0_tt + -0.0076 x0x0_t + -0.1070 x0x0_tt + -0.5141 x0x0x0_tt\n",
      "x0x0_tt = 0.5818 1 + 0.0840 x0 + -0.9904 x0x0 + 0.1828 x0_t + 0.6501 x0_tt + 0.3348 x0x0_t + -0.0940 x0x0x0_t + -0.1393 x0x0x0_tt\n",
      "x0x0x0_tt = 0.3282 1 + 0.6064 x0 + -0.2009 x0x0 + 0.9278 x0_t + 4.6082 x0_tt + 0.0160 x0x0_t + -0.4548 x0x0x0_t + -0.1403 x0x0_tt\n"
     ]
    },
    {
     "data": {
      "text/plain": [
       "['1',\n",
       " 'x0',\n",
       " 'x0x0',\n",
       " 'x0_t',\n",
       " 'x0_tt',\n",
       " 'x0x0_t',\n",
       " 'x0x0x0_t',\n",
       " 'x0x0_tt',\n",
       " 'x0x0x0_tt']"
      ]
     },
     "execution_count": 10,
     "metadata": {},
     "output_type": "execute_result"
    },
    {
     "data": {
      "image/png": "[encoded data removed]",
      "text/plain": [
       "<Figure size 432x288 with 1 Axes>"
      ]
     },
     "metadata": {
      "needs_background": "light"
     },
     "output_type": "display_data"
    }
   ],
   "source": [
    "def Rayleigh_osc(t, x):\n",
    "    return [x[1], (2 - (x[1]) ** 2) * x[1] - x[0]]\n",
    "\n",
    "# Generate measurement data\n",
    "dt = 0.005\n",
    "t_train = np.arange(0, 50, dt)\n",
    "t_train_span = (t_train[0], t_train[-1])\n",
    "\n",
    "x0_train = [1, 0]\n",
    "x_train = solve_ivp(Rayleigh_osc, t_train_span, x0_train,\n",
    "                    t_eval=t_train, **integrator_keywords).y.T\n",
    "\n",
    "# Only train on the data for x, chop the other variable!\n",
    "x_train = x_train[:, 0].reshape(len(t_train), 1)\n",
    "\n",
    "# Define custom functions up to quadratic terms\n",
    "library_functions = [lambda x: x, lambda x: x * x]\n",
    "library_function_names = [lambda x: x, lambda x: x + x]\n",
    "\n",
    "# Define PDELibrary which generates up to first order temporal derivatives\n",
    "sindy_library = ps.PDELibrary(\n",
    "    library_functions=library_functions,\n",
    "    temporal_grid=t_train,\n",
    "    function_names=library_function_names,\n",
    "    include_bias=True,\n",
    "    implicit_terms=True,\n",
    "    derivative_order=2\n",
    ")\n",
    "\n",
    "lib = sindy_library.fit(x_train)\n",
    "lib.transform(x_train)\n",
    "print(\"With function names: \")\n",
    "print(lib.get_feature_names(), \"\\n\")\n",
    "\n",
    "sindy_opt = ps.SINDyPI(\n",
    "    threshold=1e-4,\n",
    "    tol=1e-5,\n",
    "    thresholder=\"l1\",\n",
    "    max_iter=6000,\n",
    "    #normalize_columns=True\n",
    ")\n",
    "\n",
    "model = ps.SINDy(\n",
    "    optimizer=sindy_opt,\n",
    "    feature_library=sindy_library,\n",
    ")\n",
    "model.fit(x_train, t=t_train)\n",
    "model.print(precision=4)\n",
    "\n",
    "x_dot_true = model.differentiate(x_train, t=t_train)\n",
    "x_dot_pred = model.predict(x_train)  # default returns d/dt of all 15 features!\n",
    "\n",
    "plt.figure()\n",
    "plt.plot(x_dot_true)\n",
    "plt.plot(x_dot_pred[:, 3])\n",
    "         \n",
    "sindy_library.get_feature_names()"
   ]
  },
  {
   "cell_type": "markdown",
   "metadata": {},
   "source": [
    "### Find complex PDE with SINDy-PI with PDE functionality\n",
    "So far, we have focused on implicit, complex ODEs that require SINDy-PI for identification. There are also complex PDEs that can only be adequately identified with SINDy-PI, and here we show how to do so. We will consider the modified KdV equation used in the Youtube lecture (see link at the beginning of this notebook):\n",
    "$$u_t = -u_{xxx} + 6uu_x - 0.1 u + \\frac{2}{1+u}.$$\n",
    "Thanks to the (1+u) term in the denominator, it will be difficult to identify this PDE unless the functional dependence is already known. But we can instead use the typical polynomial + derivatives library if using SINDy-PI, where we multiply both sides by (1+u) and instead solve for the equation:\n",
    "$$u_t = -u_{xxx}(1+u) + 6u(1+u)u_x - 0.1 u(1+u) + 2 - uu_t.$$\n",
    "We can generate the required terms using a PDELibrary class with both spatial and temporal derivatives up to third order, and up to quadratic polynomial terms. "
   ]
  },
  {
   "cell_type": "code",
   "execution_count": 11,
   "metadata": {},
   "outputs": [],
   "source": [
    "np.random.seed(100)\n",
    "\n",
    "integrator_keywords = {}\n",
    "integrator_keywords['rtol'] = 1e-8\n",
    "integrator_keywords['method'] = 'Radau'\n",
    "integrator_keywords['atol'] = 1e-8\n",
    "\n",
    "dt=0.1\n",
    "t=dt*np.arange(201)\n",
    "nx=768\n",
    "L=90\n",
    "g=0.01\n",
    "\n",
    "def mkdv(t, u, L, nx):\n",
    "    ux=ps.FiniteDifference(d=1,axis=0,order=4,periodic=True)._differentiate(u,L/nx)\n",
    "    uxxx=ps.FiniteDifference(d=3,axis=0,order=4,periodic=True)._differentiate(u,L/nx)\n",
    "    return -1.0*uxxx-6.0*u*ux -0.1*u+2*g/(1+u)\n",
    "\n",
    "c1=1\n",
    "c2=0.5\n",
    "t0=42\n",
    "x0=24\n",
    "X= -L/2+np.arange(nx)*L/nx\n",
    "x1=X+c1*t0-x0\n",
    "x2=X+c2*t0-x0\n",
    "u0=2*(c1-c2)*(c1*np.cosh(c2**0.5/2*x2)**2+c2*np.cosh(c1**0.5/2*x1)**2)/((c1**0.5-c2**0.5)*np.cosh((c1**0.5*x1+c2**0.5*x2)/2)+(c1**0.5+c2**0.5)*np.cosh((c1**0.5*x1-c2**0.5*x2)/2))**2\n",
    "sol_mkdv = solve_ivp(mkdv, (t[0], t[-1]), y0=u0, t_eval=t, args=(L, nx),**integrator_keywords)\n",
    "\n",
    "x=X[128:-128]\n",
    "u=sol_mkdv.y[128:-128,:,np.newaxis]\n",
    "t=sol_mkdv.t"
   ]
  },
  {
   "cell_type": "code",
   "execution_count": 12,
   "metadata": {},
   "outputs": [
    {
     "data": {
      "image/png": "[encoded data removed]",
      "text/plain": [
       "<Figure size 1296x288 with 4 Axes>"
      ]
     },
     "metadata": {
      "needs_background": "light"
     },
     "output_type": "display_data"
    }
   ],
   "source": [
    "dx=x[1]-x[0]\n",
    "dt=t[1]-t[0]\n",
    "ux = ps.FiniteDifference(d=1, axis=0)._differentiate(u, dx)\n",
    "uxx = ps.FiniteDifference(d=2, axis=0)._differentiate(u, dx)\n",
    "uxxx = ps.FiniteDifference(d=3, axis=0)._differentiate(u, dx)\n",
    "\n",
    "# Plot derivative results\n",
    "plt.figure(figsize=(18, 4))\n",
    "plt.subplot(1, 4, 1)\n",
    "plt.pcolormesh(t, x, u[:,:,0])\n",
    "plt.xlabel('t', fontsize=16)\n",
    "plt.ylabel('x', fontsize=16)\n",
    "plt.title(r'$u(x, t)$', fontsize=16)\n",
    "plt.subplot(1, 4, 2)\n",
    "plt.pcolormesh(t, x, ux[:,:,0])\n",
    "plt.xlabel('t', fontsize=16)\n",
    "plt.ylabel('x', fontsize=16)\n",
    "ax = plt.gca()\n",
    "ax.set_yticklabels([])\n",
    "plt.title(r'$u_{x}(x, t)$', fontsize=16)\n",
    "plt.subplot(1, 4, 3)\n",
    "plt.pcolormesh(t, x, uxx[:,:,0])\n",
    "plt.xlabel('t', fontsize=16)\n",
    "plt.ylabel('x', fontsize=16)\n",
    "ax = plt.gca()\n",
    "ax.set_yticklabels([])\n",
    "plt.title(r'$u_{xx}(x, t)$', fontsize=16)\n",
    "plt.subplot(1, 4, 4)\n",
    "plt.pcolormesh(t, x, uxxx[:,:,0])\n",
    "plt.xlabel('t', fontsize=16)\n",
    "plt.ylabel('x', fontsize=16)\n",
    "ax = plt.gca()\n",
    "ax.set_yticklabels([])\n",
    "plt.title(r'$u_{xxx}(x, t)$', fontsize=16)\n",
    "plt.show()"
   ]
  },
  {
   "cell_type": "code",
   "execution_count": 13,
   "metadata": {
    "scrolled": true
   },
   "outputs": [
    {
     "name": "stdout",
     "output_type": "stream",
     "text": [
      "SR3 model: \n",
      "(x0)' = 0.166 x0 + -0.920 x0x0 + -0.107 x0_1 + 0.267 x0_11 + -0.893 x0_111 + -5.226 x0x0_1 + -0.323 x0x0x0_1 + -1.643 x0x0_11\n",
      "score 0.9377333950547101\n"
     ]
    }
   ],
   "source": [
    "# Define PDE library that is quadratic in u, and \n",
    "# third-order in spatial derivatives of u.\n",
    "spatiotemporal_grid=np.zeros((len(x),201,2))\n",
    "spatiotemporal_grid[:,:,0]=x[:,np.newaxis]\n",
    "spatiotemporal_grid[:,:,1]=t[np.newaxis,:]\n",
    "\n",
    "library_functions = [lambda x: x, lambda x: x * x]\n",
    "library_function_names = [lambda x: x, lambda x: x + x]\n",
    "np.random.seed(1)\n",
    "\n",
    "pde_lib = ps.PDELibrary(library_functions=library_functions, \n",
    "                        function_names=library_function_names, \n",
    "                        derivative_order=3, spatial_grid=x, \n",
    "                        include_bias=False, is_uniform=True)\n",
    "\n",
    "# Fit the model with different optimizers.\n",
    "print('SR3 model: ')\n",
    "optimizer = ps.SR3(threshold=1, max_iter=10000, tol=1e-15, nu=1e2,\n",
    "                   thresholder='l1', normalize_columns=True)\n",
    "model = ps.SINDy(feature_library=pde_lib, optimizer=optimizer)\n",
    "model.fit(u, t=dt)\n",
    "model.print()\n",
    "print('score', model.score(u,t=dt))"
   ]
  },
  {
   "cell_type": "code",
   "execution_count": 14,
   "metadata": {},
   "outputs": [
    {
     "name": "stdout",
     "output_type": "stream",
     "text": [
      "Model  0\n",
      "Model  1\n",
      "Model  2\n",
      "Model  3\n",
      "Model  4\n",
      "Model  5\n",
      "Model  6\n",
      "Model  7\n",
      "Model  8\n",
      "Model  9\n",
      "Model  10\n",
      "Model  11\n",
      "Model  12\n",
      "Solver failed on model  12 , setting coefs to zeros\n",
      "Model  13\n",
      "x0 = 5.800 x0x0 + 0.843 x0_t + -4.165 x0_1 + -0.157 x0_11 + 5.866 x0_111 + 36.264 x0x0_t + 63.961 x0x0_1 + 8.435 x0x0x0_1 + 2.056 x0x0_11\n",
      "x0x0 = 0.170 x0 + -0.348 x0_t + 0.038 x0_1 + 0.031 x0_11 + -0.385 x0_111 + -2.340 x0x0_t + -4.298 x0x0_1 + -1.032 x0x0_11 + 0.105 x0x0_111\n",
      "x0_t = 0.109 x0 + -0.582 x0x0 + -0.544 x0_1 + 0.227 x0_11 + -0.365 x0_111 + 2.512 x0x0_t + -1.449 x0x0_11\n",
      "x0_1 = -0.023 x0 + 0.149 x0x0 + -0.143 x0_t + 0.063 x0_11 + 0.670 x0_111 + 1.995 x0x0_t + 7.580 x0x0_1 + -0.130 x0x0_11 + 0.759 x0x0_111\n",
      "x0_11 = -0.009 x0 + 0.076 x0x0 + 0.147 x0_t + 0.144 x0_1 + 0.032 x0_111 + 5.806 x0x0_11 + -7.664 x0x0x0_11 + -0.036 x0x0_111\n",
      "x0_111 = 0.031 x0 + -0.172 x0x0 + -0.181 x0_t + 0.315 x0_1 + -0.162 x0x0_t + -3.851 x0x0_1 + -0.181 x0x0_11 + 0.885 x0x0_111\n",
      "x0x0_t = 0.007 x0 + -0.044 x0x0 + 0.071 x0_t + -0.040 x0_1 + 0.022 x0_11 + 0.090 x0_111 + -0.120 x0x0_1 + 0.039 x0x0_11 + 0.121 x0x0_111\n",
      "x0x0x0_t = 0.001 x0 + -0.009 x0x0 + 0.016 x0_t + -0.001 x0_1 + 0.010 x0_11 + 0.045 x0_111 + 0.021 x0x0_11 + 0.082 x0x0_111\n",
      "x0x0_1 = 0.002 x0 + -0.011 x0x0 + -0.023 x0_t + 0.112 x0_1 + -0.158 x0_111 + -0.065 x0x0_t\n",
      "x0x0x0_1 = -0.010 x0_t + 0.010 x0_1 + -0.059 x0_111 + -0.065 x0x0_111\n",
      "x0x0_11 = 0.006 x0 + -0.043 x0x0 + -0.007 x0_t + -0.007 x0_1 + 0.140 x0_11 + 1.274 x0x0x0_11\n",
      "x0x0x0_11 = -0.013 x0_11 + 0.423 x0x0_11\n",
      "x0x0_111 = 0.000\n",
      "x0x0x0_111 = 0.005 x0_1 + 0.368 x0x0_111\n"
     ]
    }
   ],
   "source": [
    "multiindices=np.array([[0,1],[1,0],[2,0],[3,0]])\n",
    "pde_lib = ps.PDELibrary(library_functions=library_functions, \n",
    "                        function_names=library_function_names, \n",
    "                        derivative_order=3, spatial_grid=x, temporal_grid=t, \n",
    "                        include_bias=False, is_uniform=True,implicit_terms=True, multiindices=multiindices)\n",
    "\n",
    "sindy_opt = ps.SINDyPI(\n",
    "    threshold=1e-1, max_iter=1000, tol=1e-10,\n",
    "    thresholder='l1', normalize_columns=False\n",
    ")\n",
    "model = ps.SINDy(feature_library=pde_lib, optimizer=sindy_opt)\n",
    "model.fit(u, t=dt)\n",
    "model.print()"
   ]
  },
  {
   "cell_type": "code",
   "execution_count": 15,
   "metadata": {},
   "outputs": [
    {
     "data": {
      "image/png": "[encoded data removed]",
      "text/plain": [
       "<Figure size 432x288 with 1 Axes>"
      ]
     },
     "metadata": {
      "needs_background": "light"
     },
     "output_type": "display_data"
    },
    {
     "name": "stdout",
     "output_type": "stream",
     "text": [
      "x0x0_1=0.002 x0 + -0.011 x0x0 + -0.023 x0_t + 0.112 x0_1 + -0.158 x0_111 + -0.065 x0x0_t, score=0.9927185976382383\n",
      "x0x0_11=0.006 x0 + -0.043 x0x0 + -0.007 x0_t + -0.007 x0_1 + 0.140 x0_11 + 1.274 x0x0x0_11, score=0.9904594725824555\n",
      "x0_1=-0.023 x0 + 0.149 x0x0 + -0.143 x0_t + 0.063 x0_11 + 0.670 x0_111 + 1.995 x0x0_t + 7.580 x0x0_1 + -0.130 x0x0_11 + 0.759 x0x0_111, score=0.9862037161025783\n",
      "x0x0_t=0.007 x0 + -0.044 x0x0 + 0.071 x0_t + -0.040 x0_1 + 0.022 x0_11 + 0.090 x0_111 + -0.120 x0x0_1 + 0.039 x0x0_11 + 0.121 x0x0_111, score=0.9759556862567057\n",
      "x0x0x0_1=-0.010 x0_t + 0.010 x0_1 + -0.059 x0_111 + -0.065 x0x0_111, score=0.9743061078646337\n"
     ]
    }
   ],
   "source": [
    "lhs_actual=pde_lib.transform(u)\n",
    "lhs_predict=model.predict(u)\n",
    "\n",
    "\n",
    "scores=[r2_score(np.reshape(lhs_actual[:,:,ind],(np.product(lhs_actual.shape[:-1]))),np.reshape(lhs_predict[:,:,ind],(np.product(lhs_actual.shape[:-1])))) for ind in range(lhs_predict.shape[-1])]\n",
    "\n",
    "plt.plot(scores,'bo')\n",
    "plt.xlabel('model')\n",
    "plt.ylabel('score')\n",
    "plt.show()\n",
    "\n",
    "order=np.argsort(scores)\n",
    "for ind in np.flip(order[-5:]):\n",
    "    print(pde_lib.get_feature_names()[ind] + '=' + model.equations()[ind] + ', score=' +str(scores[ind]))"
   ]
  },
  {
   "cell_type": "code",
   "execution_count": 16,
   "metadata": {},
   "outputs": [
    {
     "name": "stdout",
     "output_type": "stream",
     "text": [
      "SR3 model: \n",
      "(x0)' = 0.240 x0 + -1.452 x0x0 + -0.360 x0_1 + 0.774 x0_11 + -0.744 x0_111 + -27.896 x0x0x0_1 + -6.532 x0x0_11 + 4.097 x0x0x0_11 + -2.706 x0x0_111 + -5.826 x0x0x0_111\n",
      "score 0.9722231960831601\n"
     ]
    }
   ],
   "source": [
    "pde_lib = ps.WeakPDELibrary(library_functions=library_functions, \n",
    "                        function_names=library_function_names, \n",
    "                        derivative_order=3, spatiotemporal_grid=spatiotemporal_grid, \n",
    "                        include_bias=False, is_uniform=True)\n",
    "\n",
    "# Fit the model with different optimizers.\n",
    "print('SR3 model: ')\n",
    "optimizer = ps.SR3(threshold=1e-2, max_iter=10000, tol=1e-15, nu=1e2,\n",
    "                   thresholder='l1', normalize_columns=True)\n",
    "model = ps.SINDy(feature_library=pde_lib, optimizer=optimizer)\n",
    "model.fit(u, t=dt)\n",
    "model.print()\n",
    "print('score', model.score(u,t=dt))"
   ]
  },
  {
   "cell_type": "code",
   "execution_count": 17,
   "metadata": {},
   "outputs": [
    {
     "name": "stdout",
     "output_type": "stream",
     "text": [
      "Model  0\n",
      "Model  1\n",
      "Model  2\n",
      "Solver failed on model  2 , setting coefs to zeros\n",
      "Model  3\n",
      "Model  4\n",
      "Model  5\n"
     ]
    },
    {
     "name": "stderr",
     "output_type": "stream",
     "text": [
      "/Users/zack/opt/anaconda3/envs/pysindy_env/lib/python3.9/site-packages/cvxpy/problems/problem.py:1294: UserWarning: Solution may be inaccurate. Try another solver, adjusting the solver settings, or solve with verbose=True for more information.\n",
      "  warnings.warn(\n"
     ]
    },
    {
     "name": "stdout",
     "output_type": "stream",
     "text": [
      "Model  6\n",
      "Model  7\n",
      "Model  8\n",
      "Model  9\n",
      "Solver failed on model  9 , setting coefs to zeros\n",
      "Model  10\n",
      "Model  11\n",
      "Model  12\n",
      "Model  13\n",
      "x0 = 5.909 x0x0 + 0.733 x0_t + -3.821 x0_1 + -0.476 x0_11 + 4.420 x0_111 + 39.603 x0x0_t + 63.589 x0x0_1 + 3.577 x0x0_11\n",
      "x0x0 = 0.164 x0 + -0.569 x0_t + -0.333 x0_1 + 0.107 x0_11 + -0.066 x0_111 + -0.850 x0x0_1 + -2.673 x0x0_11\n",
      "x0_t = 0.000\n",
      "x0_1 = 0.003 x0 + -0.109 x0_t + 0.054 x0_11 + 0.219 x0_111 + 5.887 x0x0_1 + 1.113 x0x0_111\n",
      "x0_11 = -0.023 x0 + 0.128 x0x0 + 0.298 x0_t + 0.286 x0_1 + 0.246 x0_111 + 3.337 x0x0_11 + -2.516 x0x0x0_11 + -0.656 x0x0_111\n",
      "x0_111 = 0.005 x0x0 + -0.030 x0_t + -0.079 x0_1 + 0.071 x0_11 + 2.437 x0x0_111\n",
      "x0x0_t = 0.012 x0 + -0.075 x0x0 + 0.041 x0_t + -0.096 x0_1 + 0.001 x0_11 + 0.034 x0_111\n",
      "x0x0x0_t = 0.003 x0 + -0.021 x0x0 + -0.026 x0_1\n",
      "x0x0_1 = 0.001 x0 + -0.007 x0x0 + -0.004 x0_t + 0.149 x0_1 + -0.076 x0_111\n",
      "x0x0x0_1 = 0.000\n",
      "x0x0_11 = 0.030 x0 + -0.195 x0x0 + -0.095 x0_t + -0.081 x0_1 + 0.122 x0_11 + 0.124 x0x0x0_11\n",
      "x0x0x0_11 = 0.004 x0 + -0.026 x0x0 + 0.219 x0x0_11\n",
      "x0x0_111 = 0.003 x0_t + -0.026 x0_1 + -0.019 x0_11 + 0.142 x0_111\n",
      "x0x0x0_111 = 0.001 x0x0 + -0.013 x0_1 + -0.003 x0_11 + 0.004 x0_111\n"
     ]
    }
   ],
   "source": [
    "multiindices=np.array([[0,1],[1,0],[2,0],[3,0]])\n",
    "sindy_opt = ps.SINDyPI(\n",
    "    threshold=1e-2, max_iter=1000, tol=1e-14,\n",
    "    thresholder='l1', normalize_columns=False\n",
    ")\n",
    "\n",
    "pde_lib = ps.WeakPDELibrary(library_functions=library_functions, \n",
    "                        function_names=library_function_names, \n",
    "                        derivative_order=3, spatiotemporal_grid=spatiotemporal_grid, K=500,H_xt=[60/10,20/10],\n",
    "                        include_bias=False, is_uniform=True,implicit_terms=True,multiindices=multiindices)\n",
    "\n",
    "model = ps.SINDy(feature_library=pde_lib, optimizer=sindy_opt)\n",
    "model.fit(u, t=dt)\n",
    "model.print()"
   ]
  },
  {
   "cell_type": "code",
   "execution_count": 18,
   "metadata": {},
   "outputs": [
    {
     "data": {
      "image/png": "[encoded data removed]",
      "text/plain": [
       "<Figure size 432x288 with 1 Axes>"
      ]
     },
     "metadata": {
      "needs_background": "light"
     },
     "output_type": "display_data"
    },
    {
     "name": "stdout",
     "output_type": "stream",
     "text": [
      "x0=5.909 x0x0 + 0.733 x0_t + -3.821 x0_1 + -0.476 x0_11 + 4.420 x0_111 + 39.603 x0x0_t + 63.589 x0x0_1 + 3.577 x0x0_11, score=0.9953057986757462\n",
      "x0x0_1=0.001 x0 + -0.007 x0x0 + -0.004 x0_t + 0.149 x0_1 + -0.076 x0_111, score=0.9850831961703617\n",
      "x0_1=0.003 x0 + -0.109 x0_t + 0.054 x0_11 + 0.219 x0_111 + 5.887 x0x0_1 + 1.113 x0x0_111, score=0.9849180811666087\n",
      "x0x0=0.164 x0 + -0.569 x0_t + -0.333 x0_1 + 0.107 x0_11 + -0.066 x0_111 + -0.850 x0x0_1 + -2.673 x0x0_11, score=0.9818802436997973\n",
      "x0x0_t=0.012 x0 + -0.075 x0x0 + 0.041 x0_t + -0.096 x0_1 + 0.001 x0_11 + 0.034 x0_111, score=0.9585367216019443\n"
     ]
    }
   ],
   "source": [
    "lhs_actual=pde_lib.transform(u)\n",
    "lhs_predict=model.predict(u)\n",
    "\n",
    "\n",
    "scores=[r2_score(lhs_actual[:,ind],lhs_predict[:,ind]) for ind in range(lhs_predict.shape[-1])]\n",
    "\n",
    "plt.plot(scores,'bo')\n",
    "plt.xlabel('model')\n",
    "plt.ylabel('score')\n",
    "plt.show()\n",
    "\n",
    "order=np.argsort(scores)\n",
    "for ind in np.flip(order[-5:]):\n",
    "    print(pde_lib.get_feature_names()[ind] + '=' + model.equations()[ind] + ', score=' +str(scores[ind]))"
   ]
  },
  {
   "cell_type": "code",
   "execution_count": null,
   "metadata": {},
   "outputs": [],
   "source": []
  }
 ],
 "metadata": {
  "kernelspec": {
   "display_name": "Python 3 (ipykernel)",
   "language": "python",
   "name": "python3"
  },
  "language_info": {
   "codemirror_mode": {
    "name": "ipython",
    "version": 3
   },
   "file_extension": ".py",
   "mimetype": "text/x-python",
   "name": "python",
   "nbconvert_exporter": "python",
   "pygments_lexer": "ipython3",
   "version": "3.9.12"
  }
 },
 "nbformat": 4,
 "nbformat_minor": 2
}
