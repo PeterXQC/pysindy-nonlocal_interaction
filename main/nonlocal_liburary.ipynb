{
 "cells": [
  {
   "cell_type": "code",
   "execution_count": 3,
   "id": "ebde2ee1",
   "metadata": {},
   "outputs": [
    {
     "ename": "IndentationError",
     "evalue": "expected an indented block (weak_pde_library.py, line 770)",
     "output_type": "error",
     "traceback": [
      "Traceback \u001b[0;36m(most recent call last)\u001b[0m:\n",
      "  File \u001b[1;32m\"/opt/conda/lib/python3.7/site-packages/IPython/core/interactiveshell.py\"\u001b[0m, line \u001b[1;32m3553\u001b[0m, in \u001b[1;35mrun_code\u001b[0m\n    exec(code_obj, self.user_global_ns, self.user_ns)\n",
      "  File \u001b[1;32m\"/tmp/ipykernel_462/193775403.py\"\u001b[0m, line \u001b[1;32m8\u001b[0m, in \u001b[1;35m<module>\u001b[0m\n    from pynew import *\n",
      "  File \u001b[1;32m\"/src/notebooks/work/pysindy-nonlocal_interaction/main/pynew/__init__.py\"\u001b[0m, line \u001b[1;32m10\u001b[0m, in \u001b[1;35m<module>\u001b[0m\n    from . import feature_library\n",
      "  File \u001b[1;32m\"/src/notebooks/work/pysindy-nonlocal_interaction/main/pynew/feature_library/__init__.py\"\u001b[0m, line \u001b[1;32m5\u001b[0m, in \u001b[1;35m<module>\u001b[0m\n    from .generalized_library import GeneralizedLibrary\n",
      "\u001b[0;36m  File \u001b[0;32m\"/src/notebooks/work/pysindy-nonlocal_interaction/main/pynew/feature_library/generalized_library.py\"\u001b[0;36m, line \u001b[0;32m7\u001b[0;36m, in \u001b[0;35m<module>\u001b[0;36m\u001b[0m\n\u001b[0;31m    from .weak_pde_library import WeakPDELibrary\u001b[0m\n",
      "\u001b[0;36m  File \u001b[0;32m\"/src/notebooks/work/pysindy-nonlocal_interaction/main/pynew/feature_library/weak_pde_library.py\"\u001b[0;36m, line \u001b[0;32m770\u001b[0m\n\u001b[0;31m    '''\u001b[0m\n\u001b[0m       \n^\u001b[0m\n\u001b[0;31mIndentationError\u001b[0m\u001b[0;31m:\u001b[0m expected an indented block\n"
     ]
    }
   ],
   "source": [
    "import matplotlib.pyplot as plt\n",
    "import numpy as np\n",
    "from scipy.integrate import solve_ivp\n",
    "from sklearn.linear_model import Lasso\n",
    "from scipy.io import loadmat\n",
    "from sklearn.metrics import mean_squared_error\n",
    "from pysindy.utils.odes import lorenz\n",
    "from pynew import *\n",
    "import pysindy as ps\n",
    "\n",
    "# Ignore matplotlib deprecation warnings\n",
    "import warnings\n",
    "warnings.filterwarnings(\"ignore\", category=UserWarning)\n",
    "warnings.filterwarnings(\"ignore\", category=FutureWarning)\n",
    "\n",
    "# Seed the random number generators for reproducibility\n",
    "np.random.seed(100)\n",
    "\n",
    "# integration keywords for solve_ivp, typically needed for chaotic systems\n",
    "integrator_keywords = {}\n",
    "integrator_keywords['rtol'] = 1e-12\n",
    "integrator_keywords['method'] = 'LSODA'\n",
    "integrator_keywords['atol'] = 1e-12"
   ]
  },
  {
   "cell_type": "code",
   "execution_count": null,
   "id": "25159c66",
   "metadata": {},
   "outputs": [],
   "source": [
    "dt = 0.001\n",
    "t_train = np.arange(0, 10, dt)\n",
    "t_train_span = (t_train[0], t_train[-1])\n",
    "u0_train = [-8, 8, 27]\n",
    "u_train = solve_ivp(lorenz, t_train_span, u0_train, \n",
    "                    t_eval=t_train, **integrator_keywords).y.T\n",
    "import random as rand\n",
    "error_scale = 0.1\n",
    "noise = np.random.randn(10000, 3) * error_scale\n",
    "u_train = u_train + noise"
   ]
  },
  {
   "cell_type": "code",
   "execution_count": null,
   "id": "aec457a6",
   "metadata": {},
   "outputs": [],
   "source": [
    "np.shape(u_train)[0]"
   ]
  },
  {
   "cell_type": "code",
   "execution_count": 2,
   "id": "8a53ff88",
   "metadata": {},
   "outputs": [
    {
     "ename": "NameError",
     "evalue": "name 'integrator_keywords' is not defined",
     "output_type": "error",
     "traceback": [
      "\u001b[0;31m---------------------------------------------------------------------------\u001b[0m",
      "\u001b[0;31mNameError\u001b[0m                                 Traceback (most recent call last)",
      "\u001b[0;32m<timed exec>\u001b[0m in \u001b[0;36m<module>\u001b[0;34m\u001b[0m\n",
      "\u001b[0;31mNameError\u001b[0m: name 'integrator_keywords' is not defined"
     ]
    }
   ],
   "source": [
    "%%time\n",
    "# Generate measurement data\n",
    "dt = 0.001\n",
    "t_train = np.arange(0, 10, dt)\n",
    "t_train_span = (t_train[0], t_train[-1])\n",
    "u0_train = [-8, 8, 27]\n",
    "u_train = solve_ivp(lorenz, t_train_span, u0_train, \n",
    "                    t_eval=t_train, **integrator_keywords).y.T\n",
    "import random as rand\n",
    "error_scale = 0.1\n",
    "noise = np.random.randn(10000, 3) * error_scale\n",
    "u_train = u_train + noise\n",
    "\n",
    "# Instantiate and fit the SINDy model with u_dot\n",
    "u_dot = FiniteDifference()._differentiate(u_train, t=dt)\n",
    "model = SINDy()\n",
    "model.fit(u_train, x_dot=u_dot, t=dt)\n",
    "model.print()\n",
    "\n",
    "# Define weak form ODE library\n",
    "# defaults to derivative_order = 0 if not specified,\n",
    "# and if spatial_grid is not specified, defaults to None,\n",
    "# which allows weak form ODEs.\n",
    "library_functions = [lambda x: x, lambda x: x * x, lambda x, y: x * y]\n",
    "library_function_names = [lambda x: x, lambda x: x + x, lambda x, y: x + y]\n",
    "ode_lib = WeakPDELibrary(\n",
    "    library_functions=library_functions,\n",
    "    function_names=library_function_names,\n",
    "    spatiotemporal_grid=t_train,\n",
    "    is_uniform=True,\n",
    "    K=100,\n",
    ")\n",
    "\n",
    "# Instantiate and fit the SINDy model with the integral of u_dot\n",
    "optimizer = SR3(\n",
    "    threshold=0.05, \n",
    "    thresholder=\"l1\", \n",
    "    max_iter=1000, \n",
    "    normalize_columns=True, \n",
    "    tol=1e-1\n",
    ")\n",
    "model = SINDy(feature_library=ode_lib, optimizer=optimizer)\n",
    "model.fit(u_train)\n",
    "model.print()"
   ]
  },
  {
   "cell_type": "code",
   "execution_count": 5,
   "id": "6c2ec39d",
   "metadata": {},
   "outputs": [
    {
     "data": {
      "text/plain": [
       "(10000, 3)"
      ]
     },
     "execution_count": 5,
     "metadata": {},
     "output_type": "execute_result"
    }
   ],
   "source": [
    "np.shape(u_train)"
   ]
  },
  {
   "cell_type": "markdown",
   "id": "8309f5fb",
   "metadata": {},
   "source": [
    "## Pysindy Version"
   ]
  },
  {
   "cell_type": "code",
   "execution_count": 6,
   "id": "908ab6ac",
   "metadata": {},
   "outputs": [
    {
     "name": "stdout",
     "output_type": "stream",
     "text": [
      "(x0)' = -10.000 x0 + 10.000 x1\n",
      "(x1)' = 27.998 x0 + -1.000 x1 + -1.000 x0 x2\n",
      "(x2)' = -2.667 x2 + 1.000 x0 x1\n",
      "(x0)' = -10.000 x0 + 10.000 x1\n",
      "(x1)' = 28.000 x0 + -1.000 x1 + -1.000 x0x2\n",
      "(x2)' = -2.667 x2 + 1.000 x0x1\n",
      "CPU times: user 649 ms, sys: 1.96 s, total: 2.61 s\n",
      "Wall time: 286 ms\n"
     ]
    }
   ],
   "source": [
    "%%time\n",
    "# Generate measurement data\n",
    "dt = 0.001\n",
    "# integration keywords for solve_ivp, typically needed for chaotic systems\n",
    "integrator_keywords = {}\n",
    "integrator_keywords['rtol'] = 1e-12\n",
    "integrator_keywords['method'] = 'LSODA'\n",
    "integrator_keywords['atol'] = 1e-12\n",
    "t_train = np.arange(0, 10, dt)\n",
    "t_train_span = (t_train[0], t_train[-1])\n",
    "u0_train = [-8, 8, 27]\n",
    "u_train = solve_ivp(lorenz, t_train_span, u0_train, \n",
    "                    t_eval=t_train, **integrator_keywords).y.T\n",
    "\n",
    "# Instantiate and fit the SINDy model with u_dot\n",
    "u_dot = ps.FiniteDifference()._differentiate(u_train, t=dt)\n",
    "model = ps.SINDy()\n",
    "model.fit(u_train, x_dot=u_dot, t=dt)\n",
    "model.print()\n",
    "\n",
    "# Define weak form ODE library\n",
    "# defaults to derivative_order = 0 if not specified,\n",
    "# and if spatial_grid is not specified, defaults to None,\n",
    "# which allows weak form ODEs.\n",
    "library_functions = [lambda x: x, lambda x: x * x, lambda x, y: x * y]\n",
    "library_function_names = [lambda x: x, lambda x: x + x, lambda x, y: x + y]\n",
    "ode_lib = ps.WeakPDELibrary(\n",
    "    library_functions=library_functions,\n",
    "    function_names=library_function_names,\n",
    "    spatiotemporal_grid=t_train,\n",
    "    is_uniform=True,\n",
    "    K=100,\n",
    ")\n",
    "\n",
    "# Instantiate and fit the SINDy model with the integral of u_dot\n",
    "optimizer = ps.SR3(\n",
    "    threshold=0.05, \n",
    "    thresholder=\"l1\", \n",
    "    max_iter=1000, \n",
    "    normalize_columns=True, \n",
    "    tol=1e-1\n",
    ")\n",
    "model = ps.SINDy(feature_library=ode_lib, optimizer=optimizer)\n",
    "model.fit(u_train)\n",
    "model.print()"
   ]
  },
  {
   "cell_type": "markdown",
   "id": "cab27cca",
   "metadata": {},
   "source": [
    "## Lorenz Attractor using foward euler"
   ]
  },
  {
   "cell_type": "code",
   "execution_count": 7,
   "id": "cc510134",
   "metadata": {},
   "outputs": [
    {
     "data": {
      "image/png": "[encoded data removed]",
      "text/plain": [
       "<Figure size 432x288 with 1 Axes>"
      ]
     },
     "metadata": {
      "needs_background": "light"
     },
     "output_type": "display_data"
    }
   ],
   "source": [
    "import numpy as np\n",
    "import matplotlib.pyplot as plt\n",
    "\n",
    "\n",
    "def lorenz(x, y, z, s=10, r=28, b=2.667):\n",
    "    \"\"\"\n",
    "    Given:\n",
    "       x, y, z: a point of interest in three dimensional space\n",
    "       s, r, b: parameters defining the lorenz attractor\n",
    "    Returns:\n",
    "       x_dot, y_dot, z_dot: values of the lorenz attractor's partial\n",
    "           derivatives at the point x, y, z\n",
    "    \"\"\"\n",
    "    x_dot = s*(y - x)\n",
    "    y_dot = r*x - y - x*z\n",
    "    z_dot = x*y - b*z\n",
    "    return x_dot, y_dot, z_dot\n",
    "\n",
    "\n",
    "dt = 0.001\n",
    "num_steps = 100000\n",
    "\n",
    "# Need one more for the initial values\n",
    "xs = np.empty(num_steps + 1)\n",
    "ys = np.empty(num_steps + 1)\n",
    "zs = np.empty(num_steps + 1)\n",
    "\n",
    "# Set initial values\n",
    "xs[0], ys[0], zs[0] = (0., 1., 1.05)\n",
    "\n",
    "# Step through \"time\", calculating the partial derivatives at the current point\n",
    "# and using them to estimate the next point\n",
    "for i in range(num_steps):\n",
    "    x_dot, y_dot, z_dot = lorenz(xs[i], ys[i], zs[i])\n",
    "    xs[i + 1] = xs[i] + (x_dot * dt)\n",
    "    ys[i + 1] = ys[i] + (y_dot * dt)\n",
    "    zs[i + 1] = zs[i] + (z_dot * dt)\n",
    "\n",
    "\n",
    "# Plot\n",
    "ax = plt.figure().add_subplot(projection='3d')\n",
    "\n",
    "ax.plot(xs, ys, zs, lw=0.5)\n",
    "ax.set_xlabel(\"X Axis\")\n",
    "ax.set_ylabel(\"Y Axis\")\n",
    "ax.set_zlabel(\"Z Axis\")\n",
    "ax.set_title(\"Lorenz Attractor\")\n",
    "\n",
    "plt.show()"
   ]
  },
  {
   "cell_type": "code",
   "execution_count": 8,
   "id": "4ce02651",
   "metadata": {},
   "outputs": [
    {
     "name": "stdout",
     "output_type": "stream",
     "text": [
      "(x0)' = -10.000 x0 + 10.000 x1\n",
      "(x1)' = 27.808 x0 + -0.944 x1 + -0.995 x0x2\n",
      "(x2)' = -2.667 x2 + 1.000 x0x1\n"
     ]
    }
   ],
   "source": [
    "import pysindy as ps\n",
    "# Define weak form ODE library\n",
    "# defaults to derivative_order = 0 if not specified,\n",
    "# and if spatial_grid is not specified, defaults to None,\n",
    "# which allows weak form ODEs.\n",
    "time_step = np.linspace(0, 100000*dt, 100001)\n",
    "x_train = np.array([xs, ys, zs]).T\n",
    "library_functions = [lambda x: x, lambda x: x * x, lambda x, y: x * y]\n",
    "library_function_names = [lambda x: x, lambda x: x + x, lambda x, y: x + y]\n",
    "ode_lib = ps.WeakPDELibrary(\n",
    "    library_functions=library_functions,\n",
    "    function_names=library_function_names,\n",
    "    spatiotemporal_grid=time_step,\n",
    "    is_uniform=True,\n",
    "    K=100,\n",
    ")\n",
    "\n",
    "# Instantiate and fit the SINDy model with the integral of u_dot\n",
    "optimizer = ps.SR3(\n",
    "    threshold=0.05, \n",
    "    thresholder=\"l1\", \n",
    "    max_iter=10000, \n",
    "    normalize_columns=False, \n",
    "    tol=1\n",
    ")\n",
    "model = ps.SINDy(feature_library=ode_lib, optimizer=optimizer)\n",
    "model.fit(x_train)\n",
    "model.print()"
   ]
  },
  {
   "cell_type": "markdown",
   "id": "6ff41457",
   "metadata": {},
   "source": []
  },
  {
   "cell_type": "code",
   "execution_count": null,
   "id": "9637935c",
   "metadata": {},
   "outputs": [],
   "source": []
  }
 ],
 "metadata": {
  "interpreter": {
   "hash": "043433d6b18bdeb8544c06540320f4c494e406f840db1fa6d3d1188f7786a55f"
  },
  "kernelspec": {
   "display_name": "Python 3 (ipykernel)",
   "language": "python",
   "name": "python3"
  },
  "language_info": {
   "codemirror_mode": {
    "name": "ipython",
    "version": 3
   },
   "file_extension": ".py",
   "mimetype": "text/x-python",
   "name": "python",
   "nbconvert_exporter": "python",
   "pygments_lexer": "ipython3",
   "version": "3.7.0"
  }
 },
 "nbformat": 4,
 "nbformat_minor": 5
}
