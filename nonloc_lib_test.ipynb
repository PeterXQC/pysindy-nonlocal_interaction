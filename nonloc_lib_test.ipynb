{
 "cells": [
  {
   "cell_type": "code",
   "execution_count": 1,
   "id": "a14d93b2-4b1a-42d9-8e16-39fef9f31dc9",
   "metadata": {},
   "outputs": [],
   "source": [
    "import numpy as np\n",
    "from matplotlib import pyplot as plt\n",
    "from scipy.integrate import solve_ivp\n",
    "import timeit\n",
    "import pysindy as ps\n",
    "import pandas as pd\n",
    "import io\n",
    "import sys"
   ]
  },
  {
   "cell_type": "code",
   "execution_count": 2,
   "id": "aedf7865-3c96-4e86-97fc-338ea448678a",
   "metadata": {},
   "outputs": [],
   "source": [
    "def alphalap(u, alpha):\n",
    "    utilde=np.fft.fftn(u)\n",
    "    alphalap=np.real(np.fft.ifftn(-k2**(alpha/2)*utilde))\n",
    "    return alphalap\n",
    "\n",
    "def fractionaldiffusion(t,u, alpha):\n",
    "    lap=alphalap(u.reshape((n,n)),alpha)\n",
    "    return lap.ravel()"
   ]
  },
  {
   "cell_type": "code",
   "execution_count": 3,
   "id": "8f0b395c-17ad-44cb-b98b-5bc066ce11a1",
   "metadata": {},
   "outputs": [],
   "source": [
    "n=128\n",
    "L=10\n",
    "\n",
    "#define these first so they don't have to be reallocated each step\n",
    "k=np.zeros((n,n,2)) \n",
    "k[:n//2+1,:,0]=2*np.pi/(L)*np.arange(n//2+1)[:,np.newaxis]\n",
    "k[n//2+1:,:,0]=2*np.pi/(L)*(1-n//2+np.arange(n//2-1)[:,np.newaxis])\n",
    "k[:,:n//2+1,1]=2*np.pi/(L)*np.arange(n//2+1)[np.newaxis,:]\n",
    "k[:,n//2+1:,1]=2*np.pi/(L)*(1-n//2+np.arange(n//2-1)[np.newaxis,:])\n",
    "k2=(k[:,:,0]**2+k[:,:,1]**2)\n",
    "\n",
    "u0=2+(np.sin(2*np.pi*np.arange(n)[:,np.newaxis]/n)+np.cos(4*np.pi*np.arange(n)[np.newaxis,:]/n)+np.cos(6*np.pi*(np.arange(n)[np.newaxis,:]/n+np.arange(n)[:,np.newaxis]/n))).ravel()\n",
    "T=1.0\n",
    "nt=201\n",
    "alpha = np.arange(1, 3.1, 0.1)"
   ]
  },
  {
   "cell_type": "code",
   "execution_count": 4,
   "id": "dc484903",
   "metadata": {
    "scrolled": true
   },
   "outputs": [
    {
     "name": "stdout",
     "output_type": "stream",
     "text": [
      "0\n",
      "ST shape: (128, 128, 201, 3)\n",
      "Predicted Num nonloc feature: 16\n"
     ]
    },
    {
     "name": "stderr",
     "output_type": "stream",
     "text": [
      "/home/qcx/miniconda3/lib/python3.10/site-packages/sklearn/utils/extmath.py:193: RuntimeWarning: invalid value encountered in matmul\n",
      "  ret = a @ b\n"
     ]
    },
    {
     "name": "stdout",
     "output_type": "stream",
     "text": [
      "Captured result was: (x0)' = 0.796 x0_22 + -1.637 x0_12 + 1.591 x0_11 + 144223.689 ind 0 int 0 fea 0 + 144223.689 ind 0 int 1 fea 0 + -144223.689 ind 0 int 2 fea 0 + -144223.689 ind 0 int 3 fea 0 + -264460.816 ind 2 int 0 fea 0 + -264460.816 ind 2 int 1 fea 0 + 264460.816 ind 2 int 2 fea 0 + 264460.816 ind 2 int 3 fea 0\n",
      "\n",
      "1\n",
      "ST shape: (128, 128, 201, 3)\n",
      "Predicted Num nonloc feature: 16\n"
     ]
    },
    {
     "name": "stderr",
     "output_type": "stream",
     "text": [
      "/home/qcx/miniconda3/lib/python3.10/site-packages/sklearn/utils/extmath.py:193: RuntimeWarning: invalid value encountered in matmul\n",
      "  ret = a @ b\n"
     ]
    },
    {
     "name": "stdout",
     "output_type": "stream",
     "text": [
      "Captured result was: (x0)' = 0.814 x0_22 + -1.506 x0_12 + 1.519 x0_11\n",
      "\n",
      "2\n",
      "ST shape: (128, 128, 201, 3)\n",
      "Predicted Num nonloc feature: 16\n"
     ]
    },
    {
     "name": "stderr",
     "output_type": "stream",
     "text": [
      "/home/qcx/miniconda3/lib/python3.10/site-packages/sklearn/utils/extmath.py:193: RuntimeWarning: invalid value encountered in matmul\n",
      "  ret = a @ b\n"
     ]
    },
    {
     "name": "stdout",
     "output_type": "stream",
     "text": [
      "Captured result was: (x0)' = 0.833 x0_22 + -1.370 x0_12 + 1.449 x0_11 + 158745.765 ind 0 int 0 fea 0 + 158745.766 ind 0 int 1 fea 0 + -158745.766 ind 0 int 2 fea 0 + -158745.765 ind 0 int 3 fea 0 + -148423.566 ind 1 int 0 fea 0 + -148423.566 ind 1 int 1 fea 0 + 148423.566 ind 1 int 2 fea 0 + 148423.566 ind 1 int 3 fea 0 + -163645.827 ind 2 int 0 fea 0 + -163645.827 ind 2 int 1 fea 0 + 163645.827 ind 2 int 2 fea 0 + 163645.827 ind 2 int 3 fea 0 + 127488.080 ind 3 int 0 fea 0 + 127488.080 ind 3 int 1 fea 0 + -127488.080 ind 3 int 2 fea 0 + -127488.080 ind 3 int 3 fea 0\n",
      "\n",
      "3\n",
      "ST shape: (128, 128, 201, 3)\n",
      "Predicted Num nonloc feature: 16\n"
     ]
    },
    {
     "name": "stderr",
     "output_type": "stream",
     "text": [
      "/home/qcx/miniconda3/lib/python3.10/site-packages/sklearn/utils/extmath.py:193: RuntimeWarning: invalid value encountered in matmul\n",
      "  ret = a @ b\n"
     ]
    },
    {
     "name": "stdout",
     "output_type": "stream",
     "text": [
      "Captured result was: (x0)' = 0.852 x0_22 + -1.230 x0_12 + 1.384 x0_11\n",
      "\n",
      "4\n",
      "ST shape: (128, 128, 201, 3)\n",
      "Predicted Num nonloc feature: 16\n"
     ]
    },
    {
     "name": "stderr",
     "output_type": "stream",
     "text": [
      "/home/qcx/miniconda3/lib/python3.10/site-packages/sklearn/utils/extmath.py:193: RuntimeWarning: invalid value encountered in matmul\n",
      "  ret = a @ b\n"
     ]
    },
    {
     "name": "stdout",
     "output_type": "stream",
     "text": [
      "Captured result was: (x0)' = 0.872 x0_22 + -1.083 x0_12 + 1.321 x0_11\n",
      "\n",
      "5\n",
      "ST shape: (128, 128, 201, 3)\n",
      "Predicted Num nonloc feature: 16\n"
     ]
    },
    {
     "name": "stderr",
     "output_type": "stream",
     "text": [
      "/home/qcx/miniconda3/lib/python3.10/site-packages/sklearn/utils/extmath.py:193: RuntimeWarning: invalid value encountered in matmul\n",
      "  ret = a @ b\n"
     ]
    },
    {
     "name": "stdout",
     "output_type": "stream",
     "text": [
      "Captured result was: (x0)' = 0.892 x0_22 + -0.928 x0_12 + 1.261 x0_11 + 6792851.120 ind 1 int 0 fea 0 + 6792851.120 ind 1 int 1 fea 0 + -6792851.120 ind 1 int 2 fea 0 + -6792851.120 ind 1 int 3 fea 0\n",
      "\n",
      "6\n",
      "ST shape: (128, 128, 201, 3)\n",
      "Predicted Num nonloc feature: 16\n"
     ]
    },
    {
     "name": "stderr",
     "output_type": "stream",
     "text": [
      "/home/qcx/miniconda3/lib/python3.10/site-packages/sklearn/utils/extmath.py:193: RuntimeWarning: invalid value encountered in matmul\n",
      "  ret = a @ b\n"
     ]
    },
    {
     "name": "stdout",
     "output_type": "stream",
     "text": [
      "Captured result was: (x0)' = 0.913 x0_22 + -0.765 x0_12 + 1.204 x0_11 + -166911.273 ind 0 int 0 fea 0 + -166911.273 ind 0 int 1 fea 0 + 166911.273 ind 0 int 2 fea 0 + 166911.273 ind 0 int 3 fea 0 + 199162.086 ind 1 int 0 fea 0 + 199162.086 ind 1 int 1 fea 0 + -199162.086 ind 1 int 2 fea 0 + -199162.086 ind 1 int 3 fea 0 + 144068.627 ind 2 int 0 fea 0 + 144068.627 ind 2 int 1 fea 0 + -144068.627 ind 2 int 2 fea 0 + -144068.627 ind 2 int 3 fea 0 + -176249.166 ind 3 int 0 fea 0 + -176249.166 ind 3 int 1 fea 0 + 176249.166 ind 3 int 2 fea 0 + 176249.166 ind 3 int 3 fea 0\n",
      "\n",
      "7\n",
      "ST shape: (128, 128, 201, 3)\n",
      "Predicted Num nonloc feature: 16\n"
     ]
    },
    {
     "name": "stderr",
     "output_type": "stream",
     "text": [
      "/home/qcx/miniconda3/lib/python3.10/site-packages/sklearn/utils/extmath.py:193: RuntimeWarning: invalid value encountered in matmul\n",
      "  ret = a @ b\n"
     ]
    },
    {
     "name": "stdout",
     "output_type": "stream",
     "text": [
      "Captured result was: (x0)' = 0.934 x0_22 + -0.593 x0_12 + 1.149 x0_11\n",
      "\n",
      "8\n",
      "ST shape: (128, 128, 201, 3)\n",
      "Predicted Num nonloc feature: 16\n"
     ]
    },
    {
     "name": "stderr",
     "output_type": "stream",
     "text": [
      "/home/qcx/miniconda3/lib/python3.10/site-packages/sklearn/utils/extmath.py:193: RuntimeWarning: invalid value encountered in matmul\n",
      "  ret = a @ b\n"
     ]
    },
    {
     "name": "stdout",
     "output_type": "stream",
     "text": [
      "Captured result was: (x0)' = 0.955 x0_22 + -0.409 x0_12 + 1.097 x0_11\n",
      "\n",
      "9\n",
      "ST shape: (128, 128, 201, 3)\n",
      "Predicted Num nonloc feature: 16\n"
     ]
    },
    {
     "name": "stderr",
     "output_type": "stream",
     "text": [
      "/home/qcx/miniconda3/lib/python3.10/site-packages/sklearn/utils/extmath.py:193: RuntimeWarning: invalid value encountered in matmul\n",
      "  ret = a @ b\n"
     ]
    },
    {
     "name": "stdout",
     "output_type": "stream",
     "text": [
      "Captured result was: (x0)' = 0.977 x0_22 + -0.211 x0_12 + 1.047 x0_11\n",
      "\n",
      "10\n",
      "ST shape: (128, 128, 201, 3)\n",
      "Predicted Num nonloc feature: 16\n"
     ]
    },
    {
     "name": "stderr",
     "output_type": "stream",
     "text": [
      "/home/qcx/miniconda3/lib/python3.10/site-packages/sklearn/utils/extmath.py:193: RuntimeWarning: invalid value encountered in matmul\n",
      "  ret = a @ b\n"
     ]
    },
    {
     "name": "stdout",
     "output_type": "stream",
     "text": [
      "Captured result was: (x0)' = 1.000 x0_22 + 1.000 x0_11 + -5659577.929 ind 0 int 0 fea 0 + -5659577.929 ind 0 int 1 fea 0 + 5659577.929 ind 0 int 2 fea 0 + 5659577.929 ind 0 int 3 fea 0 + -4713755.147 ind 1 int 0 fea 0 + -4713755.147 ind 1 int 1 fea 0 + 4713755.147 ind 1 int 2 fea 0 + 4713755.147 ind 1 int 3 fea 0\n",
      "\n",
      "11\n",
      "ST shape: (128, 128, 201, 3)\n",
      "Predicted Num nonloc feature: 16\n"
     ]
    },
    {
     "name": "stderr",
     "output_type": "stream",
     "text": [
      "/home/qcx/miniconda3/lib/python3.10/site-packages/sklearn/utils/extmath.py:193: RuntimeWarning: invalid value encountered in matmul\n",
      "  ret = a @ b\n"
     ]
    },
    {
     "name": "stdout",
     "output_type": "stream",
     "text": [
      "Captured result was: (x0)' = 1.023 x0_22 + 0.229 x0_12 + 0.954 x0_11 + 510653.961 ind 0 int 0 fea 0 + 510653.961 ind 0 int 1 fea 0 + -510653.961 ind 0 int 2 fea 0 + -510653.961 ind 0 int 3 fea 0 + 331065.916 ind 1 int 0 fea 0 + 331065.916 ind 1 int 1 fea 0 + -331065.916 ind 1 int 2 fea 0 + -331065.916 ind 1 int 3 fea 0 + -6977735.074 ind 2 int 0 fea 0 + -6977735.074 ind 2 int 1 fea 0 + 6977735.074 ind 2 int 2 fea 0 + 6977735.074 ind 2 int 3 fea 0 + -15737298.885 ind 3 int 0 fea 0 + -15737298.885 ind 3 int 1 fea 0 + 15737298.885 ind 3 int 2 fea 0 + 15737298.885 ind 3 int 3 fea 0\n",
      "\n",
      "12\n",
      "ST shape: (128, 128, 201, 3)\n",
      "Predicted Num nonloc feature: 16\n"
     ]
    },
    {
     "name": "stderr",
     "output_type": "stream",
     "text": [
      "/home/qcx/miniconda3/lib/python3.10/site-packages/sklearn/utils/extmath.py:193: RuntimeWarning: invalid value encountered in matmul\n",
      "  ret = a @ b\n"
     ]
    },
    {
     "name": "stdout",
     "output_type": "stream",
     "text": [
      "Captured result was: (x0)' = 1.047 x0_22 + 0.476 x0_12 + 0.911 x0_11 + -77988.322 ind 1 int 0 fea 0 + -77988.322 ind 1 int 1 fea 0 + 77988.322 ind 1 int 2 fea 0 + 77988.322 ind 1 int 3 fea 0 + -12736.471 ind 2 int 0 fea 0 + -12736.471 ind 2 int 1 fea 0 + 12736.471 ind 2 int 2 fea 0 + 12736.471 ind 2 int 3 fea 0 + 88186.680 ind 3 int 0 fea 0 + 88186.680 ind 3 int 1 fea 0 + -88186.680 ind 3 int 2 fea 0 + -88186.680 ind 3 int 3 fea 0\n",
      "\n",
      "13\n",
      "ST shape: (128, 128, 201, 3)\n",
      "Predicted Num nonloc feature: 16\n"
     ]
    },
    {
     "name": "stderr",
     "output_type": "stream",
     "text": [
      "/home/qcx/miniconda3/lib/python3.10/site-packages/sklearn/utils/extmath.py:193: RuntimeWarning: invalid value encountered in matmul\n",
      "  ret = a @ b\n"
     ]
    },
    {
     "name": "stdout",
     "output_type": "stream",
     "text": [
      "Captured result was: (x0)' = 1.071 x0_22 + 0.745 x0_12 + 0.869 x0_11 + 163867.042 ind 0 int 0 fea 0 + 163867.042 ind 0 int 1 fea 0 + -163867.042 ind 0 int 2 fea 0 + -163867.042 ind 0 int 3 fea 0 + -162750.285 ind 1 int 0 fea 0 + -162750.285 ind 1 int 1 fea 0 + 162750.285 ind 1 int 2 fea 0 + 162750.285 ind 1 int 3 fea 0 + -160377.956 ind 2 int 0 fea 0 + -160377.956 ind 2 int 1 fea 0 + 160377.956 ind 2 int 2 fea 0 + 160377.956 ind 2 int 3 fea 0 + 166349.463 ind 3 int 0 fea 0 + 166349.463 ind 3 int 1 fea 0 + -166349.463 ind 3 int 2 fea 0 + -166349.463 ind 3 int 3 fea 0\n",
      "\n",
      "14\n",
      "ST shape: (128, 128, 201, 3)\n",
      "Predicted Num nonloc feature: 16\n"
     ]
    },
    {
     "name": "stderr",
     "output_type": "stream",
     "text": [
      "/home/qcx/miniconda3/lib/python3.10/site-packages/sklearn/utils/extmath.py:193: RuntimeWarning: invalid value encountered in matmul\n",
      "  ret = a @ b\n"
     ]
    },
    {
     "name": "stdout",
     "output_type": "stream",
     "text": [
      "Captured result was: (x0)' = 1.096 x0_22 + 1.035 x0_12 + 0.830 x0_11\n",
      "\n",
      "15\n",
      "ST shape: (128, 128, 201, 3)\n",
      "Predicted Num nonloc feature: 16\n"
     ]
    },
    {
     "name": "stderr",
     "output_type": "stream",
     "text": [
      "/home/qcx/miniconda3/lib/python3.10/site-packages/sklearn/utils/extmath.py:193: RuntimeWarning: invalid value encountered in matmul\n",
      "  ret = a @ b\n"
     ]
    },
    {
     "name": "stdout",
     "output_type": "stream",
     "text": [
      "Captured result was: (x0)' = 1.121 x0_22 + 1.353 x0_12 + 0.793 x0_11\n",
      "\n",
      "16\n",
      "ST shape: (128, 128, 201, 3)\n",
      "Predicted Num nonloc feature: 16\n"
     ]
    },
    {
     "name": "stderr",
     "output_type": "stream",
     "text": [
      "/home/qcx/miniconda3/lib/python3.10/site-packages/sklearn/utils/extmath.py:193: RuntimeWarning: invalid value encountered in matmul\n",
      "  ret = a @ b\n"
     ]
    },
    {
     "name": "stdout",
     "output_type": "stream",
     "text": [
      "Captured result was: (x0)' = 1.147 x0_22 + 1.700 x0_12 + 0.756 x0_11 + 42312883.659 ind 0 int 0 fea 0 + 42312883.659 ind 0 int 1 fea 0 + -42312883.659 ind 0 int 2 fea 0 + -42312883.659 ind 0 int 3 fea 0 + -44290827.756 ind 1 int 0 fea 0 + -44290827.756 ind 1 int 1 fea 0 + 44290827.756 ind 1 int 2 fea 0 + 44290827.756 ind 1 int 3 fea 0 + -17653510.923 ind 2 int 0 fea 0 + -17653510.923 ind 2 int 1 fea 0 + 17653510.923 ind 2 int 2 fea 0 + 17653510.923 ind 2 int 3 fea 0 + -61993691.529 ind 3 int 0 fea 0 + -61993691.529 ind 3 int 1 fea 0 + 61993691.529 ind 3 int 2 fea 0 + 61993691.529 ind 3 int 3 fea 0\n",
      "\n",
      "17\n",
      "ST shape: (128, 128, 201, 3)\n",
      "Predicted Num nonloc feature: 16\n"
     ]
    },
    {
     "name": "stderr",
     "output_type": "stream",
     "text": [
      "/home/qcx/miniconda3/lib/python3.10/site-packages/sklearn/utils/extmath.py:193: RuntimeWarning: invalid value encountered in matmul\n",
      "  ret = a @ b\n"
     ]
    },
    {
     "name": "stdout",
     "output_type": "stream",
     "text": [
      "Captured result was: (x0)' = -71.150 x0_2 + 1.173 x0_22 + -45.057 x0_222 + 91.670 x0_1 + 2.080 x0_12 + -224.967 x0_122 + 0.722 x0_11 + 43.595 x0_112 + 232.204 x0_111 + -10008483.396 ind 0 int 0 fea 0 + -10008483.396 ind 0 int 1 fea 0 + 10008483.396 ind 0 int 2 fea 0 + 10008483.396 ind 0 int 3 fea 0 + -39262369.840 ind 1 int 0 fea 0 + -39262369.840 ind 1 int 1 fea 0 + 39262369.840 ind 1 int 2 fea 0 + 39262369.840 ind 1 int 3 fea 0 + 72661057.510 ind 2 int 0 fea 0 + 72661057.511 ind 2 int 1 fea 0 + -72661057.510 ind 2 int 2 fea 0 + -72661057.510 ind 2 int 3 fea 0 + -44701721.615 ind 3 int 0 fea 0 + -44701721.615 ind 3 int 1 fea 0 + 44701721.615 ind 3 int 2 fea 0 + 44701721.615 ind 3 int 3 fea 0\n",
      "\n",
      "18\n",
      "ST shape: (128, 128, 201, 3)\n",
      "Predicted Num nonloc feature: 16\n"
     ]
    },
    {
     "name": "stderr",
     "output_type": "stream",
     "text": [
      "/home/qcx/miniconda3/lib/python3.10/site-packages/sklearn/utils/extmath.py:193: RuntimeWarning: invalid value encountered in matmul\n",
      "  ret = a @ b\n"
     ]
    },
    {
     "name": "stdout",
     "output_type": "stream",
     "text": [
      "Captured result was: (x0)' = 945.707 x0_2 + 1.201 x0_22 + 598.876 x0_222 + -1543.608 x0_1 + 2.495 x0_12 + 3745.502 x0_122 + 0.689 x0_11 + -602.652 x0_112 + -3910.004 x0_111 + 4080290.188 ind 0 int 0 fea 0 + 4080290.188 ind 0 int 1 fea 0 + -4080290.188 ind 0 int 2 fea 0 + -4080290.188 ind 0 int 3 fea 0 + 25866147.066 ind 1 int 0 fea 0 + 25866147.066 ind 1 int 1 fea 0 + -25866147.066 ind 1 int 2 fea 0 + -25866147.066 ind 1 int 3 fea 0 + -13433211.243 ind 2 int 0 fea 0 + -13433211.243 ind 2 int 1 fea 0 + 13433211.243 ind 2 int 2 fea 0 + 13433211.243 ind 2 int 3 fea 0 + 74183805.713 ind 3 int 0 fea 0 + 74183805.713 ind 3 int 1 fea 0 + -74183805.713 ind 3 int 2 fea 0 + -74183805.713 ind 3 int 3 fea 0\n",
      "\n",
      "19\n",
      "ST shape: (128, 128, 201, 3)\n",
      "Predicted Num nonloc feature: 16\n"
     ]
    },
    {
     "name": "stderr",
     "output_type": "stream",
     "text": [
      "/home/qcx/miniconda3/lib/python3.10/site-packages/sklearn/utils/extmath.py:193: RuntimeWarning: invalid value encountered in matmul\n",
      "  ret = a @ b\n"
     ]
    },
    {
     "name": "stdout",
     "output_type": "stream",
     "text": [
      "Captured result was: (x0)' = 1.228 x0_22 + -24617.286 x0_1 + 2.951 x0_12 + 63207.179 x0_122 + 0.658 x0_11 + -7779.344 x0_112 + -62356.314 x0_111 + 6693169.246 ind 0 int 0 fea 0 + 6693169.246 ind 0 int 1 fea 0 + -6693169.246 ind 0 int 2 fea 0 + -6693169.246 ind 0 int 3 fea 0 + 34761465.816 ind 1 int 0 fea 0 + 34761465.817 ind 1 int 1 fea 0 + -34761465.816 ind 1 int 2 fea 0 + -34761465.816 ind 1 int 3 fea 0 + -83923436.101 ind 2 int 0 fea 0 + -83923436.101 ind 2 int 1 fea 0 + 83923436.101 ind 2 int 2 fea 0 + 83923436.101 ind 2 int 3 fea 0 + -134749582.457 ind 3 int 0 fea 0 + -134749582.457 ind 3 int 1 fea 0 + 134749582.457 ind 3 int 2 fea 0 + 134749582.457 ind 3 int 3 fea 0\n",
      "\n",
      "20\n",
      "ST shape: (128, 128, 201, 3)\n",
      "Predicted Num nonloc feature: 16\n"
     ]
    },
    {
     "name": "stderr",
     "output_type": "stream",
     "text": [
      "/home/qcx/miniconda3/lib/python3.10/site-packages/sklearn/utils/extmath.py:193: RuntimeWarning: invalid value encountered in matmul\n",
      "  ret = a @ b\n"
     ]
    },
    {
     "name": "stdout",
     "output_type": "stream",
     "text": [
      "Captured result was: (x0)' = 14955.041 x0_2 + 1.257 x0_22 + 9470.390 x0_222 + -37702.122 x0_1 + 3.451 x0_12 + 87955.178 x0_122 + 0.628 x0_11 + -8327.091 x0_112 + -95500.592 x0_111 + 87187794.606 ind 0 int 0 fea 0 + 87187794.606 ind 0 int 1 fea 0 + -87187794.606 ind 0 int 2 fea 0 + -87187794.606 ind 0 int 3 fea 0 + 36644646.513 ind 2 int 0 fea 0 + 36644646.513 ind 2 int 1 fea 0 + -36644646.513 ind 2 int 2 fea 0 + -36644646.513 ind 2 int 3 fea 0 + -149883302.203 ind 3 int 0 fea 0 + -149883302.203 ind 3 int 1 fea 0 + 149883302.203 ind 3 int 2 fea 0 + 149883302.203 ind 3 int 3 fea 0\n",
      "\n",
      "0\n",
      "Captured result was: (x0)' = 0.796 x0_22 + -1.637 x0_12 + 1.592 x0_11\n",
      "\n",
      "1\n",
      "Captured result was: (x0)' = 0.814 x0_22 + -1.506 x0_12 + 1.519 x0_11\n",
      "\n",
      "2\n",
      "Captured result was: (x0)' = 0.833 x0_22 + -1.370 x0_12 + 1.450 x0_11\n",
      "\n",
      "3\n",
      "Captured result was: (x0)' = 0.852 x0_22 + -1.230 x0_12 + 1.384 x0_11\n",
      "\n",
      "4\n",
      "Captured result was: (x0)' = 0.872 x0_22 + -1.083 x0_12 + 1.321 x0_11\n",
      "\n",
      "5\n",
      "Captured result was: (x0)' = 0.892 x0_22 + -0.928 x0_12 + 1.261 x0_11\n",
      "\n",
      "6\n",
      "Captured result was: (x0)' = 0.913 x0_22 + -0.766 x0_12 + 1.204 x0_11\n",
      "\n",
      "7\n",
      "Captured result was: (x0)' = 0.934 x0_22 + -0.593 x0_12 + 1.149 x0_11\n",
      "\n",
      "8\n",
      "Captured result was: (x0)' = 0.955 x0_22 + -0.409 x0_12 + 1.097 x0_11\n",
      "\n",
      "9\n",
      "Captured result was: (x0)' = 0.977 x0_22 + -0.211 x0_12 + 1.047 x0_11\n",
      "\n",
      "10\n",
      "Captured result was: (x0)' = 1.000 x0_22 + 1.000 x0_11\n",
      "\n",
      "11\n",
      "Captured result was: (x0)' = 1.023 x0_22 + 0.229 x0_12 + 0.954 x0_11\n",
      "\n",
      "12\n",
      "Captured result was: (x0)' = 1.047 x0_22 + 0.476 x0_12 + 0.911 x0_11\n",
      "\n",
      "13\n",
      "Captured result was: (x0)' = 1.071 x0_22 + 0.744 x0_12 + 0.870 x0_11\n",
      "\n",
      "14\n",
      "Captured result was: (x0)' = 1.096 x0_22 + 1.035 x0_12 + 0.830 x0_11\n",
      "\n",
      "15\n",
      "Captured result was: (x0)' = 1.121 x0_22 + 1.353 x0_12 + 0.793 x0_11\n",
      "\n",
      "16\n",
      "Captured result was: (x0)' = 1.147 x0_22 + 1.700 x0_12 + 0.757 x0_11\n",
      "\n",
      "17\n",
      "Captured result was: (x0)' = 0.165 x0_2 + 1.173 x0_22 + 0.104 x0_222 + -0.213 x0_1 + 2.079 x0_12 + 0.522 x0_122 + 0.722 x0_11 + -0.101 x0_112 + -0.538 x0_111\n",
      "\n",
      "18\n",
      "Captured result was: (x0)' = 3590.382 x0_2 + 1.201 x0_22 + 2273.636 x0_222 + -4636.091 x0_1 + 2.495 x0_12 + 11376.366 x0_122 + 0.689 x0_11 + -2200.960 x0_112 + -11743.355 x0_111\n",
      "\n",
      "19\n",
      "Captured result was: (x0)' = 1.228 x0_22 + 2.950 x0_12 + -56.942 x0_122 + 0.658 x0_11 + 56.942 x0_112\n",
      "\n",
      "20\n",
      "Captured result was: (x0)' = -591.802 x0_2 + 1.257 x0_22 + -374.763 x0_222 + -4904.183 x0_1 + 3.451 x0_12 + 12483.850 x0_122 + 0.628 x0_11 + -1233.480 x0_112 + -12422.440 x0_111\n",
      "\n"
     ]
    }
   ],
   "source": [
    "results = []\n",
    "\n",
    "for i in range(len(alpha)):\n",
    "    print(i)\n",
    "    row = {\"alpha\": alpha[i]}\n",
    "    \n",
    "    t = np.linspace(0, T, nt)\n",
    "    start = timeit.default_timer()\n",
    "    usol = solve_ivp(\n",
    "        fractionaldiffusion, (0, T), y0=u0, t_eval=t, \n",
    "        args=(alpha[i],), method='RK45', rtol=1e-6, atol=1e-6,\n",
    "    )\n",
    "    stop = timeit.default_timer()\n",
    "\n",
    "    row[\"solve time\"] = stop - start\n",
    "\n",
    "    # Construct ST-grid\n",
    "    x = np.arange(n)*L/n\n",
    "    y = np.arange(n)*L/n\n",
    "    X, Y, time = np.meshgrid(x, y, t)\n",
    "    XY = np.asarray([X, Y, time])\n",
    "    spatiotemporal_grid = np.transpose(XY, axes=[2, 1, 3, 0])\n",
    "    print(\"ST shape:\", np.shape(spatiotemporal_grid))\n",
    "\n",
    "    # Do a pysindy fit!\n",
    "    u = usol.y.reshape(n, n, 201, 1)\n",
    "    spatial_grid = np.zeros((n, n, 2))\n",
    "    spatial_grid[:, :, 0] = np.arange(n)[:, np.newaxis] * L / n\n",
    "    spatial_grid[:, :, 1] = np.arange(n)[np.newaxis, :] * L / n\n",
    "    dt = T / (nt - 1)\n",
    "\n",
    "    library_functions = []\n",
    "    library_function_names = []\n",
    "\n",
    "    nonloc_lib = ps.NonlocPDELibrary(\n",
    "        library_functions=library_functions,\n",
    "        function_names=library_function_names,\n",
    "        derivative_order=3, spatiotemporal_grid=spatiotemporal_grid,\n",
    "        include_bias=True, differentiation_method=ps.SpectralDerivative\n",
    "    )\n",
    "\n",
    "    optimizer = ps.STLSQ(threshold=1e-2, alpha=1e-12, normalize_columns=False)\n",
    "    model = ps.SINDy(feature_library=nonloc_lib, optimizer=optimizer)\n",
    "    model.fit(u, t=dt)\n",
    "    \n",
    "    row[\"score\"] = model.score(u, t=dt)\n",
    "\n",
    "    # Create a buffer to capture the printed output\n",
    "    output_buffer = io.StringIO()\n",
    "\n",
    "    # Redirect the standard output to the buffer\n",
    "    sys.stdout = output_buffer\n",
    "\n",
    "    # Print something (it will go to the buffer instead of the console)\n",
    "    model.print()\n",
    "\n",
    "    # Reset the standard output to its original value\n",
    "    sys.stdout = sys.__stdout__\n",
    "\n",
    "    # Fetch the printed line into a variable\n",
    "    printed_line = output_buffer.getvalue()\n",
    "\n",
    "    # Don't forget to close the buffer\n",
    "    output_buffer.close()\n",
    "\n",
    "    # Now, printed_line contains the printed text\n",
    "    print(f\"Captured result was: {printed_line}\")\n",
    "\n",
    "    row[\"result\"] = printed_line\n",
    "\n",
    "    results.append(row)\n",
    "\n",
    "df = pd.DataFrame(results)\n",
    "df.to_excel(\"nonloc_results.xlsx\", index=False)\n"
   ]
  },
  {
   "cell_type": "code",
   "execution_count": 5,
   "id": "2762b075",
   "metadata": {},
   "outputs": [],
   "source": [
    "results = []\n",
    "\n",
    "for i in range(len(alpha)):\n",
    "    print(i)\n",
    "    row = {\"alpha\": alpha[i]}\n",
    "    \n",
    "    t = np.linspace(0, T, nt)\n",
    "    start = timeit.default_timer()\n",
    "    usol = solve_ivp(\n",
    "        fractionaldiffusion, (0, T), y0=u0, t_eval=t, \n",
    "        args=(alpha[i],), method='RK45', rtol=1e-6, atol=1e-6,\n",
    "    )\n",
    "    stop = timeit.default_timer()\n",
    "\n",
    "    row[\"solve time\"] = stop - start\n",
    "\n",
    "    # Do a pysindy fit!\n",
    "    u = usol.y.reshape(n, n, 201, 1)\n",
    "    spatial_grid = np.zeros((n, n, 2))\n",
    "    spatial_grid[:, :, 0] = np.arange(n)[:, np.newaxis] * L / n\n",
    "    spatial_grid[:, :, 1] = np.arange(n)[np.newaxis, :] * L / n\n",
    "    dt = T / (nt - 1)\n",
    "\n",
    "    library_functions = []\n",
    "    library_function_names = []\n",
    "    pde_lib = ps.PDELibrary(\n",
    "        library_functions=library_functions, \n",
    "        function_names=library_function_names, \n",
    "        derivative_order=3, spatial_grid=spatial_grid, \n",
    "        include_bias=True, differentiation_method=ps.SpectralDerivative\n",
    "    )\n",
    "\n",
    "    optimizer = ps.STLSQ(threshold=1e-2, alpha=1e-12, normalize_columns=False)\n",
    "    model = ps.SINDy(feature_library=pde_lib, optimizer=optimizer)\n",
    "    model.fit(u, t=dt)\n",
    "    \n",
    "    row[\"score\"] = model.score(u, t=dt)\n",
    "\n",
    "    # Create a buffer to capture the printed output\n",
    "    output_buffer = io.StringIO()\n",
    "\n",
    "    # Redirect the standard output to the buffer\n",
    "    sys.stdout = output_buffer\n",
    "\n",
    "    # Print something (it will go to the buffer instead of the console)\n",
    "    model.print()\n",
    "\n",
    "    # Reset the standard output to its original value\n",
    "    sys.stdout = sys.__stdout__\n",
    "\n",
    "    # Fetch the printed line into a variable\n",
    "    printed_line = output_buffer.getvalue()\n",
    "\n",
    "    # Don't forget to close the buffer\n",
    "    output_buffer.close()\n",
    "\n",
    "    # Now, printed_line contains the printed text\n",
    "    print(f\"Captured result was: {printed_line}\")\n",
    "\n",
    "    row[\"result\"] = printed_line\n",
    "\n",
    "    results.append(row)\n",
    "\n",
    "df = pd.DataFrame(results)\n",
    "df.to_excel(\"results.xlsx\", index=False)\n"
   ]
  },
  {
   "cell_type": "code",
   "execution_count": 3,
   "id": "5b7c2869",
   "metadata": {},
   "outputs": [
    {
     "data": {
      "image/png": "[encoded data removed]",
      "text/plain": [
       "<Figure size 640x480 with 1 Axes>"
      ]
     },
     "metadata": {},
     "output_type": "display_data"
    }
   ],
   "source": [
    "import pandas as pd\n",
    "import matplotlib.pyplot as plt\n",
    "\n",
    "data1 = pd.read_excel(\"results.xlsx\")\n",
    "data2 = pd.read_excel(\"nonloc_results.xlsx\")\n",
    "\n",
    "alpha = data1[\"alpha\"]\n",
    "st1 = data1[\"solve time\"]\n",
    "st2 = data2[\"solve time\"]\n",
    "\n",
    "plt.plot(alpha, st1, label=\"pde\")\n",
    "plt.plot(alpha, st2, label=\"nonloc\")\n",
    "plt.legend()\n",
    "plt.show()"
   ]
  },
  {
   "cell_type": "code",
   "execution_count": 4,
   "id": "5c48c2f8",
   "metadata": {},
   "outputs": [
    {
     "data": {
      "text/plain": [
       "[<matplotlib.lines.Line2D at 0x7f4ad31550c0>]"
      ]
     },
     "execution_count": 4,
     "metadata": {},
     "output_type": "execute_result"
    },
    {
     "data": {
      "image/png": "[encoded data removed]",
      "text/plain": [
       "<Figure size 640x480 with 1 Axes>"
      ]
     },
     "metadata": {},
     "output_type": "display_data"
    }
   ],
   "source": [
    "sc1 = data1[\"score\"]\n",
    "sc2 = data2[\"score\"]\n",
    "\n",
    "plt.plot(alpha, sc1, label=\"pde\")\n",
    "plt.plot(alpha, sc2, label=\"nonloc\")"
   ]
  },
  {
   "cell_type": "code",
   "execution_count": null,
   "id": "c365052d",
   "metadata": {},
   "outputs": [],
   "source": []
  }
 ],
 "metadata": {
  "kernelspec": {
   "display_name": "Python 3 (ipykernel)",
   "language": "python",
   "name": "python3"
  },
  "language_info": {
   "codemirror_mode": {
    "name": "ipython",
    "version": 3
   },
   "file_extension": ".py",
   "mimetype": "text/x-python",
   "name": "python",
   "nbconvert_exporter": "python",
   "pygments_lexer": "ipython3",
   "version": "3.10.12"
  }
 },
 "nbformat": 4,
 "nbformat_minor": 5
}
